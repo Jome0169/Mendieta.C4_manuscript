{
 "cells": [
  {
   "cell_type": "code",
   "execution_count": 2,
   "id": "78f20ca7",
   "metadata": {
    "scrolled": true
   },
   "outputs": [
    {
     "name": "stderr",
     "output_type": "stream",
     "text": [
      "── \u001b[1mAttaching packages\u001b[22m ───────────────────────────────────────────────────────────────────────────────────────────────────────────────────────────── tidyverse 1.3.2 ──\n",
      "\u001b[32m✔\u001b[39m \u001b[34mggplot2\u001b[39m 3.3.6      \u001b[32m✔\u001b[39m \u001b[34mpurrr  \u001b[39m 0.3.5 \n",
      "\u001b[32m✔\u001b[39m \u001b[34mtibble \u001b[39m 3.1.8      \u001b[32m✔\u001b[39m \u001b[34mdplyr  \u001b[39m 1.0.10\n",
      "\u001b[32m✔\u001b[39m \u001b[34mtidyr  \u001b[39m 1.2.1      \u001b[32m✔\u001b[39m \u001b[34mstringr\u001b[39m 1.4.1 \n",
      "\u001b[32m✔\u001b[39m \u001b[34mreadr  \u001b[39m 2.1.2      \u001b[32m✔\u001b[39m \u001b[34mforcats\u001b[39m 0.5.2 \n",
      "Warning message:\n",
      "“package ‘ggplot2’ was built under R version 4.2.1”\n",
      "Warning message:\n",
      "“package ‘tibble’ was built under R version 4.2.1”\n",
      "Warning message:\n",
      "“package ‘stringr’ was built under R version 4.2.1”\n",
      "── \u001b[1mConflicts\u001b[22m ──────────────────────────────────────────────────────────────────────────────────────────────────────────────────────────────── tidyverse_conflicts() ──\n",
      "\u001b[31m✖\u001b[39m \u001b[34mdplyr\u001b[39m::\u001b[32mfilter()\u001b[39m masks \u001b[34mstats\u001b[39m::filter()\n",
      "\u001b[31m✖\u001b[39m \u001b[34mdplyr\u001b[39m::\u001b[32mlag()\u001b[39m    masks \u001b[34mstats\u001b[39m::lag()\n",
      "\n",
      "Attaching package: ‘Matrix’\n",
      "\n",
      "\n",
      "The following objects are masked from ‘package:tidyr’:\n",
      "\n",
      "    expand, pack, unpack\n",
      "\n",
      "\n"
     ]
    }
   ],
   "source": [
    "library(devtools)\n",
    "library(\"fgsea\")\n",
    "library(devtools)\n",
    "library(tidyverse)\n",
    "library(Matrix)"
   ]
  },
  {
   "cell_type": "code",
   "execution_count": 25,
   "id": "a0dab8df",
   "metadata": {},
   "outputs": [],
   "source": [
    "convertTerms <- function(x){\n",
    "    out <- lapply(seq(1:nrow(x)), function(z){\n",
    "        gids <- strsplit(as.character(x$V2[z]), \"\\\\,\")\n",
    "        gids <- do.call(c, gids)\n",
    "        return(gids)\n",
    "    })\n",
    "    names(out) <- as.character(x$V1)\n",
    "    return(out)\n",
    "}"
   ]
  },
  {
   "cell_type": "code",
   "execution_count": 35,
   "id": "ce681d46",
   "metadata": {},
   "outputs": [],
   "source": [
    "read_table_run_FGSEA <- function(de_seq2_input, location, functional_annotations){\n",
    "    \n",
    "    input_file_name <- here(location, de_seq2_input)\n",
    "    sb_denovo <- read.table(input_file_name,\n",
    "                          header = TRUE)\n",
    "    \n",
    "    sb_denovo.selected <- sb_denovo  %>% \n",
    "        dplyr::select(gene_name, stat)\n",
    "\n",
    "    ranks <- deframe(sb_denovo.selected)\n",
    "    \n",
    "    fgseaRes <- fgsea(pathways=functional_annotations, stats=ranks, \n",
    "                  nperm=10000,\n",
    "                 minSize = 10, maxSize = 600)\n",
    "    \n",
    "    fgseaResTidy <- fgseaRes %>%\n",
    "        as_tibble()\n",
    "        \n",
    "    \n",
    "    fgseaResTidy$celltype <- de_seq2_input\n",
    "\n",
    "    return(fgseaResTidy)\n",
    "}"
   ]
  },
  {
   "cell_type": "code",
   "execution_count": 18,
   "id": "5cfb3e45",
   "metadata": {
    "scrolled": false
   },
   "outputs": [
    {
     "name": "stderr",
     "output_type": "stream",
     "text": [
      "\u001b[1mRows: \u001b[22m\u001b[34m74877\u001b[39m \u001b[1mColumns: \u001b[22m\u001b[34m3\u001b[39m\n",
      "\u001b[36m──\u001b[39m \u001b[1mColumn specification\u001b[22m \u001b[36m──────────────────────────────────────────────────────────────────────────────────────────────────────────────────────────────────────────────\u001b[39m\n",
      "\u001b[1mDelimiter:\u001b[22m \"\\t\"\n",
      "\u001b[31mchr\u001b[39m (3): geneID, term, GOID\n",
      "\n",
      "\u001b[36mℹ\u001b[39m Use `spec()` to retrieve the full column specification for this data.\n",
      "\u001b[36mℹ\u001b[39m Specify the column types or set `show_col_types = FALSE` to quiet this message.\n"
     ]
    }
   ],
   "source": [
    "pathways <- read_delim(\"/home/jpm73279/genome_downloads/Sbicolor.v5.1.prelim.annot/Sbicolorv5.1.GO_terms_from_ZM.txt\", delim = \"\\t\" ,\n",
    "                      col_names = c(\"geneID\", \"term\", \"GOID\"))\n",
    "pathway_format <- pathways  %>% \n",
    "    dplyr::select(geneID, term)  %>% \n",
    "    distinct()  %>% \n",
    "    group_by(term)  %>% \n",
    "    mutate(COUNTER = 1:n()) %>%\n",
    "    ungroup() %>% \n",
    "    group_by(term)  %>% \n",
    "    summarise(funcion = paste(geneID, collapse=\",\"))  %>% \n",
    "    rename(V2 = funcion)  %>% \n",
    "    rename(V1 = term) \n",
    "    "
   ]
  },
  {
   "cell_type": "code",
   "execution_count": 50,
   "id": "0b99061b",
   "metadata": {},
   "outputs": [
    {
     "data": {
      "text/html": [
       "<table class=\"dataframe\">\n",
       "<caption>A data.frame: 6 × 2</caption>\n",
       "<thead>\n",
       "\t<tr><th></th><th scope=col>V1</th><th scope=col>V2</th></tr>\n",
       "\t<tr><th></th><th scope=col>&lt;chr&gt;</th><th scope=col>&lt;chr&gt;</th></tr>\n",
       "</thead>\n",
       "<tbody>\n",
       "\t<tr><th scope=row>1</th><td>'de novo' AMP biosynthetic process                   </td><td>Sobic.001G486700,Sobic.001G126300                                  </td></tr>\n",
       "\t<tr><th scope=row>2</th><td>'de novo' cotranslational protein folding            </td><td>Sobic.006G049900                                                   </td></tr>\n",
       "\t<tr><th scope=row>3</th><td>'de novo' CTP biosynthetic process                   </td><td>Sorbiv5.1_pg8597.valid                                             </td></tr>\n",
       "\t<tr><th scope=row>4</th><td>'de novo' IMP biosynthetic process                   </td><td>Sobic.006G247900,Sobic.001G114400,Sorbiv5.1_pg6149,Sobic.006G083100</td></tr>\n",
       "\t<tr><th scope=row>5</th><td>'de novo' pyrimidine nucleobase biosynthetic process </td><td>Sobic.004G318100                                                   </td></tr>\n",
       "\t<tr><th scope=row>6</th><td>(-)-E-beta-caryophyllene synthase activity           </td><td>Sobic.001G369200                                                   </td></tr>\n",
       "</tbody>\n",
       "</table>\n"
      ],
      "text/latex": [
       "A data.frame: 6 × 2\n",
       "\\begin{tabular}{r|ll}\n",
       "  & V1 & V2\\\\\n",
       "  & <chr> & <chr>\\\\\n",
       "\\hline\n",
       "\t1 & 'de novo' AMP biosynthetic process                    & Sobic.001G486700,Sobic.001G126300                                  \\\\\n",
       "\t2 & 'de novo' cotranslational protein folding             & Sobic.006G049900                                                   \\\\\n",
       "\t3 & 'de novo' CTP biosynthetic process                    & Sorbiv5.1\\_pg8597.valid                                             \\\\\n",
       "\t4 & 'de novo' IMP biosynthetic process                    & Sobic.006G247900,Sobic.001G114400,Sorbiv5.1\\_pg6149,Sobic.006G083100\\\\\n",
       "\t5 & 'de novo' pyrimidine nucleobase biosynthetic process  & Sobic.004G318100                                                   \\\\\n",
       "\t6 & (-)-E-beta-caryophyllene synthase activity            & Sobic.001G369200                                                   \\\\\n",
       "\\end{tabular}\n"
      ],
      "text/markdown": [
       "\n",
       "A data.frame: 6 × 2\n",
       "\n",
       "| <!--/--> | V1 &lt;chr&gt; | V2 &lt;chr&gt; |\n",
       "|---|---|---|\n",
       "| 1 | 'de novo' AMP biosynthetic process                    | Sobic.001G486700,Sobic.001G126300                                   |\n",
       "| 2 | 'de novo' cotranslational protein folding             | Sobic.006G049900                                                    |\n",
       "| 3 | 'de novo' CTP biosynthetic process                    | Sorbiv5.1_pg8597.valid                                              |\n",
       "| 4 | 'de novo' IMP biosynthetic process                    | Sobic.006G247900,Sobic.001G114400,Sorbiv5.1_pg6149,Sobic.006G083100 |\n",
       "| 5 | 'de novo' pyrimidine nucleobase biosynthetic process  | Sobic.004G318100                                                    |\n",
       "| 6 | (-)-E-beta-caryophyllene synthase activity            | Sobic.001G369200                                                    |\n",
       "\n"
      ],
      "text/plain": [
       "  V1                                                   \n",
       "1 'de novo' AMP biosynthetic process                   \n",
       "2 'de novo' cotranslational protein folding            \n",
       "3 'de novo' CTP biosynthetic process                   \n",
       "4 'de novo' IMP biosynthetic process                   \n",
       "5 'de novo' pyrimidine nucleobase biosynthetic process \n",
       "6 (-)-E-beta-caryophyllene synthase activity           \n",
       "  V2                                                                 \n",
       "1 Sobic.001G486700,Sobic.001G126300                                  \n",
       "2 Sobic.006G049900                                                   \n",
       "3 Sorbiv5.1_pg8597.valid                                             \n",
       "4 Sobic.006G247900,Sobic.001G114400,Sorbiv5.1_pg6149,Sobic.006G083100\n",
       "5 Sobic.004G318100                                                   \n",
       "6 Sobic.001G369200                                                   "
      ]
     },
     "metadata": {},
     "output_type": "display_data"
    }
   ],
   "source": [
    "x <- as.data.frame(pathway_format)\n",
    "head(x)"
   ]
  },
  {
   "cell_type": "code",
   "execution_count": 51,
   "id": "fcf1e9f7",
   "metadata": {},
   "outputs": [],
   "source": [
    "sb_functional_annotation <- convertTerms(as.data.frame(pathway_format))\n"
   ]
  },
  {
   "cell_type": "code",
   "execution_count": 29,
   "id": "45a6462f",
   "metadata": {},
   "outputs": [
    {
     "name": "stderr",
     "output_type": "stream",
     "text": [
      "here() starts at /home/jpm73279/Mendieta_et_al_comparative_single_cell\n",
      "\n"
     ]
    }
   ],
   "source": [
    "library(\"here\")"
   ]
  },
  {
   "cell_type": "code",
   "execution_count": 54,
   "id": "04c8516e",
   "metadata": {},
   "outputs": [
    {
     "name": "stdout",
     "output_type": "stream",
     "text": [
      "List of 3418\n",
      " $ 'de novo' AMP biosynthetic process                                                                                                                                   : chr [1:2] \"Sobic.001G486700\" \"Sobic.001G126300\"\n",
      " $ 'de novo' cotranslational protein folding                                                                                                                            : chr \"Sobic.006G049900\"\n",
      " $ 'de novo' CTP biosynthetic process                                                                                                                                   : chr \"Sorbiv5.1_pg8597.valid\"\n",
      " $ 'de novo' IMP biosynthetic process                                                                                                                                   : chr [1:4] \"Sobic.006G247900\" \"Sobic.001G114400\" \"Sorbiv5.1_pg6149\" \"Sobic.006G083100\"\n",
      " $ 'de novo' pyrimidine nucleobase biosynthetic process                                                                                                                 : chr \"Sobic.004G318100\"\n",
      " $ (-)-E-beta-caryophyllene synthase activity                                                                                                                           : chr \"Sobic.001G369200\"\n",
      " $ (+)-abscisic acid 8'-hydroxylase activity                                                                                                                            : chr \"Sobic.007G156300\"\n",
      " $ (1->3)-beta-D-glucan biosynthetic process                                                                                                                            : chr [1:4] \"Sorbiv5.1_pg2635.valid\" \"ta.jpa7.902\" \"Sobic.003G298900\" \"Sorbiv5.1_pg4685\"\n",
      " $ (3R)-hydroxymyristoyl-                                                                                                                                               : chr \"Sobic.007G079600\"\n",
      " $ (S)-2-hydroxy-acid oxidase activity                                                                                                                                  : chr \"Sorbiv5.1_pg15322.valid\"\n",
      " $ 1-(5-phosphoribosyl)-5-                                                                                                                                              : chr \"Sorbiv5.1_pg5850\"\n",
      " $ 1-acylglycerol-3-phosphate O-acyltransferase activity                                                                                                                : chr \"Sobic.005G197100\"\n",
      " $ 1-phosphatidylinositol 4-kinase activity                                                                                                                             : chr \"Sobic.005G104500\"\n",
      " $ 1-phosphatidylinositol binding                                                                                                                                       : chr [1:7] \"Sobic.004G334400\" \"Sorbiv5.1_pg31615.valid\" \"Sobic.007G153400\" \"Sobic.001G420700\" ...\n",
      " $ 1-phosphatidylinositol-3-kinase activity                                                                                                                             : chr \"Sorbiv5.1_pg19771\"\n",
      " $ 1-phosphatidylinositol-3-phosphate 5-kinase activity                                                                                                                 : chr [1:5] \"Sobic.007G004500\" \"Sorbiv5.1_pg7703.valid\" \"Sobic.007G133000\" \"Sobic.007G146400\" ...\n",
      " $ 1-phosphatidylinositol-4-phosphate 5-kinase activity                                                                                                                 : chr [1:8] \"Sorbiv5.1_pg28316.valid\" \"Sorbiv5.1_pg3397.valid\" \"Sobic.005G031700\" \"Sorbiv5.1_pg4197.valid\" ...\n",
      " $ 1,2-alpha-L-fucosidase activity                                                                                                                                      : chr \"Sobic.004G127700\"\n",
      " $ 1,2-diacylglycerol 3-beta-galactosyltransferase activity                                                                                                             : chr \"Sobic.007G211900\"\n",
      " $ 1,3-beta-D-glucan synthase activity                                                                                                                                  : chr [1:4] \"Sorbiv5.1_pg2635.valid\" \"ta.jpa7.902\" \"Sobic.003G298900\" \"Sorbiv5.1_pg4685\"\n",
      " $ 1,3-beta-D-glucan synthase complex                                                                                                                                   : chr [1:4] \"Sorbiv5.1_pg2635.valid\" \"ta.jpa7.902\" \"Sobic.003G298900\" \"Sorbiv5.1_pg4685\"\n",
      " $ 1,4-dihydroxy-2-naphthoyl-CoA thioesterase activity                                                                                                                  : chr \"Sobic.008G190900\"\n",
      " $ 12-oxophytodienoate reductase activity                                                                                                                               : chr \"ta.jpa7.902\"\n",
      " $ 2 iron, 2 sulfur cluster binding                                                                                                                                     : chr [1:12] \"Sorbiv5.1_pg359.valid\" \"Sorbiv5.1_pg2440.valid\" \"Sobic.006G058900\" \"Sorbiv5.1_pg1045.valid\" ...\n",
      " $ 2-alkenal reductase (NADP+) activity                                                                                                                                 : chr \"Sorbiv5.1_pg17549.valid\"\n",
      " $ 2-C-methyl-D-erythritol 2,4-cyclodiphosphate synthase activity                                                                                                       : chr \"Sorbiv5.1_pg20514.valid\"\n",
      " $ 2-hydroxy-3-keto-5-methylthiopentenyl-1-phosphate phosphatase activity                                                                                               : chr \"Sobic.005G110541\"\n",
      " $ 2-hydroxyglutarate dehydrogenase activity                                                                                                                            : chr \"Sorbiv5.1_pg15322.valid\"\n",
      " $ 2-isopropylmalate synthase activity                                                                                                                                  : chr \"Sorbiv5.1_pg31610.valid\"\n",
      " $ 2-methyl-6-phytyl-1,4-benzoquinone methyltransferase activity                                                                                                        : chr \"Sobic.008G171300\"\n",
      " $ 2,3-dihydro-2,3-dihydroxybenzoate dehydrogenase activity                                                                                                             : chr \"Sobic.006G104100\"\n",
      " $ 2,3-diketo-5-methylthiopentyl-1-phosphate enolase activity                                                                                                           : chr \"Sobic.005G110541\"\n",
      " $ 2,4-dihydroxy-7-methoxy-2H-1,4-benzoxazin-3(4H)-one 2-D-glucosyltransferase activity                                                                                 : chr \"Sobic.009G230400\"\n",
      " $ 2',3'-cyclic-nucleotide 2'-phosphodiesterase activity                                                                                                                : chr \"Sobic.007G171600\"\n",
      " $ 23S rRNA (adenine(1618)-N(6))-methyltransferase activity                                                                                                             : chr \"Sobic.004G018300\"\n",
      " $ 3-beta-hydroxy-delta5-steroid dehydrogenase activity                                                                                                                 : chr [1:5] \"Sorbiv5.1_pg2852.valid\" \" Sorbiv5.1_pg2852.valid\" \" Sobic.001G519400\" \"Sobic.002G264300\" ...\n",
      " $ 3-dehydroquinate synthase activity                                                                                                                                   : chr \"Sobic.002G279700\"\n",
      " $ 3-dehydrosphinganine reductase activity                                                                                                                              : chr \"Sobic.004G269700\"\n",
      " $ 3-deoxy-7-phosphoheptulonate synthase activity                                                                                                                       : chr [1:4] \"Sobic.002G379600\" \"Sobic.001G351000\" \" Sobic.001G294500\" \" Sobic.007G225700\"\n",
      " $ 3-hydroxyacyl-CoA dehydrogenase activity                                                                                                                             : chr \"Sobic.004G124200\"\n",
      " $ 3-hydroxybutyrate dehydrogenase activity                                                                                                                             : chr \"Sobic.004G182500\"\n",
      " $ 3-hydroxybutyryl-CoA epimerase activity                                                                                                                              : chr \"Sobic.004G124200\"\n",
      " $ 3-hydroxydecanoyl-                                                                                                                                                   : chr \"Sobic.007G079600\"\n",
      " $ 3-hydroxyisobutyryl-CoA hydrolase activity                                                                                                                           : chr \"Sobic.001G304000\"\n",
      " $ 3-hydroxyoctanoyl-                                                                                                                                                   : chr \"Sobic.007G079600\"\n",
      " $ 3-hydroxypalmitoyl-                                                                                                                                                  : chr \"Sobic.007G079600\"\n",
      " $ 3-keto-sphinganine metabolic process                                                                                                                                 : chr \"Sobic.004G269700\"\n",
      " $ 3-oxo-arachidoyl-CoA synthase activity                                                                                                                               : chr [1:3] \"Sobic.001G264500\" \"Sobic.001G482300\" \"Sobic.001G221900\"\n",
      " $ 3-oxo-cerotoyl-CoA synthase activity                                                                                                                                 : chr [1:3] \"Sobic.001G264500\" \"Sobic.001G482300\" \"Sobic.001G221900\"\n",
      " $ 3-oxo-lignoceronyl-CoA synthase activity                                                                                                                             : chr [1:3] \"Sobic.001G264500\" \"Sobic.001G482300\" \"Sobic.001G221900\"\n",
      " $ 3,4-dihydroxy-2-butanone-4-phosphate synthase activity                                                                                                               : chr \"Sorbiv5.1_pg21669.valid\"\n",
      " $ 3,8-divinyl protochlorophyllide a 8-vinyl reductase activity                                                                                                         : chr \"Sobic.001G372600\"\n",
      " $ 3'-5' DNA helicase activity                                                                                                                                          : chr [1:4] \"Sorbiv5.1_pg32277.valid\" \"Sobic.001G275300\" \"Sorbiv5.1_pg32735.valid\" \"Sorbiv5.1_pg32547.valid\"\n",
      " $ 3'-5' exonuclease activity                                                                                                                                           : chr [1:6] \"Sorbiv5.1_pg2836.valid\" \" Sorbiv5.1_pg17717.valid\" \" Sorbiv5.1_pg4878\" \"Sobic.001G239800\" ...\n",
      " $ 3'-5'-exodeoxyribonuclease activity                                                                                                                                  : chr [1:5] \"Sobic.006G231800\" \"ta.jpa7.902\" \"Sorbiv5.1_pg33592.valid\" \" Sobic.004G049200\" ...\n",
      " $ 3'-5'-exoribonuclease activity                                                                                                                                       : chr [1:7] \"Sorbiv5.1_pg2836.valid\" \" Sorbiv5.1_pg17717.valid\" \" Sorbiv5.1_pg4878\" \"Sobic.001G519900\" ...\n",
      " $ 3'-tRNA processing endoribonuclease activity                                                                                                                         : chr \"Sobic.004G116900\"\n",
      " $ 3''-deamino-3''-oxonicotianamine reductase activity                                                                                                                  : chr \"Sorbiv5.1_pg1763\"\n",
      " $ 3'(2'),5'-bisphosphate nucleotidase activity                                                                                                                         : chr \"Sorbiv5.1_pg22517\"\n",
      " $ 4 iron, 4 sulfur cluster binding                                                                                                                                     : chr [1:28] \"Sorbiv5.1_pg4227.valid\" \"Sobic.002G316900\" \"Sobic.007G068100\" \"Sobic.008G085300\" ...\n",
      " $ 4-alpha-hydroxytetrahydrobiopterin dehydratase activity                                                                                                              : chr \"Sobic.001G029100\"\n",
      " $ 4-aminobutyrate transaminase activity                                                                                                                                : chr \"Sobic.007G074500\"\n",
      " $ 4-coumarate-CoA ligase activity                                                                                                                                      : chr [1:3] \"Sobic.004G272700\" \"Sobic.007G089900\" \"Sobic.007G145600\"\n",
      " $ 4-hydroxy-3-methylbut-2-en-1-yl diphosphate reductase activity                                                                                                       : chr \"Sobic.001G102500\"\n",
      " $ 4-hydroxy-tetrahydrodipicolinate reductase                                                                                                                           : chr [1:2] \"Sorbiv5.1_pg4939.valid\" \"Sorbiv5.1_pg19146.valid\"\n",
      " $ 4-hydroxybenzoate decaprenyltransferase activity                                                                                                                     : chr \"Sorbiv5.1_pg21023.valid\"\n",
      " $ 4-hydroxybenzoate nonaprenyltransferase activity                                                                                                                     : chr \"Sorbiv5.1_pg21023.valid\"\n",
      " $ 4-hydroxybenzoate octaprenyltransferase activity                                                                                                                     : chr \"Sorbiv5.1_pg21023.valid\"\n",
      " $ 4,8,12-trimethyltrideca-1,3,7,11-tetraene synthase activity                                                                                                          : chr \"Sobic.002G040500\"\n",
      " $ 5-diphosphoinositol pentakisphosphate 3-kinase activity                                                                                                              : chr \"Sobic.001G132600\"\n",
      " $ 5-formyltetrahydrofolate cyclo-ligase activity                                                                                                                       : chr \"Sobic.002G353000\"\n",
      " $ 5-methyltetrahydropteroyltriglutamate-homocysteine S-methyltransferase activity                                                                                      : chr \"ta.jpa7.902\"\n",
      " $ 5-oxoprolinase (ATP-hydrolyzing) activity                                                                                                                            : chr \"Sobic.001G322700\"\n",
      " $ 5'-3' DNA helicase activity                                                                                                                                          : chr [1:4] \"Sobic.002G353500\" \"Sobic.006G050550\" \"Sorbiv5.1_pg12668.valid\" \" Sobic.004G027500\"\n",
      " $ 5'-3' exodeoxyribonuclease activity                                                                                                                                  : chr [1:3] \"Sobic.007G007800\" \"Sobic.001G473800\" \"Sobic.002G214700\"\n",
      " $ 5'-3' exonuclease activity                                                                                                                                           : chr \"Sobic.001G008500\"\n",
      " $ 5'-3' exoribonuclease activity                                                                                                                                       : chr [1:4] \"Sobic.005G043400\" \" Sobic.005G043100\" \"Sobic.007G065100\" \"Sobic.001G473800\"\n",
      " $ 5'-flap endonuclease activity                                                                                                                                        : chr \"Sobic.001G192900\"\n",
      " $ 5'-nucleotidase activity                                                                                                                                             : chr \"Sorbiv5.1_pg2504\"\n",
      " $ 5'-tyrosyl-DNA phosphodiesterase activity                                                                                                                            : chr [1:2] \"Sobic.001G255600\" \"Sorbiv5.1_pg1445.valid\"\n",
      " $ 5S rRNA binding                                                                                                                                                      : chr [1:4] \"Sobic.001G517600\" \"Sobic.001G298600\" \"Sobic.001G027600\" \"Sobic.001G129300\"\n",
      " $ 6-phosphofructo-2-kinase activity                                                                                                                                    : chr \"Sobic.001G405300\"\n",
      " $ 6-phosphofructokinase activity                                                                                                                                       : chr [1:6] \"Sobic.004G261800\" \"Sorbiv5.1_pg17896.valid\" \" Sorbiv5.1_pg25200.valid\" \"Sobic.002G201700\" ...\n",
      " $ 6-phosphogluconolactonase activity                                                                                                                                   : chr [1:3] \"Sobic.002G272500\" \"Sobic.007G179900\" \"Sobic.001G336500\"\n",
      " $ 7-hydroxymethyl chlorophyll a reductase activity                                                                                                                     : chr \"Sorbiv5.1_pg17576\"\n",
      " $ 7-methylguanosine cap hypermethylation                                                                                                                               : chr \"Sobic.001G346900\"\n",
      " $ 7-methylguanosine mRNA capping                                                                                                                                       : chr [1:2] \"Sobic.005G100700\" \"Sobic.001G119300\"\n",
      " $ 7-methylguanosine RNA capping                                                                                                                                        : chr \"Sobic.001G346900\"\n",
      " $ 7S RNA binding                                                                                                                                                       : chr [1:2] \"Sobic.005G039500\" \"Sorbiv5.1_pg7307\"\n",
      " $ 90S preribosome                                                                                                                                                      : chr [1:3] \"Sorbiv5.1_pg594\" \"Sobic.003G146600\" \"Sorbiv5.1_pg5573.valid\"\n",
      " $ abaxial cell fate specification                                                                                                                                      : chr [1:6] \"Sobic.006G160800\" \"Sorbiv5.1_pg17581.valid\" \"Sobic.001G164500\" \"Sobic.001G077800\" ...\n",
      " $ ABC-type manganese transporter activity                                                                                                                              : chr \"Sorbiv5.1_pg4698.valid\"\n",
      " $ ABC-type protein transporter activity                                                                                                                                : chr \"Sorbiv5.1_pg34070.valid\"\n",
      " $ abscisic acid binding                                                                                                                                                : chr \"Sobic.004G113800\"\n",
      " $ abscisic acid biosynthetic process                                                                                                                                   : chr \"Sorbiv5.1_pg359.valid\"\n",
      " $ abscisic acid-activated signaling pathway                                                                                                                            : chr [1:6] \"Sobic.004G113800\" \"Sorbiv5.1_pg8127.valid\" \" Sobic.008G043900\" \"Sorbiv5.1_pg19224.valid\" ...\n",
      " $ acetolactate synthase activity                                                                                                                                       : chr \"Sobic.004G155800\"\n",
      " $ acetolactate synthase complex                                                                                                                                        : chr \"Sobic.004G155800\"\n",
      " $ acetyl-CoA biosynthetic process                                                                                                                                      : chr \"Sorbiv5.1_pg24586\"\n",
      "  [list output truncated]\n"
     ]
    }
   ],
   "source": [
    "str(sb_functional_annotation)"
   ]
  },
  {
   "cell_type": "code",
   "execution_count": 55,
   "id": "c6fbedf0",
   "metadata": {},
   "outputs": [],
   "source": [
    "\n",
    "sb_de_seq2 <- c(\"Sb.V4.final_annotation.bundle_sheath_ncell_1919.upregulated_genes.deseq2_output.tsv\",\n",
    "\"Sb.V4.final_annotation.companion_cells_sieve_elements_ncell_591.upregulated_genes.deseq2_output.tsv\",\n",
    "\"Sb.V4.final_annotation.epidermis_ncell_3830.upregulated_genes.deseq2_output.tsv\",\n",
    "\"Sb.V4.final_annotation.ground_meristem_ncell_880.upregulated_genes.deseq2_output.tsv\",\n",
    "\"Sb.V4.final_annotation.mesophyll_ncell_3997.upregulated_genes.deseq2_output.tsv\",\n",
    "\"Sb.V4.final_annotation.procambium_ncell_591.upregulated_genes.deseq2_output.tsv\",\n",
    "\"Sb.V4.final_annotation.protoderm_ncell_2290.upregulated_genes.deseq2_output.tsv\",\n",
    "\"Sb.V4.final_annotation.proto_xylem_ncell_494.upregulated_genes.deseq2_output.tsv\",\n",
    "\"Sb.V4.final_annotation.xylem_ncell_800.upregulated_genes.deseq2_output.tsv\")"
   ]
  },
  {
   "cell_type": "code",
   "execution_count": 56,
   "id": "a434bd54",
   "metadata": {
    "scrolled": true
   },
   "outputs": [
    {
     "name": "stderr",
     "output_type": "stream",
     "text": [
      "Warning message in fgsea(pathways = functional_annotations, stats = ranks, nperm = 10000, :\n",
      "“You are trying to run fgseaSimple. It is recommended to use fgseaMultilevel. To run fgseaMultilevel, you need to remove the nperm argument in the fgsea function call.”\n",
      "Warning message in preparePathwaysAndStats(pathways, stats, minSize, maxSize, gseaParam, :\n",
      "“There are ties in the preranked stats (0.07% of the list).\n",
      "The order of those tied genes will be arbitrary, which may produce unexpected results.”\n",
      "Warning message in preparePathwaysAndStats(pathways, stats, minSize, maxSize, gseaParam, :\n",
      "“All values in the stats vector are greater than zero and scoreType is \"std\", maybe you should switch to scoreType = \"pos\".”\n",
      "Warning message in fgsea(pathways = functional_annotations, stats = ranks, nperm = 10000, :\n",
      "“You are trying to run fgseaSimple. It is recommended to use fgseaMultilevel. To run fgseaMultilevel, you need to remove the nperm argument in the fgsea function call.”\n",
      "Warning message in preparePathwaysAndStats(pathways, stats, minSize, maxSize, gseaParam, :\n",
      "“There are ties in the preranked stats (0.77% of the list).\n",
      "The order of those tied genes will be arbitrary, which may produce unexpected results.”\n",
      "Warning message in preparePathwaysAndStats(pathways, stats, minSize, maxSize, gseaParam, :\n",
      "“All values in the stats vector are greater than zero and scoreType is \"std\", maybe you should switch to scoreType = \"pos\".”\n",
      "Warning message in fgsea(pathways = functional_annotations, stats = ranks, nperm = 10000, :\n",
      "“You are trying to run fgseaSimple. It is recommended to use fgseaMultilevel. To run fgseaMultilevel, you need to remove the nperm argument in the fgsea function call.”\n",
      "Warning message in preparePathwaysAndStats(pathways, stats, minSize, maxSize, gseaParam, :\n",
      "“There are ties in the preranked stats (0.01% of the list).\n",
      "The order of those tied genes will be arbitrary, which may produce unexpected results.”\n",
      "Warning message in preparePathwaysAndStats(pathways, stats, minSize, maxSize, gseaParam, :\n",
      "“All values in the stats vector are greater than zero and scoreType is \"std\", maybe you should switch to scoreType = \"pos\".”\n",
      "Warning message in fgsea(pathways = functional_annotations, stats = ranks, nperm = 10000, :\n",
      "“You are trying to run fgseaSimple. It is recommended to use fgseaMultilevel. To run fgseaMultilevel, you need to remove the nperm argument in the fgsea function call.”\n",
      "Warning message in preparePathwaysAndStats(pathways, stats, minSize, maxSize, gseaParam, :\n",
      "“There are ties in the preranked stats (0.22% of the list).\n",
      "The order of those tied genes will be arbitrary, which may produce unexpected results.”\n",
      "Warning message in preparePathwaysAndStats(pathways, stats, minSize, maxSize, gseaParam, :\n",
      "“All values in the stats vector are greater than zero and scoreType is \"std\", maybe you should switch to scoreType = \"pos\".”\n",
      "Warning message in fgsea(pathways = functional_annotations, stats = ranks, nperm = 10000, :\n",
      "“You are trying to run fgseaSimple. It is recommended to use fgseaMultilevel. To run fgseaMultilevel, you need to remove the nperm argument in the fgsea function call.”\n",
      "Warning message in preparePathwaysAndStats(pathways, stats, minSize, maxSize, gseaParam, :\n",
      "“There are ties in the preranked stats (0.03% of the list).\n",
      "The order of those tied genes will be arbitrary, which may produce unexpected results.”\n",
      "Warning message in preparePathwaysAndStats(pathways, stats, minSize, maxSize, gseaParam, :\n",
      "“All values in the stats vector are greater than zero and scoreType is \"std\", maybe you should switch to scoreType = \"pos\".”\n",
      "Warning message in fgsea(pathways = functional_annotations, stats = ranks, nperm = 10000, :\n",
      "“You are trying to run fgseaSimple. It is recommended to use fgseaMultilevel. To run fgseaMultilevel, you need to remove the nperm argument in the fgsea function call.”\n",
      "Warning message in preparePathwaysAndStats(pathways, stats, minSize, maxSize, gseaParam, :\n",
      "“There are ties in the preranked stats (0.22% of the list).\n",
      "The order of those tied genes will be arbitrary, which may produce unexpected results.”\n",
      "Warning message in preparePathwaysAndStats(pathways, stats, minSize, maxSize, gseaParam, :\n",
      "“All values in the stats vector are greater than zero and scoreType is \"std\", maybe you should switch to scoreType = \"pos\".”\n",
      "Warning message in fgsea(pathways = functional_annotations, stats = ranks, nperm = 10000, :\n",
      "“You are trying to run fgseaSimple. It is recommended to use fgseaMultilevel. To run fgseaMultilevel, you need to remove the nperm argument in the fgsea function call.”\n",
      "Warning message in preparePathwaysAndStats(pathways, stats, minSize, maxSize, gseaParam, :\n",
      "“There are ties in the preranked stats (0.03% of the list).\n",
      "The order of those tied genes will be arbitrary, which may produce unexpected results.”\n",
      "Warning message in preparePathwaysAndStats(pathways, stats, minSize, maxSize, gseaParam, :\n",
      "“All values in the stats vector are greater than zero and scoreType is \"std\", maybe you should switch to scoreType = \"pos\".”\n",
      "Warning message in fgsea(pathways = functional_annotations, stats = ranks, nperm = 10000, :\n",
      "“You are trying to run fgseaSimple. It is recommended to use fgseaMultilevel. To run fgseaMultilevel, you need to remove the nperm argument in the fgsea function call.”\n",
      "Warning message in preparePathwaysAndStats(pathways, stats, minSize, maxSize, gseaParam, :\n",
      "“There are ties in the preranked stats (0.98% of the list).\n",
      "The order of those tied genes will be arbitrary, which may produce unexpected results.”\n",
      "Warning message in preparePathwaysAndStats(pathways, stats, minSize, maxSize, gseaParam, :\n",
      "“All values in the stats vector are greater than zero and scoreType is \"std\", maybe you should switch to scoreType = \"pos\".”\n",
      "Warning message in fgsea(pathways = functional_annotations, stats = ranks, nperm = 10000, :\n",
      "“You are trying to run fgseaSimple. It is recommended to use fgseaMultilevel. To run fgseaMultilevel, you need to remove the nperm argument in the fgsea function call.”\n",
      "Warning message in preparePathwaysAndStats(pathways, stats, minSize, maxSize, gseaParam, :\n",
      "“There are ties in the preranked stats (2.91% of the list).\n",
      "The order of those tied genes will be arbitrary, which may produce unexpected results.”\n",
      "Warning message in preparePathwaysAndStats(pathways, stats, minSize, maxSize, gseaParam, :\n",
      "“All values in the stats vector are greater than zero and scoreType is \"std\", maybe you should switch to scoreType = \"pos\".”\n"
     ]
    }
   ],
   "source": [
    "working_location <- \"/scratch/jpm73279/comparative_single_cell/06.de_novo_id_markers\"\n",
    "all_gathered_cell_type_FGSEA <- lapply(sb_de_seq2, read_table_run_FGSEA, location = working_location, functional_annotations = sb_functional_annotation)"
   ]
  },
  {
   "cell_type": "code",
   "execution_count": 57,
   "id": "d9de398e",
   "metadata": {},
   "outputs": [],
   "source": [
    "sb_cell_type_FGSEA <- bind_rows(all_gathered_cell_type_FGSEA)"
   ]
  },
  {
   "cell_type": "code",
   "execution_count": 58,
   "id": "02c559aa",
   "metadata": {},
   "outputs": [],
   "source": [
    "fitlered_save <- sb_cell_type_FGSEA  %>% \n",
    "    group_by(celltype)  %>% \n",
    "    mutate_at(c('pval'), as.numeric)  %>% \n",
    "    dplyr::filter(NES > 0 & pval < .05) %>% \n",
    "    dplyr::arrange(pval, descending = TRUE)  %>% \n",
    "    dplyr::arrange(celltype)  %>% \n",
    "    mutate(celltype = str_replace(celltype, \"Sb.V4.final_annotation.\", \"\"))  %>% \n",
    "    mutate(celltype = str_replace(celltype, \".upregulated_genes.deseq2_output.tsv\", \"\"))  %>% \n",
    "    dplyr::select(-leadingEdge)\n",
    "\n",
    "write_delim(fitlered_save, \"Sb.FGSEA_results.tsv\", delim = \"\\t\")"
   ]
  },
  {
   "cell_type": "code",
   "execution_count": null,
   "id": "b0e05df6",
   "metadata": {},
   "outputs": [],
   "source": []
  }
 ],
 "metadata": {
  "kernelspec": {
   "display_name": "R",
   "language": "R",
   "name": "ir"
  },
  "language_info": {
   "codemirror_mode": "r",
   "file_extension": ".r",
   "mimetype": "text/x-r-source",
   "name": "R",
   "pygments_lexer": "r",
   "version": "4.1.3"
  }
 },
 "nbformat": 4,
 "nbformat_minor": 5
}
