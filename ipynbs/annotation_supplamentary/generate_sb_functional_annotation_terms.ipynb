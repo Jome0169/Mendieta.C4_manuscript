{
 "cells": [
  {
   "cell_type": "code",
   "execution_count": 2,
   "id": "60ea7edc",
   "metadata": {},
   "outputs": [
    {
     "data": {
      "text/html": [
       "'/home/jpm73279/.conda/envs/R_final_install/lib/R/library'"
      ],
      "text/latex": [
       "'/home/jpm73279/.conda/envs/R\\_final\\_install/lib/R/library'"
      ],
      "text/markdown": [
       "'/home/jpm73279/.conda/envs/R_final_install/lib/R/library'"
      ],
      "text/plain": [
       "[1] \"/home/jpm73279/.conda/envs/R_final_install/lib/R/library\""
      ]
     },
     "metadata": {},
     "output_type": "display_data"
    }
   ],
   "source": [
    ".libPaths()"
   ]
  },
  {
   "cell_type": "code",
   "execution_count": 3,
   "id": "90116f6a",
   "metadata": {
    "scrolled": true
   },
   "outputs": [
    {
     "ename": "ERROR",
     "evalue": "Error in library(tidyverse): there is no package called ‘tidyverse’\n",
     "output_type": "error",
     "traceback": [
      "Error in library(tidyverse): there is no package called ‘tidyverse’\nTraceback:\n",
      "1. library(tidyverse)"
     ]
    }
   ],
   "source": [
    "library(tidyverse)"
   ]
  },
  {
   "cell_type": "code",
   "execution_count": 2,
   "id": "3105ac6f",
   "metadata": {
    "scrolled": true
   },
   "outputs": [
    {
     "name": "stderr",
     "output_type": "stream",
     "text": [
      "\u001b[1mRows: \u001b[22m\u001b[34m102169\u001b[39m \u001b[1mColumns: \u001b[22m\u001b[34m3\u001b[39m\n",
      "\u001b[36m──\u001b[39m \u001b[1mColumn specification\u001b[22m \u001b[36m───────────────────────────────────────────────────────────\u001b[39m\n",
      "\u001b[1mDelimiter:\u001b[22m \"\\t\"\n",
      "\u001b[31mchr\u001b[39m (3): geneID, term, GOID\n",
      "\n",
      "\u001b[36mℹ\u001b[39m Use `spec()` to retrieve the full column specification for this data.\n",
      "\u001b[36mℹ\u001b[39m Specify the column types or set `show_col_types = FALSE` to quiet this message.\n"
     ]
    }
   ],
   "source": [
    "pathways <- read_delim(\"/home/jpm73279/genome_downloads/Zm-B73-REFERENCE-NAM-5.0/Zm-B73-REFERENCE-NAM.UniProt.GO.tab\", delim = \"\\t\" ,\n",
    "                      col_names = c(\"geneID\", \"term\", \"GOID\"))"
   ]
  },
  {
   "cell_type": "code",
   "execution_count": 3,
   "id": "d3014105",
   "metadata": {},
   "outputs": [
    {
     "name": "stderr",
     "output_type": "stream",
     "text": [
      "\u001b[1mRows: \u001b[22m\u001b[34m20082\u001b[39m \u001b[1mColumns: \u001b[22m\u001b[34m3\u001b[39m\n",
      "\u001b[36m──\u001b[39m \u001b[1mColumn specification\u001b[22m \u001b[36m───────────────────────────────────────────────────────────\u001b[39m\n",
      "\u001b[1mDelimiter:\u001b[22m \"\\t\"\n",
      "\u001b[31mchr\u001b[39m (3): orthogroups, Sb_genes, Zm_genes\n",
      "\n",
      "\u001b[36mℹ\u001b[39m Use `spec()` to retrieve the full column specification for this data.\n",
      "\u001b[36mℹ\u001b[39m Specify the column types or set `show_col_types = FALSE` to quiet this message.\n"
     ]
    }
   ],
   "source": [
    "Sb_Zm_Ortho <- read_delim(\"/scratch/jpm73279/13.ACR_CNS_analysis/01.analysis/run_orthofinder/2022-06-21_plant_genomes_grass_lineages/OrthoFinder/Results_Jun22/Orthologues/Orthologues_Sbicolor.prot/Sbicolor.prot__v__Zm-B73.prot.tsv\",\n",
    "          delim = \"\\t\" , col_names = c(\"orthogroups\", \"Sb_genes\", \"Zm_genes\"))"
   ]
  },
  {
   "cell_type": "code",
   "execution_count": 4,
   "id": "141fa8ac",
   "metadata": {},
   "outputs": [],
   "source": [
    "sb_regex <- \".[^.]+$\"\n",
    "\n",
    "final_sb_zm_pairings <- separate_rows(Sb_Zm_Ortho, Sb_genes, sep = \",\")  %>% \n",
    "    separate_rows(., Zm_genes, sep = \",\")  %>%\n",
    "    mutate(real_zm_name = str_replace(Zm_genes, \"[_P].*\", \"\"))  %>% \n",
    "    mutate(real_sb_name = str_replace(Sb_genes, sb_regex, \"\"))  %>% \n",
    "    dplyr::select(real_zm_name, real_sb_name)\n",
    "    "
   ]
  },
  {
   "cell_type": "code",
   "execution_count": null,
   "id": "aa9894f9",
   "metadata": {},
   "outputs": [],
   "source": []
  },
  {
   "cell_type": "code",
   "execution_count": 5,
   "id": "b3410ba0",
   "metadata": {},
   "outputs": [
    {
     "data": {
      "text/html": [
       "<table class=\"dataframe\">\n",
       "<caption>A spec_tbl_df: 102169 × 3</caption>\n",
       "<thead>\n",
       "\t<tr><th scope=col>geneID</th><th scope=col>term</th><th scope=col>GOID</th></tr>\n",
       "\t<tr><th scope=col>&lt;chr&gt;</th><th scope=col>&lt;chr&gt;</th><th scope=col>&lt;chr&gt;</th></tr>\n",
       "</thead>\n",
       "<tbody>\n",
       "\t<tr><td>Zm00001eb007090</td><td>commitment complex                      </td><td>GO:0000243</td></tr>\n",
       "\t<tr><td>Zm00001eb007090</td><td>U1 snRNP                                </td><td>GO:0005685</td></tr>\n",
       "\t<tr><td>Zm00001eb007090</td><td>U2-type prespliceosome                  </td><td>GO:0071004</td></tr>\n",
       "\t<tr><td>Zm00001eb007090</td><td>mRNA 5'-splice site recognition         </td><td>GO:0000395</td></tr>\n",
       "\t<tr><td>Zm00001eb007090</td><td>RNA processing                          </td><td>GO:0006396</td></tr>\n",
       "\t<tr><td>Zm00001eb007090</td><td>RNA processing                          </td><td>GO:0006396</td></tr>\n",
       "\t<tr><td>Zm00001eb007090</td><td>RNA processing                          </td><td>GO:0006396</td></tr>\n",
       "\t<tr><td>Zm00001eb007090</td><td>RNA processing                          </td><td>GO:0006396</td></tr>\n",
       "\t<tr><td>Zm00001eb007090</td><td>RNA processing                          </td><td>GO:0006396</td></tr>\n",
       "\t<tr><td>Zm00001eb007090</td><td>RNA processing                          </td><td>GO:0006396</td></tr>\n",
       "\t<tr><td>Zm00001eb184180</td><td>ADP binding                             </td><td>GO:0043531</td></tr>\n",
       "\t<tr><td>Zm00001eb184180</td><td>ATP binding                             </td><td>GO:0005524</td></tr>\n",
       "\t<tr><td>Zm00001eb184180</td><td>sucrose-phosphate synthase activity     </td><td>GO:0046524</td></tr>\n",
       "\t<tr><td>Zm00001eb184180</td><td>sucrose biosynthetic process            </td><td>GO:0005986</td></tr>\n",
       "\t<tr><td>Zm00001eb053890</td><td>integral component of membrane          </td><td>GO:0016021</td></tr>\n",
       "\t<tr><td>Zm00001eb053890</td><td>monolayer-surrounded lipid storage body </td><td>GO:0012511</td></tr>\n",
       "\t<tr><td>Zm00001eb053890</td><td>integral component of membrane          </td><td>GO:0016021</td></tr>\n",
       "\t<tr><td>Zm00001eb053890</td><td>monolayer-surrounded lipid storage body </td><td>GO:0012511</td></tr>\n",
       "\t<tr><td>Zm00001eb053890</td><td>lipid storage                           </td><td>GO:0019915</td></tr>\n",
       "\t<tr><td>Zm00001eb053890</td><td>response to freezing                    </td><td>GO:0050826</td></tr>\n",
       "\t<tr><td>Zm00001eb053890</td><td>seed oilbody biogenesis                 </td><td>GO:0010344</td></tr>\n",
       "\t<tr><td>Zm00001eb053890</td><td>integral component of membrane          </td><td>GO:0016021</td></tr>\n",
       "\t<tr><td>Zm00001eb053890</td><td>monolayer-surrounded lipid storage body </td><td>GO:0012511</td></tr>\n",
       "\t<tr><td>Zm00001eb053890</td><td>integral component of membrane          </td><td>GO:0016021</td></tr>\n",
       "\t<tr><td>Zm00001eb053890</td><td>monolayer-surrounded lipid storage body </td><td>GO:0012511</td></tr>\n",
       "\t<tr><td>Zm00001eb053890</td><td>integral component of membrane          </td><td>GO:0016021</td></tr>\n",
       "\t<tr><td>Zm00001eb053890</td><td>monolayer-surrounded lipid storage body </td><td>GO:0012511</td></tr>\n",
       "\t<tr><td>Zm00001eb190150</td><td>GTP binding                             </td><td>GO:0005525</td></tr>\n",
       "\t<tr><td>Zm00001eb190150</td><td>GTPase activity                         </td><td>GO:0003924</td></tr>\n",
       "\t<tr><td>Zm00001eb190150</td><td>protein transport                       </td><td>GO:0015031</td></tr>\n",
       "\t<tr><td>⋮</td><td>⋮</td><td>⋮</td></tr>\n",
       "\t<tr><td>Zm00001eb022740</td><td>endocytic recycling                     </td><td>GO:0032456</td></tr>\n",
       "\t<tr><td>Zm00001eb022740</td><td>retrograde transport, endosome to Golgi </td><td>GO:0042147</td></tr>\n",
       "\t<tr><td>Zm00001eb022740</td><td>cytosol                                 </td><td>GO:0005829</td></tr>\n",
       "\t<tr><td>Zm00001eb022740</td><td>EARP complex                            </td><td>GO:1990745</td></tr>\n",
       "\t<tr><td>Zm00001eb022740</td><td>mRNA binding                            </td><td>GO:0003729</td></tr>\n",
       "\t<tr><td>Zm00001eb022740</td><td>endocytic recycling                     </td><td>GO:0032456</td></tr>\n",
       "\t<tr><td>Zm00001eb022740</td><td>retrograde transport, endosome to Golgi </td><td>GO:0042147</td></tr>\n",
       "\t<tr><td>Zm00001eb022740</td><td>cytosol                                 </td><td>GO:0005829</td></tr>\n",
       "\t<tr><td>Zm00001eb022740</td><td>EARP complex                            </td><td>GO:1990745</td></tr>\n",
       "\t<tr><td>Zm00001eb022740</td><td>endocytic recycling                     </td><td>GO:0032456</td></tr>\n",
       "\t<tr><td>Zm00001eb022740</td><td>retrograde transport, endosome to Golgi </td><td>GO:0042147</td></tr>\n",
       "\t<tr><td>Zm00001eb189140</td><td>GTPase activator activity               </td><td>GO:0005096</td></tr>\n",
       "\t<tr><td>Zm00001eb189140</td><td>hydrolase activity                      </td><td>GO:0016787</td></tr>\n",
       "\t<tr><td>Zm00001eb189140</td><td>nucleotide binding                      </td><td>GO:0000166</td></tr>\n",
       "\t<tr><td>Zm00001eb189140</td><td>phospholipid binding                    </td><td>GO:0005543</td></tr>\n",
       "\t<tr><td>Zm00001eb189140</td><td>GTPase activator activity               </td><td>GO:0005096</td></tr>\n",
       "\t<tr><td>Zm00001eb189140</td><td>phospholipid binding                    </td><td>GO:0005543</td></tr>\n",
       "\t<tr><td>Zm00001eb189140</td><td>integral component of membrane          </td><td>GO:0016021</td></tr>\n",
       "\t<tr><td>Zm00001eb189140</td><td>GTPase activator activity               </td><td>GO:0005096</td></tr>\n",
       "\t<tr><td>Zm00001eb189140</td><td>phospholipid binding                    </td><td>GO:0005543</td></tr>\n",
       "\t<tr><td>Zm00001eb189140</td><td>GTPase activator activity               </td><td>GO:0005096</td></tr>\n",
       "\t<tr><td>Zm00001eb189140</td><td>phospholipid binding                    </td><td>GO:0005543</td></tr>\n",
       "\t<tr><td>Zm00001eb189140</td><td>GTPase activator activity               </td><td>GO:0005096</td></tr>\n",
       "\t<tr><td>Zm00001eb189140</td><td>phospholipid binding                    </td><td>GO:0005543</td></tr>\n",
       "\t<tr><td>Zm00001eb189140</td><td>GTPase activator activity               </td><td>GO:0005096</td></tr>\n",
       "\t<tr><td>Zm00001eb189140</td><td>phospholipid binding                    </td><td>GO:0005543</td></tr>\n",
       "\t<tr><td>Zm00001eb189140</td><td>GTPase activator activity               </td><td>GO:0005096</td></tr>\n",
       "\t<tr><td>Zm00001eb189140</td><td>phospholipid binding                    </td><td>GO:0005543</td></tr>\n",
       "\t<tr><td>Zm00001eb189140</td><td>GTPase activator activity               </td><td>GO:0005096</td></tr>\n",
       "\t<tr><td>Zm00001eb189140</td><td>phospholipid binding                    </td><td>GO:0005543</td></tr>\n",
       "</tbody>\n",
       "</table>\n"
      ],
      "text/latex": [
       "A spec\\_tbl\\_df: 102169 × 3\n",
       "\\begin{tabular}{lll}\n",
       " geneID & term & GOID\\\\\n",
       " <chr> & <chr> & <chr>\\\\\n",
       "\\hline\n",
       "\t Zm00001eb007090 & commitment complex                       & GO:0000243\\\\\n",
       "\t Zm00001eb007090 & U1 snRNP                                 & GO:0005685\\\\\n",
       "\t Zm00001eb007090 & U2-type prespliceosome                   & GO:0071004\\\\\n",
       "\t Zm00001eb007090 & mRNA 5'-splice site recognition          & GO:0000395\\\\\n",
       "\t Zm00001eb007090 & RNA processing                           & GO:0006396\\\\\n",
       "\t Zm00001eb007090 & RNA processing                           & GO:0006396\\\\\n",
       "\t Zm00001eb007090 & RNA processing                           & GO:0006396\\\\\n",
       "\t Zm00001eb007090 & RNA processing                           & GO:0006396\\\\\n",
       "\t Zm00001eb007090 & RNA processing                           & GO:0006396\\\\\n",
       "\t Zm00001eb007090 & RNA processing                           & GO:0006396\\\\\n",
       "\t Zm00001eb184180 & ADP binding                              & GO:0043531\\\\\n",
       "\t Zm00001eb184180 & ATP binding                              & GO:0005524\\\\\n",
       "\t Zm00001eb184180 & sucrose-phosphate synthase activity      & GO:0046524\\\\\n",
       "\t Zm00001eb184180 & sucrose biosynthetic process             & GO:0005986\\\\\n",
       "\t Zm00001eb053890 & integral component of membrane           & GO:0016021\\\\\n",
       "\t Zm00001eb053890 & monolayer-surrounded lipid storage body  & GO:0012511\\\\\n",
       "\t Zm00001eb053890 & integral component of membrane           & GO:0016021\\\\\n",
       "\t Zm00001eb053890 & monolayer-surrounded lipid storage body  & GO:0012511\\\\\n",
       "\t Zm00001eb053890 & lipid storage                            & GO:0019915\\\\\n",
       "\t Zm00001eb053890 & response to freezing                     & GO:0050826\\\\\n",
       "\t Zm00001eb053890 & seed oilbody biogenesis                  & GO:0010344\\\\\n",
       "\t Zm00001eb053890 & integral component of membrane           & GO:0016021\\\\\n",
       "\t Zm00001eb053890 & monolayer-surrounded lipid storage body  & GO:0012511\\\\\n",
       "\t Zm00001eb053890 & integral component of membrane           & GO:0016021\\\\\n",
       "\t Zm00001eb053890 & monolayer-surrounded lipid storage body  & GO:0012511\\\\\n",
       "\t Zm00001eb053890 & integral component of membrane           & GO:0016021\\\\\n",
       "\t Zm00001eb053890 & monolayer-surrounded lipid storage body  & GO:0012511\\\\\n",
       "\t Zm00001eb190150 & GTP binding                              & GO:0005525\\\\\n",
       "\t Zm00001eb190150 & GTPase activity                          & GO:0003924\\\\\n",
       "\t Zm00001eb190150 & protein transport                        & GO:0015031\\\\\n",
       "\t ⋮ & ⋮ & ⋮\\\\\n",
       "\t Zm00001eb022740 & endocytic recycling                      & GO:0032456\\\\\n",
       "\t Zm00001eb022740 & retrograde transport, endosome to Golgi  & GO:0042147\\\\\n",
       "\t Zm00001eb022740 & cytosol                                  & GO:0005829\\\\\n",
       "\t Zm00001eb022740 & EARP complex                             & GO:1990745\\\\\n",
       "\t Zm00001eb022740 & mRNA binding                             & GO:0003729\\\\\n",
       "\t Zm00001eb022740 & endocytic recycling                      & GO:0032456\\\\\n",
       "\t Zm00001eb022740 & retrograde transport, endosome to Golgi  & GO:0042147\\\\\n",
       "\t Zm00001eb022740 & cytosol                                  & GO:0005829\\\\\n",
       "\t Zm00001eb022740 & EARP complex                             & GO:1990745\\\\\n",
       "\t Zm00001eb022740 & endocytic recycling                      & GO:0032456\\\\\n",
       "\t Zm00001eb022740 & retrograde transport, endosome to Golgi  & GO:0042147\\\\\n",
       "\t Zm00001eb189140 & GTPase activator activity                & GO:0005096\\\\\n",
       "\t Zm00001eb189140 & hydrolase activity                       & GO:0016787\\\\\n",
       "\t Zm00001eb189140 & nucleotide binding                       & GO:0000166\\\\\n",
       "\t Zm00001eb189140 & phospholipid binding                     & GO:0005543\\\\\n",
       "\t Zm00001eb189140 & GTPase activator activity                & GO:0005096\\\\\n",
       "\t Zm00001eb189140 & phospholipid binding                     & GO:0005543\\\\\n",
       "\t Zm00001eb189140 & integral component of membrane           & GO:0016021\\\\\n",
       "\t Zm00001eb189140 & GTPase activator activity                & GO:0005096\\\\\n",
       "\t Zm00001eb189140 & phospholipid binding                     & GO:0005543\\\\\n",
       "\t Zm00001eb189140 & GTPase activator activity                & GO:0005096\\\\\n",
       "\t Zm00001eb189140 & phospholipid binding                     & GO:0005543\\\\\n",
       "\t Zm00001eb189140 & GTPase activator activity                & GO:0005096\\\\\n",
       "\t Zm00001eb189140 & phospholipid binding                     & GO:0005543\\\\\n",
       "\t Zm00001eb189140 & GTPase activator activity                & GO:0005096\\\\\n",
       "\t Zm00001eb189140 & phospholipid binding                     & GO:0005543\\\\\n",
       "\t Zm00001eb189140 & GTPase activator activity                & GO:0005096\\\\\n",
       "\t Zm00001eb189140 & phospholipid binding                     & GO:0005543\\\\\n",
       "\t Zm00001eb189140 & GTPase activator activity                & GO:0005096\\\\\n",
       "\t Zm00001eb189140 & phospholipid binding                     & GO:0005543\\\\\n",
       "\\end{tabular}\n"
      ],
      "text/markdown": [
       "\n",
       "A spec_tbl_df: 102169 × 3\n",
       "\n",
       "| geneID &lt;chr&gt; | term &lt;chr&gt; | GOID &lt;chr&gt; |\n",
       "|---|---|---|\n",
       "| Zm00001eb007090 | commitment complex                       | GO:0000243 |\n",
       "| Zm00001eb007090 | U1 snRNP                                 | GO:0005685 |\n",
       "| Zm00001eb007090 | U2-type prespliceosome                   | GO:0071004 |\n",
       "| Zm00001eb007090 | mRNA 5'-splice site recognition          | GO:0000395 |\n",
       "| Zm00001eb007090 | RNA processing                           | GO:0006396 |\n",
       "| Zm00001eb007090 | RNA processing                           | GO:0006396 |\n",
       "| Zm00001eb007090 | RNA processing                           | GO:0006396 |\n",
       "| Zm00001eb007090 | RNA processing                           | GO:0006396 |\n",
       "| Zm00001eb007090 | RNA processing                           | GO:0006396 |\n",
       "| Zm00001eb007090 | RNA processing                           | GO:0006396 |\n",
       "| Zm00001eb184180 | ADP binding                              | GO:0043531 |\n",
       "| Zm00001eb184180 | ATP binding                              | GO:0005524 |\n",
       "| Zm00001eb184180 | sucrose-phosphate synthase activity      | GO:0046524 |\n",
       "| Zm00001eb184180 | sucrose biosynthetic process             | GO:0005986 |\n",
       "| Zm00001eb053890 | integral component of membrane           | GO:0016021 |\n",
       "| Zm00001eb053890 | monolayer-surrounded lipid storage body  | GO:0012511 |\n",
       "| Zm00001eb053890 | integral component of membrane           | GO:0016021 |\n",
       "| Zm00001eb053890 | monolayer-surrounded lipid storage body  | GO:0012511 |\n",
       "| Zm00001eb053890 | lipid storage                            | GO:0019915 |\n",
       "| Zm00001eb053890 | response to freezing                     | GO:0050826 |\n",
       "| Zm00001eb053890 | seed oilbody biogenesis                  | GO:0010344 |\n",
       "| Zm00001eb053890 | integral component of membrane           | GO:0016021 |\n",
       "| Zm00001eb053890 | monolayer-surrounded lipid storage body  | GO:0012511 |\n",
       "| Zm00001eb053890 | integral component of membrane           | GO:0016021 |\n",
       "| Zm00001eb053890 | monolayer-surrounded lipid storage body  | GO:0012511 |\n",
       "| Zm00001eb053890 | integral component of membrane           | GO:0016021 |\n",
       "| Zm00001eb053890 | monolayer-surrounded lipid storage body  | GO:0012511 |\n",
       "| Zm00001eb190150 | GTP binding                              | GO:0005525 |\n",
       "| Zm00001eb190150 | GTPase activity                          | GO:0003924 |\n",
       "| Zm00001eb190150 | protein transport                        | GO:0015031 |\n",
       "| ⋮ | ⋮ | ⋮ |\n",
       "| Zm00001eb022740 | endocytic recycling                      | GO:0032456 |\n",
       "| Zm00001eb022740 | retrograde transport, endosome to Golgi  | GO:0042147 |\n",
       "| Zm00001eb022740 | cytosol                                  | GO:0005829 |\n",
       "| Zm00001eb022740 | EARP complex                             | GO:1990745 |\n",
       "| Zm00001eb022740 | mRNA binding                             | GO:0003729 |\n",
       "| Zm00001eb022740 | endocytic recycling                      | GO:0032456 |\n",
       "| Zm00001eb022740 | retrograde transport, endosome to Golgi  | GO:0042147 |\n",
       "| Zm00001eb022740 | cytosol                                  | GO:0005829 |\n",
       "| Zm00001eb022740 | EARP complex                             | GO:1990745 |\n",
       "| Zm00001eb022740 | endocytic recycling                      | GO:0032456 |\n",
       "| Zm00001eb022740 | retrograde transport, endosome to Golgi  | GO:0042147 |\n",
       "| Zm00001eb189140 | GTPase activator activity                | GO:0005096 |\n",
       "| Zm00001eb189140 | hydrolase activity                       | GO:0016787 |\n",
       "| Zm00001eb189140 | nucleotide binding                       | GO:0000166 |\n",
       "| Zm00001eb189140 | phospholipid binding                     | GO:0005543 |\n",
       "| Zm00001eb189140 | GTPase activator activity                | GO:0005096 |\n",
       "| Zm00001eb189140 | phospholipid binding                     | GO:0005543 |\n",
       "| Zm00001eb189140 | integral component of membrane           | GO:0016021 |\n",
       "| Zm00001eb189140 | GTPase activator activity                | GO:0005096 |\n",
       "| Zm00001eb189140 | phospholipid binding                     | GO:0005543 |\n",
       "| Zm00001eb189140 | GTPase activator activity                | GO:0005096 |\n",
       "| Zm00001eb189140 | phospholipid binding                     | GO:0005543 |\n",
       "| Zm00001eb189140 | GTPase activator activity                | GO:0005096 |\n",
       "| Zm00001eb189140 | phospholipid binding                     | GO:0005543 |\n",
       "| Zm00001eb189140 | GTPase activator activity                | GO:0005096 |\n",
       "| Zm00001eb189140 | phospholipid binding                     | GO:0005543 |\n",
       "| Zm00001eb189140 | GTPase activator activity                | GO:0005096 |\n",
       "| Zm00001eb189140 | phospholipid binding                     | GO:0005543 |\n",
       "| Zm00001eb189140 | GTPase activator activity                | GO:0005096 |\n",
       "| Zm00001eb189140 | phospholipid binding                     | GO:0005543 |\n",
       "\n"
      ],
      "text/plain": [
       "       geneID          term                                     GOID      \n",
       "1      Zm00001eb007090 commitment complex                       GO:0000243\n",
       "2      Zm00001eb007090 U1 snRNP                                 GO:0005685\n",
       "3      Zm00001eb007090 U2-type prespliceosome                   GO:0071004\n",
       "4      Zm00001eb007090 mRNA 5'-splice site recognition          GO:0000395\n",
       "5      Zm00001eb007090 RNA processing                           GO:0006396\n",
       "6      Zm00001eb007090 RNA processing                           GO:0006396\n",
       "7      Zm00001eb007090 RNA processing                           GO:0006396\n",
       "8      Zm00001eb007090 RNA processing                           GO:0006396\n",
       "9      Zm00001eb007090 RNA processing                           GO:0006396\n",
       "10     Zm00001eb007090 RNA processing                           GO:0006396\n",
       "11     Zm00001eb184180 ADP binding                              GO:0043531\n",
       "12     Zm00001eb184180 ATP binding                              GO:0005524\n",
       "13     Zm00001eb184180 sucrose-phosphate synthase activity      GO:0046524\n",
       "14     Zm00001eb184180 sucrose biosynthetic process             GO:0005986\n",
       "15     Zm00001eb053890 integral component of membrane           GO:0016021\n",
       "16     Zm00001eb053890 monolayer-surrounded lipid storage body  GO:0012511\n",
       "17     Zm00001eb053890 integral component of membrane           GO:0016021\n",
       "18     Zm00001eb053890 monolayer-surrounded lipid storage body  GO:0012511\n",
       "19     Zm00001eb053890 lipid storage                            GO:0019915\n",
       "20     Zm00001eb053890 response to freezing                     GO:0050826\n",
       "21     Zm00001eb053890 seed oilbody biogenesis                  GO:0010344\n",
       "22     Zm00001eb053890 integral component of membrane           GO:0016021\n",
       "23     Zm00001eb053890 monolayer-surrounded lipid storage body  GO:0012511\n",
       "24     Zm00001eb053890 integral component of membrane           GO:0016021\n",
       "25     Zm00001eb053890 monolayer-surrounded lipid storage body  GO:0012511\n",
       "26     Zm00001eb053890 integral component of membrane           GO:0016021\n",
       "27     Zm00001eb053890 monolayer-surrounded lipid storage body  GO:0012511\n",
       "28     Zm00001eb190150 GTP binding                              GO:0005525\n",
       "29     Zm00001eb190150 GTPase activity                          GO:0003924\n",
       "30     Zm00001eb190150 protein transport                        GO:0015031\n",
       "⋮      ⋮               ⋮                                        ⋮         \n",
       "102140 Zm00001eb022740 endocytic recycling                      GO:0032456\n",
       "102141 Zm00001eb022740 retrograde transport, endosome to Golgi  GO:0042147\n",
       "102142 Zm00001eb022740 cytosol                                  GO:0005829\n",
       "102143 Zm00001eb022740 EARP complex                             GO:1990745\n",
       "102144 Zm00001eb022740 mRNA binding                             GO:0003729\n",
       "102145 Zm00001eb022740 endocytic recycling                      GO:0032456\n",
       "102146 Zm00001eb022740 retrograde transport, endosome to Golgi  GO:0042147\n",
       "102147 Zm00001eb022740 cytosol                                  GO:0005829\n",
       "102148 Zm00001eb022740 EARP complex                             GO:1990745\n",
       "102149 Zm00001eb022740 endocytic recycling                      GO:0032456\n",
       "102150 Zm00001eb022740 retrograde transport, endosome to Golgi  GO:0042147\n",
       "102151 Zm00001eb189140 GTPase activator activity                GO:0005096\n",
       "102152 Zm00001eb189140 hydrolase activity                       GO:0016787\n",
       "102153 Zm00001eb189140 nucleotide binding                       GO:0000166\n",
       "102154 Zm00001eb189140 phospholipid binding                     GO:0005543\n",
       "102155 Zm00001eb189140 GTPase activator activity                GO:0005096\n",
       "102156 Zm00001eb189140 phospholipid binding                     GO:0005543\n",
       "102157 Zm00001eb189140 integral component of membrane           GO:0016021\n",
       "102158 Zm00001eb189140 GTPase activator activity                GO:0005096\n",
       "102159 Zm00001eb189140 phospholipid binding                     GO:0005543\n",
       "102160 Zm00001eb189140 GTPase activator activity                GO:0005096\n",
       "102161 Zm00001eb189140 phospholipid binding                     GO:0005543\n",
       "102162 Zm00001eb189140 GTPase activator activity                GO:0005096\n",
       "102163 Zm00001eb189140 phospholipid binding                     GO:0005543\n",
       "102164 Zm00001eb189140 GTPase activator activity                GO:0005096\n",
       "102165 Zm00001eb189140 phospholipid binding                     GO:0005543\n",
       "102166 Zm00001eb189140 GTPase activator activity                GO:0005096\n",
       "102167 Zm00001eb189140 phospholipid binding                     GO:0005543\n",
       "102168 Zm00001eb189140 GTPase activator activity                GO:0005096\n",
       "102169 Zm00001eb189140 phospholipid binding                     GO:0005543"
      ]
     },
     "metadata": {},
     "output_type": "display_data"
    }
   ],
   "source": [
    "pathways"
   ]
  },
  {
   "cell_type": "code",
   "execution_count": 7,
   "id": "cc0e7c20",
   "metadata": {},
   "outputs": [],
   "source": [
    "cols_to_check <- c(\"real_zm_name\", \"real_sb_name\",\"term\",\"GOID\")\n",
    "final <- left_join(final_sb_zm_pairings, pathways, by = c(\"real_zm_name\" = \"geneID\"))  %>% \n",
    "    dplyr::filter(if_all(cols_to_check, ~ !is.na(.x)))"
   ]
  },
  {
   "cell_type": "code",
   "execution_count": 48,
   "id": "f264071b",
   "metadata": {},
   "outputs": [
    {
     "data": {
      "text/html": [
       "<style>\n",
       ".list-inline {list-style: none; margin:0; padding: 0}\n",
       ".list-inline>li {display: inline-block}\n",
       ".list-inline>li:not(:last-child)::after {content: \"\\00b7\"; padding: 0 .5ex}\n",
       "</style>\n",
       "<ol class=list-inline><li>74876</li><li>4</li></ol>\n"
      ],
      "text/latex": [
       "\\begin{enumerate*}\n",
       "\\item 74876\n",
       "\\item 4\n",
       "\\end{enumerate*}\n"
      ],
      "text/markdown": [
       "1. 74876\n",
       "2. 4\n",
       "\n",
       "\n"
      ],
      "text/plain": [
       "[1] 74876     4"
      ]
     },
     "metadata": {},
     "output_type": "display_data"
    }
   ],
   "source": []
  },
  {
   "cell_type": "code",
   "execution_count": 8,
   "id": "a81c9ea0",
   "metadata": {},
   "outputs": [],
   "source": [
    "sb_final_go_terms <- final  %>% \n",
    "    dplyr::select(real_sb_name, term, GOID)"
   ]
  },
  {
   "cell_type": "code",
   "execution_count": 17,
   "id": "dd1fc190",
   "metadata": {},
   "outputs": [
    {
     "name": "stderr",
     "output_type": "stream",
     "text": [
      "Warning message:\n",
      "“`cols` is now required when using unnest().\n",
      "Please use `cols = c(data)`”\n"
     ]
    }
   ],
   "source": [
    "sb_test_go <- sb_final_go_terms  %>% \n",
    "    dplyr::select(real_sb_name, term)  %>% \n",
    "    group_by(term)  %>% \n",
    "    nest()  %>% \n",
    "    unnest"
   ]
  },
  {
   "cell_type": "code",
   "execution_count": 18,
   "id": "700c1b92",
   "metadata": {},
   "outputs": [
    {
     "data": {
      "text/html": [
       "<table class=\"dataframe\">\n",
       "<caption>A grouped_df: 6 × 2</caption>\n",
       "<thead>\n",
       "\t<tr><th scope=col>term</th><th scope=col>real_sb_name</th></tr>\n",
       "\t<tr><th scope=col>&lt;chr&gt;</th><th scope=col>&lt;chr&gt;</th></tr>\n",
       "</thead>\n",
       "<tbody>\n",
       "\t<tr><td>response to auxin </td><td>Sobic.002G285200 </td></tr>\n",
       "\t<tr><td>response to auxin </td><td>Sobic.002G285200 </td></tr>\n",
       "\t<tr><td>response to auxin </td><td>Sorbiv5.1_pg24730</td></tr>\n",
       "\t<tr><td>response to auxin </td><td>Sorbiv5.1_pg24730</td></tr>\n",
       "\t<tr><td>response to auxin </td><td> Sobic.001G184400</td></tr>\n",
       "\t<tr><td>response to auxin </td><td> Sobic.001G184400</td></tr>\n",
       "</tbody>\n",
       "</table>\n"
      ],
      "text/latex": [
       "A grouped\\_df: 6 × 2\n",
       "\\begin{tabular}{ll}\n",
       " term & real\\_sb\\_name\\\\\n",
       " <chr> & <chr>\\\\\n",
       "\\hline\n",
       "\t response to auxin  & Sobic.002G285200 \\\\\n",
       "\t response to auxin  & Sobic.002G285200 \\\\\n",
       "\t response to auxin  & Sorbiv5.1\\_pg24730\\\\\n",
       "\t response to auxin  & Sorbiv5.1\\_pg24730\\\\\n",
       "\t response to auxin  &  Sobic.001G184400\\\\\n",
       "\t response to auxin  &  Sobic.001G184400\\\\\n",
       "\\end{tabular}\n"
      ],
      "text/markdown": [
       "\n",
       "A grouped_df: 6 × 2\n",
       "\n",
       "| term &lt;chr&gt; | real_sb_name &lt;chr&gt; |\n",
       "|---|---|\n",
       "| response to auxin  | Sobic.002G285200  |\n",
       "| response to auxin  | Sobic.002G285200  |\n",
       "| response to auxin  | Sorbiv5.1_pg24730 |\n",
       "| response to auxin  | Sorbiv5.1_pg24730 |\n",
       "| response to auxin  |  Sobic.001G184400 |\n",
       "| response to auxin  |  Sobic.001G184400 |\n",
       "\n"
      ],
      "text/plain": [
       "  term               real_sb_name     \n",
       "1 response to auxin  Sobic.002G285200 \n",
       "2 response to auxin  Sobic.002G285200 \n",
       "3 response to auxin  Sorbiv5.1_pg24730\n",
       "4 response to auxin  Sorbiv5.1_pg24730\n",
       "5 response to auxin   Sobic.001G184400\n",
       "6 response to auxin   Sobic.001G184400"
      ]
     },
     "metadata": {},
     "output_type": "display_data"
    }
   ],
   "source": [
    "head(sb_test_go)"
   ]
  },
  {
   "cell_type": "code",
   "execution_count": 13,
   "id": "6a8de153",
   "metadata": {},
   "outputs": [],
   "source": [
    "write_delim(sb_test_go, \"/home/jpm73279/genome_downloads/Sbicolor.v5.1.prelim.annot/Sbicolorv5.1.GO_terms_from_ZM.collapsed.txt\", delim = \"\\t\")"
   ]
  },
  {
   "cell_type": "code",
   "execution_count": 46,
   "id": "cd83b62d",
   "metadata": {},
   "outputs": [],
   "source": [
    "write_delim(sb_final_go_terms, \"/home/jpm73279/genome_downloads/Sbicolor.v5.1.prelim.annot/Sbicolorv5.1.GO_terms_from_ZM.txt\", delim = \"\\t\")"
   ]
  }
 ],
 "metadata": {
  "kernelspec": {
   "display_name": "R",
   "language": "R",
   "name": "ir"
  },
  "language_info": {
   "codemirror_mode": "r",
   "file_extension": ".r",
   "mimetype": "text/x-r-source",
   "name": "R",
   "pygments_lexer": "r",
   "version": "4.1.3"
  }
 },
 "nbformat": 4,
 "nbformat_minor": 5
}
