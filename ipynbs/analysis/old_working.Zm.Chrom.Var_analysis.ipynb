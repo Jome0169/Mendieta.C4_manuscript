{
 "cells": [
  {
   "cell_type": "code",
   "execution_count": 1,
   "id": "8064edbd",
   "metadata": {
    "scrolled": true
   },
   "outputs": [
    {
     "name": "stderr",
     "output_type": "stream",
     "text": [
      "-- \u001b[1mAttaching core tidyverse packages\u001b[22m ------------------------ tidyverse 2.0.0 --\n",
      "\u001b[32mv\u001b[39m \u001b[34mdplyr    \u001b[39m 1.1.2          \u001b[32mv\u001b[39m \u001b[34mreadr    \u001b[39m 2.1.4     \n",
      "\u001b[32mv\u001b[39m \u001b[34mforcats  \u001b[39m 1.0.0.\u001b[31m9000\u001b[39m     \u001b[32mv\u001b[39m \u001b[34mstringr  \u001b[39m 1.5.0     \n",
      "\u001b[32mv\u001b[39m \u001b[34mggplot2  \u001b[39m 3.4.3          \u001b[32mv\u001b[39m \u001b[34mtibble   \u001b[39m 3.2.1     \n",
      "\u001b[32mv\u001b[39m \u001b[34mlubridate\u001b[39m 1.9.2          \u001b[32mv\u001b[39m \u001b[34mtidyr    \u001b[39m 1.3.0     \n",
      "\u001b[32mv\u001b[39m \u001b[34mpurrr    \u001b[39m 1.0.1          \n",
      "-- \u001b[1mConflicts\u001b[22m ------------------------------------------ tidyverse_conflicts() --\n",
      "\u001b[31mx\u001b[39m \u001b[34mdplyr\u001b[39m::\u001b[32mfilter()\u001b[39m masks \u001b[34mstats\u001b[39m::filter()\n",
      "\u001b[31mx\u001b[39m \u001b[34mdplyr\u001b[39m::\u001b[32mlag()\u001b[39m    masks \u001b[34mstats\u001b[39m::lag()\n",
      "\u001b[36mi\u001b[39m Use the conflicted package (\u001b[3m\u001b[34m<http://conflicted.r-lib.org/>\u001b[39m\u001b[23m) to force all conflicts to become errors\n",
      "Loading required package: usethis\n",
      "\n",
      "\n",
      "\n",
      "\u001b[1m\u001b[22m\u001b[36mi\u001b[39m Loading \u001b[34mBSgenome.Zm_B73\u001b[39m\n",
      "Loading required package: BSgenome\n",
      "\n",
      "Loading required package: BiocGenerics\n",
      "\n",
      "\n",
      "Attaching package: 'BiocGenerics'\n",
      "\n",
      "\n",
      "The following objects are masked from 'package:lubridate':\n",
      "\n",
      "    intersect, setdiff, union\n",
      "\n",
      "\n",
      "The following objects are masked from 'package:dplyr':\n",
      "\n",
      "    combine, intersect, setdiff, union\n",
      "\n",
      "\n",
      "The following objects are masked from 'package:stats':\n",
      "\n",
      "    IQR, mad, sd, var, xtabs\n",
      "\n",
      "\n",
      "The following objects are masked from 'package:base':\n",
      "\n",
      "    Filter, Find, Map, Position, Reduce, anyDuplicated, append,\n",
      "    as.data.frame, basename, cbind, colnames, dirname, do.call,\n",
      "    duplicated, eval, evalq, get, grep, grepl, intersect, is.unsorted,\n",
      "    lapply, mapply, match, mget, order, paste, pmax, pmax.int, pmin,\n",
      "    pmin.int, rank, rbind, rownames, sapply, setdiff, sort, table,\n",
      "    tapply, union, unique, unsplit, which.max, which.min\n",
      "\n",
      "\n",
      "Loading required package: S4Vectors\n",
      "\n",
      "Loading required package: stats4\n",
      "\n",
      "\n",
      "Attaching package: 'S4Vectors'\n",
      "\n",
      "\n",
      "The following objects are masked from 'package:lubridate':\n",
      "\n",
      "    second, second<-\n",
      "\n",
      "\n",
      "The following objects are masked from 'package:dplyr':\n",
      "\n",
      "    first, rename\n",
      "\n",
      "\n",
      "The following object is masked from 'package:tidyr':\n",
      "\n",
      "    expand\n",
      "\n",
      "\n",
      "The following objects are masked from 'package:base':\n",
      "\n",
      "    I, expand.grid, unname\n",
      "\n",
      "\n",
      "Loading required package: IRanges\n",
      "\n",
      "\n",
      "Attaching package: 'IRanges'\n",
      "\n",
      "\n",
      "The following object is masked from 'package:lubridate':\n",
      "\n",
      "    %within%\n",
      "\n",
      "\n",
      "The following objects are masked from 'package:dplyr':\n",
      "\n",
      "    collapse, desc, slice\n",
      "\n",
      "\n",
      "The following object is masked from 'package:purrr':\n",
      "\n",
      "    reduce\n",
      "\n",
      "\n",
      "Loading required package: GenomeInfoDb\n",
      "\n",
      "Loading required package: GenomicRanges\n",
      "\n",
      "Loading required package: Biostrings\n",
      "\n",
      "Loading required package: XVector\n",
      "\n",
      "\n",
      "Attaching package: 'XVector'\n",
      "\n",
      "\n",
      "The following object is masked from 'package:purrr':\n",
      "\n",
      "    compact\n",
      "\n",
      "\n",
      "\n",
      "Attaching package: 'Biostrings'\n",
      "\n",
      "\n",
      "The following object is masked from 'package:base':\n",
      "\n",
      "    strsplit\n",
      "\n",
      "\n",
      "Loading required package: rtracklayer\n",
      "\n",
      "\n",
      "Attaching package: 'Matrix'\n",
      "\n",
      "\n",
      "The following object is masked from 'package:S4Vectors':\n",
      "\n",
      "    expand\n",
      "\n",
      "\n",
      "The following objects are masked from 'package:tidyr':\n",
      "\n",
      "    expand, pack, unpack\n",
      "\n",
      "\n",
      "Loading required package: MatrixGenerics\n",
      "\n",
      "Loading required package: matrixStats\n",
      "\n",
      "\n",
      "Attaching package: 'matrixStats'\n",
      "\n",
      "\n",
      "The following object is masked from 'package:dplyr':\n",
      "\n",
      "    count\n",
      "\n",
      "\n",
      "\n",
      "Attaching package: 'MatrixGenerics'\n",
      "\n",
      "\n",
      "The following objects are masked from 'package:matrixStats':\n",
      "\n",
      "    colAlls, colAnyNAs, colAnys, colAvgsPerRowSet, colCollapse,\n",
      "    colCounts, colCummaxs, colCummins, colCumprods, colCumsums,\n",
      "    colDiffs, colIQRDiffs, colIQRs, colLogSumExps, colMadDiffs,\n",
      "    colMads, colMaxs, colMeans2, colMedians, colMins, colOrderStats,\n",
      "    colProds, colQuantiles, colRanges, colRanks, colSdDiffs, colSds,\n",
      "    colSums2, colTabulates, colVarDiffs, colVars, colWeightedMads,\n",
      "    colWeightedMeans, colWeightedMedians, colWeightedSds,\n",
      "    colWeightedVars, rowAlls, rowAnyNAs, rowAnys, rowAvgsPerColSet,\n",
      "    rowCollapse, rowCounts, rowCummaxs, rowCummins, rowCumprods,\n",
      "    rowCumsums, rowDiffs, rowIQRDiffs, rowIQRs, rowLogSumExps,\n",
      "    rowMadDiffs, rowMads, rowMaxs, rowMeans2, rowMedians, rowMins,\n",
      "    rowOrderStats, rowProds, rowQuantiles, rowRanges, rowRanks,\n",
      "    rowSdDiffs, rowSds, rowSums2, rowTabulates, rowVarDiffs, rowVars,\n",
      "    rowWeightedMads, rowWeightedMeans, rowWeightedMedians,\n",
      "    rowWeightedSds, rowWeightedVars\n",
      "\n",
      "\n",
      "Loading required package: Biobase\n",
      "\n",
      "Welcome to Bioconductor\n",
      "\n",
      "    Vignettes contain introductory material; view with\n",
      "    'browseVignettes()'. To cite Bioconductor, see\n",
      "    'citation(\"Biobase\")', and for packages 'citation(\"pkgname\")'.\n",
      "\n",
      "\n",
      "\n",
      "Attaching package: 'Biobase'\n",
      "\n",
      "\n",
      "The following object is masked from 'package:MatrixGenerics':\n",
      "\n",
      "    rowMedians\n",
      "\n",
      "\n",
      "The following objects are masked from 'package:matrixStats':\n",
      "\n",
      "    anyMissing, rowMedians\n",
      "\n",
      "\n",
      "Loading required package: Rsamtools\n",
      "\n",
      "\n",
      "Attaching package: 'GenomicAlignments'\n",
      "\n",
      "\n",
      "The following object is masked from 'package:dplyr':\n",
      "\n",
      "    last\n",
      "\n",
      "\n",
      "\n",
      "Attaching package: 'TFBSTools'\n",
      "\n",
      "\n",
      "The following object is masked from 'package:Matrix':\n",
      "\n",
      "    Matrix\n",
      "\n",
      "\n",
      "Loading required package: grid\n",
      "\n",
      "\n",
      "Attaching package: 'grid'\n",
      "\n",
      "\n",
      "The following object is masked from 'package:Biostrings':\n",
      "\n",
      "    pattern\n",
      "\n",
      "\n",
      "========================================\n",
      "ComplexHeatmap version 2.13.2\n",
      "Bioconductor page: http://bioconductor.org/packages/ComplexHeatmap/\n",
      "Github page: https://github.com/jokergoo/ComplexHeatmap\n",
      "Documentation: http://jokergoo.github.io/ComplexHeatmap-reference\n",
      "\n",
      "If you use it in published research, please cite either one:\n",
      "- Gu, Z. Complex heatmaps reveal patterns and correlations in multidimensional \n",
      "    genomic data. Bioinformatics 2016.\n",
      "- Gu, Z. Complex Heatmap Visualization. iMeta 2022.\n",
      "\n",
      "\n",
      "The new InteractiveComplexHeatmap package can directly export static \n",
      "complex heatmaps into an interactive Shiny app with zero effort. Have a try!\n",
      "\n",
      "This message can be suppressed by:\n",
      "  suppressPackageStartupMessages(library(ComplexHeatmap))\n",
      "========================================\n",
      "! pheatmap() has been masked by ComplexHeatmap::pheatmap(). Most of the arguments\n",
      "   in the original pheatmap() are identically supported in the new function. You \n",
      "   can still use the original function by explicitly calling pheatmap::pheatmap().\n",
      "\n",
      "\n",
      "\n",
      "Attaching package: 'ComplexHeatmap'\n",
      "\n",
      "\n",
      "The following object is masked from 'package:pheatmap':\n",
      "\n",
      "    pheatmap\n",
      "\n",
      "\n",
      "========================================\n",
      "circlize version 0.4.15\n",
      "CRAN page: https://cran.r-project.org/package=circlize\n",
      "Github page: https://github.com/jokergoo/circlize\n",
      "Documentation: https://jokergoo.github.io/circlize_book/book/\n",
      "\n",
      "If you use it in published research, please cite:\n",
      "Gu, Z. circlize implements and enhances circular visualization\n",
      "  in R. Bioinformatics 2014.\n",
      "\n",
      "This message can be suppressed by:\n",
      "  suppressPackageStartupMessages(library(circlize))\n",
      "========================================\n",
      "\n",
      "\n"
     ]
    }
   ],
   "source": [
    "###################################################################################################\n",
    "###                             chromVAR analysis of scATAC data                                ###\n",
    "###################################################################################################\n",
    "\n",
    "### Script Taken from A.marand. Modifications made by P.M. to get working on an ipynb. \n",
    "\n",
    "\n",
    "#load libraries\n",
    "library(tidyverse)\n",
    "library(devtools)\n",
    "library(chromVAR)\n",
    "library(motifmatchr)\n",
    "library(BiocParallel)\n",
    "load_all('/home/jpm73279/genome_downloads/BS_genomes/BSgenome.Zm_B73')\n",
    "library(Matrix)\n",
    "library(SummarizedExperiment)\n",
    "library(GenomicAlignments)\n",
    "library(dplyr)\n",
    "library(TFBSTools)\n",
    "library(JASPAR2020)\n",
    "library(pheatmap)\n",
    "library(ComplexHeatmap)\n",
    "library(circlize)"
   ]
  },
  {
   "cell_type": "code",
   "execution_count": 3,
   "id": "c3ec206f",
   "metadata": {},
   "outputs": [],
   "source": [
    "# arguments\n",
    "#args <- commandArgs(TRUE)\n",
    "#threads <- 10\n",
    "#input.sp <- as.character(args[2])\n",
    "#metadata <- as.character(args[3])\n",
    "#prefix <- as.character(args[4])"
   ]
  },
  {
   "cell_type": "code",
   "execution_count": 4,
   "id": "780de4b0",
   "metadata": {},
   "outputs": [],
   "source": [
    "# arguments\n",
    "args <- commandArgs(TRUE)\n",
    "threads <- 10\n",
    "input.sp <- \"/scratch/jpm73279/comparative_single_cell/dev_location/ChromVar.motif_dev/Zea_mays/Zm.peaks_by_intersections.rds\"\n",
    "#metadata <- \"/home/jpm73279/Mendieta_et_al_comparative_single_cell/metrics/annotations/Zm_annot_v4/Zm.leaf_annot.V4.meta.final.txt\"\n",
    "metadata <- \"/home/jpm73279/Mendieta_et_al_comparative_single_cell/metrics/annotations/Zm_annot_final/Zm.leaf_annot.V5.meta.frozen.txt\"\n",
    "prefix <- \"Zm.chrom_var\""
   ]
  },
  {
   "cell_type": "code",
   "execution_count": 5,
   "id": "efada1d0",
   "metadata": {},
   "outputs": [
    {
     "name": "stderr",
     "output_type": "stream",
     "text": [
      "########################################\n",
      "\n",
      "########################################\n",
      "\n",
      "\n",
      "\n",
      "============================\n",
      "\n",
      "     running chromVAR       \n",
      "\n",
      "============================\n",
      "\n",
      "\n",
      "\n"
     ]
    }
   ],
   "source": [
    "# functions\n",
    "loadPeaks <- function(x, y, extra_cols=4){\n",
    "\n",
    "\t# create ref\n",
    "\tfai <- lapply(as.character(y$V1), function(z){\n",
    "\t\treturn(as.numeric(as.character(y$V2)[y$V1==z]))\n",
    "\t})\n",
    "\tnames(fai) <- as.character(y$V1)\n",
    "\n",
    "\t# load bed\n",
    "\tbed <- as.data.frame(do.call(rbind, strsplit(rownames(x),\"_\")))\t\n",
    "\t\n",
    "\t# convert 2 GR\n",
    "\tcolnames(bed) <- c(\"chr\", \"start\", \"end\")\n",
    "\tbed$chr <- as.character(bed$chr)\n",
    "\tbed$start <- as.numeric(as.character(bed$start))\n",
    "\tbed$end <- as.numeric(as.character(bed$end))\n",
    "\tbed$keep <- ifelse(bed$start > fai[bed$chr] | bed$end > fai[bed$chr], 0, 1)\n",
    "\tx <- x[bed$keep > 0, ]\n",
    "\tbed <- bed[bed$keep > 0,]\n",
    "\tbed$keep <- NULL\n",
    "\tbed[, \"start\"] <- bed[, \"start\"]\n",
    "\tbed <- makeGRangesFromDataFrame(bed, keep.extra.columns = F)\n",
    "\n",
    "\t# sort\n",
    "\tsorted_bed <- sortSeqlevels(bed)\n",
    "\tsorted_bed <- sort(sorted_bed, ignore.strand = TRUE)\n",
    "\tsbeddf <- as.data.frame(sorted_bed)\n",
    "\ts.ids <- paste(sbeddf$seqnames,sbeddf$start,sbeddf$end,sep=\"_\")\n",
    "\tshared <- intersect(s.ids, rownames(x))\n",
    "\tx <- x[shared,]\n",
    "\tsorted_bed <- subset(sorted_bed, c(s.ids %in% shared))\n",
    "\treturn(list(bed=sorted_bed, cnts=x))\n",
    "}\n",
    "getJasparMotifs2 <- function(species = \"Homo sapiens\", collection = \"CORE\", ...){\n",
    "    opts <- list()\n",
    "    opts[\"species\"] <- species\n",
    "    opts[\"collection\"] <- collection\n",
    "    opts <- c(opts, list(...))\n",
    "    out <- TFBSTools::getMatrixSet(JASPAR2020::JASPAR2020, opts)\n",
    "    if (!isTRUE(all.equal(TFBSTools::name(out), names(out))))\n",
    "        names(out) <- paste(names(out), TFBSTools::name(out),\n",
    "            sep = \"_\")\n",
    "    return(out)\n",
    "}\n",
    "\n",
    "# set number of cores\n",
    "register(MulticoreParam(threads))\n",
    "\n",
    "# verbose\n",
    "message(\"########################################\")\n",
    "message(\"########################################\")\n",
    "message(\"\")\n",
    "message(\"============================\")\n",
    "message(\"     running chromVAR       \")\n",
    "message(\"============================\")\n",
    "message(\"\")"
   ]
  },
  {
   "cell_type": "code",
   "execution_count": 6,
   "id": "2923f4fd",
   "metadata": {},
   "outputs": [
    {
     "name": "stderr",
     "output_type": "stream",
     "text": [
      "Loading count matrix ...\n",
      "\n"
     ]
    }
   ],
   "source": [
    "###################################################################################################\n",
    "### load and process data\t\t\t\t\t\t\t\t\t   \n",
    "###################################################################################################\n",
    "\n",
    "# build counts matrix\n",
    "message(\"Loading count matrix ...\")\n",
    "a <- readRDS(input.sp)"
   ]
  },
  {
   "cell_type": "code",
   "execution_count": 7,
   "id": "552af7a0",
   "metadata": {},
   "outputs": [
    {
     "name": "stderr",
     "output_type": "stream",
     "text": [
      "Loading peak information ...\n",
      "\n"
     ]
    }
   ],
   "source": [
    "# input files\n",
    "message(\"Loading peak information ...\")\n",
    "ref <- read.table(\"/home/jpm73279/genome_downloads/Zm-B73-REFERENCE-NAM-5.0/Zm-B73-REFERENCE-NAM-5.0_MtPtAdd_Rsf.fa.fai\")\n",
    "obj <- loadPeaks(a, ref)\n",
    "peaks <- obj$bed\n",
    "a <- obj$cnts"
   ]
  },
  {
   "cell_type": "code",
   "execution_count": 8,
   "id": "6be72d6e",
   "metadata": {},
   "outputs": [
    {
     "name": "stdout",
     "output_type": "stream",
     "text": [
      "Formal class 'GRanges' [package \"GenomicRanges\"] with 7 slots\n",
      "  ..@ seqnames       :Formal class 'Rle' [package \"S4Vectors\"] with 4 slots\n",
      "  .. .. ..@ values         : Factor w/ 12 levels \"chr1\",\"chr2\",..: 1 2 3 4 5 6 7 8 9 10 ...\n",
      "  .. .. ..@ lengths        : int [1:12] 10688 8074 7706 7336 7782 5672 5789 5891 5340 4698 ...\n",
      "  .. .. ..@ elementMetadata: NULL\n",
      "  .. .. ..@ metadata       : list()\n",
      "  ..@ ranges         :Formal class 'IRanges' [package \"IRanges\"] with 6 slots\n",
      "  .. .. ..@ start          : int [1:69111] 517 8983 16065 39668 45928 123054 145382 161894 162505 165164 ...\n",
      "  .. .. ..@ width          : int [1:69111] 502 502 502 502 502 502 502 502 502 502 ...\n",
      "  .. .. ..@ NAMES          : NULL\n",
      "  .. .. ..@ elementType    : chr \"ANY\"\n",
      "  .. .. ..@ elementMetadata: NULL\n",
      "  .. .. ..@ metadata       : list()\n",
      "  ..@ strand         :Formal class 'Rle' [package \"S4Vectors\"] with 4 slots\n",
      "  .. .. ..@ values         : Factor w/ 3 levels \"+\",\"-\",\"*\": 3\n",
      "  .. .. ..@ lengths        : int 69111\n",
      "  .. .. ..@ elementMetadata: NULL\n",
      "  .. .. ..@ metadata       : list()\n",
      "  ..@ seqinfo        :Formal class 'Seqinfo' [package \"GenomeInfoDb\"] with 4 slots\n",
      "  .. .. ..@ seqnames   : chr [1:12] \"chr1\" \"chr2\" \"chr3\" \"chr4\" ...\n",
      "  .. .. ..@ seqlengths : int [1:12] NA NA NA NA NA NA NA NA NA NA ...\n",
      "  .. .. ..@ is_circular: logi [1:12] NA NA NA NA NA NA ...\n",
      "  .. .. ..@ genome     : chr [1:12] NA NA NA NA ...\n",
      "  ..@ elementMetadata:Formal class 'DFrame' [package \"S4Vectors\"] with 6 slots\n",
      "  .. .. ..@ rownames       : NULL\n",
      "  .. .. ..@ nrows          : int 69111\n",
      "  .. .. ..@ listData       : Named list()\n",
      "  .. .. ..@ elementType    : chr \"ANY\"\n",
      "  .. .. ..@ elementMetadata: NULL\n",
      "  .. .. ..@ metadata       : list()\n",
      "  ..@ elementType    : chr \"ANY\"\n",
      "  ..@ metadata       : list()\n"
     ]
    }
   ],
   "source": [
    "str(obj$bed)"
   ]
  },
  {
   "cell_type": "code",
   "execution_count": 9,
   "id": "08a0ec90",
   "metadata": {},
   "outputs": [
    {
     "name": "stdout",
     "output_type": "stream",
     "text": [
      "Formal class 'GRanges' [package \"GenomicRanges\"] with 7 slots\n",
      "  ..@ seqnames       :Formal class 'Rle' [package \"S4Vectors\"] with 4 slots\n",
      "  .. .. ..@ values         : Factor w/ 12 levels \"chr1\",\"chr2\",..: 1 2 3 4 5 6 7 8 9 10 ...\n",
      "  .. .. ..@ lengths        : int [1:12] 10688 8074 7706 7336 7782 5672 5789 5891 5340 4698 ...\n",
      "  .. .. ..@ elementMetadata: NULL\n",
      "  .. .. ..@ metadata       : list()\n",
      "  ..@ ranges         :Formal class 'IRanges' [package \"IRanges\"] with 6 slots\n",
      "  .. .. ..@ start          : int [1:69111] 517 8983 16065 39668 45928 123054 145382 161894 162505 165164 ...\n",
      "  .. .. ..@ width          : int [1:69111] 502 502 502 502 502 502 502 502 502 502 ...\n",
      "  .. .. ..@ NAMES          : NULL\n",
      "  .. .. ..@ elementType    : chr \"ANY\"\n",
      "  .. .. ..@ elementMetadata: NULL\n",
      "  .. .. ..@ metadata       : list()\n",
      "  ..@ strand         :Formal class 'Rle' [package \"S4Vectors\"] with 4 slots\n",
      "  .. .. ..@ values         : Factor w/ 3 levels \"+\",\"-\",\"*\": 3\n",
      "  .. .. ..@ lengths        : int 69111\n",
      "  .. .. ..@ elementMetadata: NULL\n",
      "  .. .. ..@ metadata       : list()\n",
      "  ..@ seqinfo        :Formal class 'Seqinfo' [package \"GenomeInfoDb\"] with 4 slots\n",
      "  .. .. ..@ seqnames   : chr [1:12] \"chr1\" \"chr2\" \"chr3\" \"chr4\" ...\n",
      "  .. .. ..@ seqlengths : int [1:12] NA NA NA NA NA NA NA NA NA NA ...\n",
      "  .. .. ..@ is_circular: logi [1:12] NA NA NA NA NA NA ...\n",
      "  .. .. ..@ genome     : chr [1:12] NA NA NA NA ...\n",
      "  ..@ elementMetadata:Formal class 'DFrame' [package \"S4Vectors\"] with 6 slots\n",
      "  .. .. ..@ rownames       : NULL\n",
      "  .. .. ..@ nrows          : int 69111\n",
      "  .. .. ..@ listData       : Named list()\n",
      "  .. .. ..@ elementType    : chr \"ANY\"\n",
      "  .. .. ..@ elementMetadata: NULL\n",
      "  .. .. ..@ metadata       : list()\n",
      "  ..@ elementType    : chr \"ANY\"\n",
      "  ..@ metadata       : list()\n"
     ]
    }
   ],
   "source": [
    "str(peaks)"
   ]
  },
  {
   "cell_type": "code",
   "execution_count": 10,
   "id": "f6284a9a",
   "metadata": {},
   "outputs": [
    {
     "name": "stderr",
     "output_type": "stream",
     "text": [
      "Loading meta data ...\n",
      "\n",
      "\u001b[1mRows: \u001b[22m\u001b[34m16060\u001b[39m \u001b[1mColumns: \u001b[22m\u001b[34m34\u001b[39m\n",
      "\u001b[36m──\u001b[39m \u001b[1mColumn specification\u001b[22m \u001b[36m───────────────────────────────────────────────────────────────────────────────────────────────────────────────────────────────\u001b[39m\n",
      "\u001b[1mDelimiter:\u001b[22m \"\\t\"\n",
      "\u001b[31mchr\u001b[39m (13): cellID, sampleID, d.type, Zm_v4_annot, Zm_v4_annot.subcluster_anno...\n",
      "\u001b[32mdbl\u001b[39m (21): total, tss, acrs, ptmt, nSites, log10nSites, pTSS, FRiP, pOrg, tss...\n",
      "\n",
      "\u001b[36mℹ\u001b[39m Use `spec()` to retrieve the full column specification for this data.\n",
      "\u001b[36mℹ\u001b[39m Specify the column types or set `show_col_types = FALSE` to quiet this message.\n"
     ]
    }
   ],
   "source": [
    "# load meta.data\n",
    "message(\"Loading meta data ...\")\n",
    "meta <- as.data.frame(read_tsv(metadata))\n",
    "rownames(meta) <- meta$cellID"
   ]
  },
  {
   "cell_type": "code",
   "execution_count": 11,
   "id": "c3e063c0",
   "metadata": {},
   "outputs": [
    {
     "name": "stderr",
     "output_type": "stream",
     "text": [
      "cells = 16060 | peaks = 69111\n",
      "\n"
     ]
    }
   ],
   "source": [
    "a <- a[,colnames(a) %in% rownames(meta)]\n",
    "meta <- meta[colnames(a),]\n",
    "meta$depth <- Matrix::colSums(a)\n",
    "message(\"cells = \",ncol(a), \" | peaks = \", nrow(a))"
   ]
  },
  {
   "cell_type": "code",
   "execution_count": 12,
   "id": "45a481b6",
   "metadata": {},
   "outputs": [
    {
     "name": "stderr",
     "output_type": "stream",
     "text": [
      "Creating experiment object ...\n",
      "\n"
     ]
    }
   ],
   "source": [
    "# create frag counts object\n",
    "message(\"Creating experiment object ...\")\n",
    "fragment_counts <- SummarizedExperiment(assays = list(counts = a),\n",
    "                                        rowRanges = peaks,\n",
    "                                        colData = meta)\n",
    "\n",
    "# clean-up memory\n",
    "#rm(a)\n",
    "#rm(obj)"
   ]
  },
  {
   "cell_type": "code",
   "execution_count": 13,
   "id": "0b8e1909",
   "metadata": {
    "scrolled": true
   },
   "outputs": [
    {
     "name": "stdout",
     "output_type": "stream",
     "text": [
      "Formal class 'dgCMatrix' [package \"Matrix\"] with 6 slots\n",
      "  ..@ i       : int [1:16529826] 38 77 117 118 223 225 254 255 497 548 ...\n",
      "  ..@ p       : int [1:16061] 0 885 1599 1892 2416 2575 3537 3994 4554 7831 ...\n",
      "  ..@ Dim     : int [1:2] 69111 16060\n",
      "  ..@ Dimnames:List of 2\n",
      "  .. ..$ : chr [1:69111] \"chr1_517_1018\" \"chr1_8983_9484\" \"chr1_16065_16566\" \"chr1_39668_40169\" ...\n",
      "  .. ..$ : chr [1:16060] \"BC:Z:ACTGATAGTCAAAAACAACTGATCGAGG-Zm_rep1_P10_10x.rep1\" \"BC:Z:ACTGATAGTCAAAAACAACTGATGTTTC-Zm_rep1_P10_10x.rep1\" \"BC:Z:ACTGATAGTCAAAAACAATGAGCCGCGT-Zm_rep1_P10_10x.rep1\" \"BC:Z:ACTGATAGTCAAAAACACGTACGGTTTC-Zm_rep1_P10_10x.rep1\" ...\n",
      "  ..@ x       : num [1:16529826] 1 1 1 1 1 1 1 1 1 1 ...\n",
      "  ..@ factors : list()\n"
     ]
    }
   ],
   "source": [
    "str(a)"
   ]
  },
  {
   "cell_type": "code",
   "execution_count": 14,
   "id": "b04b1c26",
   "metadata": {},
   "outputs": [
    {
     "name": "stdout",
     "output_type": "stream",
     "text": [
      "Formal class 'GRanges' [package \"GenomicRanges\"] with 7 slots\n",
      "  ..@ seqnames       :Formal class 'Rle' [package \"S4Vectors\"] with 4 slots\n",
      "  .. .. ..@ values         : Factor w/ 12 levels \"chr1\",\"chr2\",..: 1 2 3 4 5 6 7 8 9 10 ...\n",
      "  .. .. ..@ lengths        : int [1:12] 10688 8074 7706 7336 7782 5672 5789 5891 5340 4698 ...\n",
      "  .. .. ..@ elementMetadata: NULL\n",
      "  .. .. ..@ metadata       : list()\n",
      "  ..@ ranges         :Formal class 'IRanges' [package \"IRanges\"] with 6 slots\n",
      "  .. .. ..@ start          : int [1:69111] 517 8983 16065 39668 45928 123054 145382 161894 162505 165164 ...\n",
      "  .. .. ..@ width          : int [1:69111] 502 502 502 502 502 502 502 502 502 502 ...\n",
      "  .. .. ..@ NAMES          : NULL\n",
      "  .. .. ..@ elementType    : chr \"ANY\"\n",
      "  .. .. ..@ elementMetadata: NULL\n",
      "  .. .. ..@ metadata       : list()\n",
      "  ..@ strand         :Formal class 'Rle' [package \"S4Vectors\"] with 4 slots\n",
      "  .. .. ..@ values         : Factor w/ 3 levels \"+\",\"-\",\"*\": 3\n",
      "  .. .. ..@ lengths        : int 69111\n",
      "  .. .. ..@ elementMetadata: NULL\n",
      "  .. .. ..@ metadata       : list()\n",
      "  ..@ seqinfo        :Formal class 'Seqinfo' [package \"GenomeInfoDb\"] with 4 slots\n",
      "  .. .. ..@ seqnames   : chr [1:12] \"chr1\" \"chr2\" \"chr3\" \"chr4\" ...\n",
      "  .. .. ..@ seqlengths : int [1:12] NA NA NA NA NA NA NA NA NA NA ...\n",
      "  .. .. ..@ is_circular: logi [1:12] NA NA NA NA NA NA ...\n",
      "  .. .. ..@ genome     : chr [1:12] NA NA NA NA ...\n",
      "  ..@ elementMetadata:Formal class 'DFrame' [package \"S4Vectors\"] with 6 slots\n",
      "  .. .. ..@ rownames       : NULL\n",
      "  .. .. ..@ nrows          : int 69111\n",
      "  .. .. ..@ listData       : Named list()\n",
      "  .. .. ..@ elementType    : chr \"ANY\"\n",
      "  .. .. ..@ elementMetadata: NULL\n",
      "  .. .. ..@ metadata       : list()\n",
      "  ..@ elementType    : chr \"ANY\"\n",
      "  ..@ metadata       : list()\n"
     ]
    }
   ],
   "source": [
    "str(peaks)"
   ]
  },
  {
   "cell_type": "code",
   "execution_count": 15,
   "id": "6d3a854d",
   "metadata": {},
   "outputs": [
    {
     "name": "stderr",
     "output_type": "stream",
     "text": [
      "Estimating GC bias ...\n",
      "\n",
      "Filtering samples ...\n",
      "\n",
      "Filtering peaks ...\n",
      "\n"
     ]
    }
   ],
   "source": [
    "# add GC data\n",
    "message(\"Estimating GC bias ...\")\n",
    "fragment_counts <- addGCBias(fragment_counts, genome=BSgenome.Zm_B73)\n",
    "\n",
    "# filter cells\n",
    "message(\"Filtering samples ...\")\n",
    "filtered_counts <- filterSamples(fragment_counts, min_depth=5, min_in_peaks=0.1, shiny=F)\n",
    "\n",
    "# filter peaks\n",
    "message(\"Filtering peaks ...\")\n",
    "filtered_counts <- filterPeaks(filtered_counts, non_overlapping=T, min_fragments_per_peak=5)"
   ]
  },
  {
   "cell_type": "code",
   "execution_count": 16,
   "id": "5c0d4e4e",
   "metadata": {},
   "outputs": [
    {
     "name": "stderr",
     "output_type": "stream",
     "text": [
      "Running motif analysis ...\n",
      "\n"
     ]
    }
   ],
   "source": [
    "###############################################################################\n",
    "## motif deviation\n",
    "###############################################################################\n",
    "setwd(\"/scratch/jpm73279/comparative_single_cell/dev_location/ChromVar.motif_dev\")\n",
    "# estimate deviations\n",
    "message(\"Running motif analysis ...\")\n",
    "jaspmotifs       <- getJasparMotifs2(species = \"Arabidopsis thaliana\")\n",
    "motif            <- matchMotifs(jaspmotifs, filtered_counts, genome = BSgenome.Zm_B73)\n",
    "dev.motif        <- computeDeviations(object = filtered_counts, annotations = motif)\n",
    "dev.motif.scores <- deviationScores(dev.motif)\n",
    "motif.devs       <- deviations(dev.motif)\n",
    "saveRDS(motif, file=paste0(prefix,\".motif_matches.rds\"))\n",
    "write.table(t(dev.motif.scores), file=paste0(prefix,\".motif.scores.txt\"), quote=F, row.names=T, col.names=T, sep=\"\\t\")\n",
    "write.table(t(motif.devs), file=paste0(prefix,\".motif.deviations.txt\"), quote=F, row.names=T, col.names=T, sep=\"\\t\")"
   ]
  },
  {
   "cell_type": "code",
   "execution_count": 17,
   "id": "ca732f9d",
   "metadata": {},
   "outputs": [
    {
     "data": {
      "text/html": [
       "<strong>png:</strong> 2"
      ],
      "text/latex": [
       "\\textbf{png:} 2"
      ],
      "text/markdown": [
       "**png:** 2"
      ],
      "text/plain": [
       "png \n",
       "  2 "
      ]
     },
     "metadata": {},
     "output_type": "display_data"
    },
    {
     "name": "stderr",
     "output_type": "stream",
     "text": [
      "--Finished--\n",
      "\n"
     ]
    }
   ],
   "source": [
    "# plot motif\n",
    "variability <- computeVariability(dev.motif)\n",
    "pdf(paste0(prefix,\".motif.variability.pdf\"), width=6, height=4)\n",
    "plotVariability(variability, use_plotly = FALSE, n=10)\n",
    "dev.off()\n",
    "\n",
    "## background peaks\n",
    "bbpeaks <- getBackgroundPeaks(filtered_counts)\n",
    "write.table(bbpeaks, file=\"backgroundPeaks.mat.txt\", quote=F, row.names=T, col.names=T, sep=\"\\t\")\n",
    "message(\"--Finished--\")"
   ]
  },
  {
   "cell_type": "code",
   "execution_count": 18,
   "id": "a7493939",
   "metadata": {},
   "outputs": [],
   "source": [
    "x <- (dev.motif.scores)\n",
    "row_var <- apply(x, 1, sd)\n",
    "sorted_var <- sort(row_var, decreasing = TRUE)"
   ]
  },
  {
   "cell_type": "code",
   "execution_count": 19,
   "id": "4df76cde",
   "metadata": {},
   "outputs": [],
   "source": [
    "#diff_acc <- differentialDeviations(dev.motif, \"Zm_v4_annot\")"
   ]
  },
  {
   "cell_type": "code",
   "execution_count": 20,
   "id": "c075d5f8",
   "metadata": {},
   "outputs": [],
   "source": [
    "test <- dev.motif.scores[names(sorted_var),]\n",
    "test <- t(test)"
   ]
  },
  {
   "cell_type": "code",
   "execution_count": 21,
   "id": "05af92b4",
   "metadata": {},
   "outputs": [],
   "source": [
    "test <- as.data.frame(test)\n",
    "test$cellID <- rownames(test)"
   ]
  },
  {
   "cell_type": "code",
   "execution_count": 22,
   "id": "bcecf5f2",
   "metadata": {},
   "outputs": [],
   "source": [
    "prepare_for_plotting <- meta  %>% \n",
    "    dplyr::select(cellID, umap1, umap2, Zm_v4_annot) %>% \n",
    "    left_join(., test, by = c(\"cellID\"))  %>% \n",
    "    pivot_longer(!c(\"cellID\", \"umap1\", \"umap2\", \"Zm_v4_annot\"), names_to = \"transcription_factor\", values_to = \"deviation_score\")\n",
    "    \n"
   ]
  },
  {
   "cell_type": "code",
   "execution_count": 23,
   "id": "d73ae520",
   "metadata": {},
   "outputs": [
    {
     "name": "stderr",
     "output_type": "stream",
     "text": [
      "\n",
      "Attaching package: ‘cowplot’\n",
      "\n",
      "\n",
      "The following object is masked from ‘package:lubridate’:\n",
      "\n",
      "    stamp\n",
      "\n",
      "\n"
     ]
    }
   ],
   "source": [
    "library(dplyr)\n",
    "library(purrr)\n",
    "library(ggplot2)\n",
    "library(cowplot)"
   ]
  },
  {
   "cell_type": "code",
   "execution_count": 24,
   "id": "be088954",
   "metadata": {},
   "outputs": [],
   "source": [
    "\n",
    "#options(repr.plot.width=20, repr.plot.height=30)\n",
    "captured_plots <- prepare_for_plotting %>%\n",
    "    dplyr::filter(is.na(deviation_score) != TRUE)  %>% \n",
    "    mutate(absolute_dev = abs(deviation_score)) %>% \n",
    "    #dplyr::mutate(deviation_score = case_when(is.na(deviation_score) == TRUE ~ 0,\n",
    "    #                                          TRUE ~deviation_score ))  %>% \n",
    "    group_by(transcription_factor)  %>% \n",
    "    dplyr::arrange((absolute_dev), .by_group = TRUE)  %>% \n",
    "    dplyr::ungroup()  %>% \n",
    "    group_split(transcription_factor) %>% \n",
    "      map(\n",
    "        ~ggplot(., aes(umap1, umap2, color = deviation_score)) + \n",
    "            geom_point(size = .05, alpha = .5) +\n",
    "            theme_half_open() +\n",
    "            scale_colour_gradient2(\n",
    "            low = \"#3366CC\", \n",
    "            mid = \"white\", \n",
    "            high = \"#FF3300\", \n",
    "            midpoint = median(.$deviation_score, na.rm = TRUE)\n",
    "      ) +\n",
    "      facet_grid(~ transcription_factor , labeller = function(x) label_value(x, multi_line = FALSE))\n",
    "  )\n",
    "\n",
    "\n",
    "all_plots = plot_grid(plotlist = captured_plots, align = 'hv', ncol = 6)\n",
    "width_cal <- 6 * 5\n",
    "length_cal <- round((dim(test)[[2]])*5 / 6)         \n",
    "          \n",
    "          \n",
    "ggsave(str_c(prefix, \".motif_dev.pdf\"), plot = all_plots,\n",
    "    width = width_cal, height = length_cal,\n",
    "    units = c('in'), limitsize = FALSE,\n",
    "    dpi = 300)\n",
    "          "
   ]
  },
  {
   "cell_type": "code",
   "execution_count": 28,
   "id": "044d07be",
   "metadata": {},
   "outputs": [
    {
     "data": {
      "text/html": [
       "'/scratch/jpm73279/comparative_single_cell/dev_location/ChromVar.motif_dev'"
      ],
      "text/latex": [
       "'/scratch/jpm73279/comparative\\_single\\_cell/dev\\_location/ChromVar.motif\\_dev'"
      ],
      "text/markdown": [
       "'/scratch/jpm73279/comparative_single_cell/dev_location/ChromVar.motif_dev'"
      ],
      "text/plain": [
       "[1] \"/scratch/jpm73279/comparative_single_cell/dev_location/ChromVar.motif_dev\""
      ]
     },
     "metadata": {},
     "output_type": "display_data"
    }
   ],
   "source": [
    "getwd()"
   ]
  },
  {
   "cell_type": "code",
   "execution_count": 25,
   "id": "4b01bac8",
   "metadata": {
    "scrolled": true
   },
   "outputs": [
    {
     "data": {
      "text/html": [
       "346"
      ],
      "text/latex": [
       "346"
      ],
      "text/markdown": [
       "346"
      ],
      "text/plain": [
       "[1] 346"
      ]
     },
     "metadata": {},
     "output_type": "display_data"
    }
   ],
   "source": [
    "length_cal <- ((dim(test)[[2]])*5 / 6)         \n",
    "round(length_cal)"
   ]
  },
  {
   "cell_type": "code",
   "execution_count": 26,
   "id": "834458da",
   "metadata": {},
   "outputs": [],
   "source": [
    "# Trying De-Novo Motif Discovery\n",
    "\n",
    "kmer_ix <- matchKmers(7, filtered_counts, genome = BSgenome.Zm_B73)"
   ]
  },
  {
   "cell_type": "code",
   "execution_count": 27,
   "id": "61fbcae5",
   "metadata": {},
   "outputs": [
    {
     "name": "stderr",
     "output_type": "stream",
     "text": [
      "Warning message in parallel::mccollect(wait = FALSE, timeout = 1):\n",
      "“1 parallel job did not deliver a result”\n"
     ]
    },
    {
     "ename": "ERROR",
     "evalue": "Error in env[[as.character(i)]] <- value: wrong args for environment subassignment\n",
     "output_type": "error",
     "traceback": [
      "Error in env[[as.character(i)]] <- value: wrong args for environment subassignment\nTraceback:\n",
      "1. computeDeviations(filtered_counts, kmer_ix)",
      "2. computeDeviations(filtered_counts, kmer_ix)",
      "3. .local(object, annotations, ...)",
      "4. compute_deviations_core(counts(object), peak_indices, background_peaks, \n .     expectation, colData = colData(object), rowData = colData(annotations))",
      "5. bplapply(peak_indices, compute_deviations_single, counts_mat = counts_mat, \n .     background_peaks = background_peaks, expectation = expectation)",
      "6. bplapply(peak_indices, compute_deviations_single, counts_mat = counts_mat, \n .     background_peaks = background_peaks, expectation = expectation)",
      "7. bplapply(X, FUN, ..., BPREDO = BPREDO, BPPARAM = BPPARAM)",
      "8. bplapply(X, FUN, ..., BPREDO = BPREDO, BPPARAM = BPPARAM)",
      "9. .bpinit(manager = manager, X = X, FUN = FUN, ARGS = ARGS, BPPARAM = BPPARAM, \n .     BPREDO = BPREDO)",
      "10. bploop(manager, FUN = FUN, BPPARAM = BPPARAM, ...)",
      "11. bploop.lapply(manager, FUN = FUN, BPPARAM = BPPARAM, ...)",
      "12. bploop(manager = manager, ITER = ITER, FUN = FUN, ARGS = ARGS, \n  .     BPPARAM = BPPARAM, reduce.in.order = TRUE, progress.length = length(X))",
      "13. bploop.iterate(manager = manager, ITER = ITER, FUN = FUN, ARGS = ARGS, \n  .     BPPARAM = BPPARAM, reduce.in.order = TRUE, progress.length = length(X))",
      "14. reducer$add(njob, value)",
      "15. add_inorder(i, value)"
     ]
    }
   ],
   "source": [
    "kmer_dev <- computeDeviations(filtered_counts, kmer_ix)\n",
    "kmer_cov <- deviationsCovariability(kmer_dev)"
   ]
  },
  {
   "cell_type": "code",
   "execution_count": null,
   "id": "c89a4571",
   "metadata": {},
   "outputs": [],
   "source": [
    "de_novos <- assembleKmers(kmer_dev, progress = FALSE) #no progress bar"
   ]
  },
  {
   "cell_type": "code",
   "execution_count": null,
   "id": "777e7072",
   "metadata": {},
   "outputs": [],
   "source": [
    "dist_to_known <- pwmDistance(de_novos, motifs)\n",
    "\n",
    "closest_match1 <- which.min(dist_to_known$dist[1,])"
   ]
  },
  {
   "cell_type": "code",
   "execution_count": null,
   "id": "bc020a07",
   "metadata": {},
   "outputs": [],
   "source": [
    "library(ggmotif) # Package on github at AliciaSchep/ggmotif. Can use seqLogo alternatively\n",
    "library(TFBSTools)"
   ]
  },
  {
   "cell_type": "code",
   "execution_count": null,
   "id": "0d2f1115",
   "metadata": {},
   "outputs": [],
   "source": [
    "ggmotif_plot(toPWM(reverseComplement(motifs[[closest_match1]]),type = \"prob\"))"
   ]
  },
  {
   "cell_type": "code",
   "execution_count": null,
   "id": "b0bdb158",
   "metadata": {},
   "outputs": [],
   "source": []
  }
 ],
 "metadata": {
  "kernelspec": {
   "display_name": "R",
   "language": "R",
   "name": "ir"
  },
  "language_info": {
   "codemirror_mode": "r",
   "file_extension": ".r",
   "mimetype": "text/x-r-source",
   "name": "R",
   "pygments_lexer": "r",
   "version": "4.1.3"
  }
 },
 "nbformat": 4,
 "nbformat_minor": 5
}
