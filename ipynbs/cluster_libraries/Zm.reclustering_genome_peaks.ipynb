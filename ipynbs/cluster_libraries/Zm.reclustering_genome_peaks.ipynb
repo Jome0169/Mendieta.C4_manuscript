{
 "cells": [
  {
   "cell_type": "code",
   "execution_count": 16,
   "id": "f975b25f",
   "metadata": {},
   "outputs": [
    {
     "data": {
      "text/html": [
       "'/home/jpm73279/.conda/envs/r_env/lib/R/library'"
      ],
      "text/latex": [
       "'/home/jpm73279/.conda/envs/r\\_env/lib/R/library'"
      ],
      "text/markdown": [
       "'/home/jpm73279/.conda/envs/r_env/lib/R/library'"
      ],
      "text/plain": [
       "[1] \"/home/jpm73279/.conda/envs/r_env/lib/R/library\""
      ]
     },
     "metadata": {},
     "output_type": "display_data"
    }
   ],
   "source": [
    ".libPaths()\n"
   ]
  },
  {
   "cell_type": "code",
   "execution_count": 18,
   "id": "20e488cf",
   "metadata": {
    "scrolled": true
   },
   "outputs": [
    {
     "name": "stderr",
     "output_type": "stream",
     "text": [
      "\u001b[36mℹ\u001b[39m Loading \u001b[34m\u001b[34mSocrates\u001b[34m\u001b[39m\n",
      "\n",
      "Warning message in (function (dep_name, dep_ver = \"*\") :\n",
      "\"Dependency package 'cicero' not available.\"\n"
     ]
    },
    {
     "ename": "ERROR",
     "evalue": "\u001b[1m\u001b[33mError\u001b[39m in \u001b[1m\u001b[1m`abort_for_missing_packages()`:\u001b[22m\n\u001b[33m!\u001b[39m Dependency package(s) 'cicero' not available.\n",
     "output_type": "error",
     "traceback": [
      "\u001b[1m\u001b[33mError\u001b[39m in \u001b[1m\u001b[1m`abort_for_missing_packages()`:\u001b[22m\n\u001b[33m!\u001b[39m Dependency package(s) 'cicero' not available.\nTraceback:\n",
      "1. load_all(\"/home/jpm73279/Socrates\")",
      "2. pkgload::load_all(path = path, reset = reset, recompile = recompile, \n .     export_all = export_all, helpers = helpers, quiet = quiet, \n .     ...)",
      "3. load_depends(path)",
      "4. abort_for_missing_packages(res, depends$package)",
      "5. abort(paste0(\"Dependency package(s) \", paste0(\"'\", pkgs[!x], \n .     \"'\", collapse = \",\"), \" not available.\"))",
      "6. signal_abort(cnd, .file)"
     ]
    }
   ],
   "source": [
    "library(\"here\")\n",
    "library(devtools)\n",
    "library(Seurat)\n",
    "library(harmony)\n",
    "library(RcppML)\n",
    "library(reshape2)\n",
    "library(tidyverse)\n",
    "load_all('/home/jpm73279/Socrates')\n",
    "data_path <- \"/scratch/jpm73279/comparative_single_cell/02.QC_clustering/zea_mays/QC_output/\"\n",
    "\n",
    "set.seed(12345)\n",
    "\n"
   ]
  },
  {
   "cell_type": "code",
   "execution_count": 8,
   "id": "5cb398e8",
   "metadata": {},
   "outputs": [],
   "source": [
    "\n",
    "library(randomcoloR)\n",
    "other <- randomcoloR::distinctColorPalette(k = 55)\n",
    "other <- sample(other)"
   ]
  },
  {
   "cell_type": "code",
   "execution_count": 9,
   "id": "0b5c9321",
   "metadata": {
    "scrolled": true
   },
   "outputs": [
    {
     "ename": "ERROR",
     "evalue": "Error in loadBEDandGenomeData(bed_intersections, ann, chr): could not find function \"loadBEDandGenomeData\"\n",
     "output_type": "error",
     "traceback": [
      "Error in loadBEDandGenomeData(bed_intersections, ann, chr): could not find function \"loadBEDandGenomeData\"\nTraceback:\n"
     ]
    }
   ],
   "source": [
    "# bed <- system.file(\"extdata\", \"test.tn5.bed.gz\", package = \"Socrates\")\n",
    "#ann <- system.file(\"extdata\", \"gencode.v19.annotation.gff3.gz\", package = \"Socrates\")\n",
    "#chr <- system.file(\"extdata\", \"hg19.txt\", package = \"Socrates\")\n",
    "\n",
    "reference_genome_path <- \"/home/jpm73279/genome_downloads/Zm-B73-REFERENCE-NAM-5.0/\"\n",
    "#analysis_path <- \"/scratch/jpm73279/comparative_single_cell/01.alignments_annotations/zea_mays/\"\n",
    "ann <- paste0(reference_genome_path,\"Zm-B73-REFERENCE-NAM-5.0_Zm00001eb.1.gff3\")\n",
    "chr <- paste0(reference_genome_path,\"Zm-B73-REFERENCE-NAM-5.0.chrom.size\")\n",
    "bed_intersections <- \"/scratch/jpm73279/comparative_single_cell/01.alignments_annotations/zea_mays/Zm.all_mergeed_repds.unique.mpq10.tn5.sorted.bed\"\n",
    "\n",
    "\n",
    "#Load Object\n",
    "Zm.subcluster <- loadBEDandGenomeData(bed_intersections, ann, chr)\n",
    "#zea_m.rep.peaks  <- paste0(pre, \"macs2_temp\", sep=\".\")"
   ]
  },
  {
   "cell_type": "code",
   "execution_count": null,
   "id": "9505badd",
   "metadata": {},
   "outputs": [],
   "source": [
    "\n",
    "marker_list_maize_file <- \"/home/jpm73279/genome_downloads/Zm-B73-REFERENCE-NAM-5.0/markers/Zm.markers.leaf.txt\"\n",
    "marker_list_maize <- read_delim(marker_list_maize_file, delim='\\t', \n",
    "                                       col_names = TRUE)"
   ]
  },
  {
   "cell_type": "code",
   "execution_count": null,
   "id": "1325badd",
   "metadata": {},
   "outputs": [],
   "source": [
    "loaded_socrates_data <- readRDS(\"/scratch/jpm73279/comparative_single_cell/02.QC_clustering/zea_mays/clustering/Zm_leaf.merged_replicates.updated_annotation_approach.V3.2022-06-23.saved_socrates_output.RDS\")"
   ]
  },
  {
   "cell_type": "code",
   "execution_count": null,
   "id": "5625cfbd",
   "metadata": {},
   "outputs": [],
   "source": [
    "loaded_socrates_data$Clusters"
   ]
  },
  {
   "cell_type": "code",
   "execution_count": null,
   "id": "0b00b635",
   "metadata": {},
   "outputs": [],
   "source": [
    "loaded_socrates_data$Clusters  %>% \n",
    "        group_by(Louvain_cluster_safe)  %>% \n",
    "    summarise(n())\n",
    "    "
   ]
  },
  {
   "cell_type": "markdown",
   "id": "76981ca7",
   "metadata": {},
   "source": [
    "## Clustering on Annotation Peaks from V3"
   ]
  },
  {
   "cell_type": "code",
   "execution_count": null,
   "id": "93958bfd",
   "metadata": {
    "scrolled": true
   },
   "outputs": [],
   "source": [
    "library(cowplot)\n",
    "library(randomcoloR)\n",
    "options(repr.plot.width=15, repr.plot.height=15)\n",
    "other <- randomcoloR::distinctColorPalette(k = 55)\n",
    "other <- sample(other)\n",
    "\n"
   ]
  },
  {
   "cell_type": "code",
   "execution_count": null,
   "id": "2f146fb6",
   "metadata": {},
   "outputs": [],
   "source": [
    "Zm.subcluster$acr <- read.table(\"/scratch/jpm73279/comparative_single_cell/02.QC_clustering/zea_mays/clustering/LouvainClustering_bws/Zm.LouvainCluster.V3.500bp_peaks.fixed.bed\")"
   ]
  },
  {
   "cell_type": "code",
   "execution_count": null,
   "id": "19e2b95b",
   "metadata": {
    "scrolled": true
   },
   "outputs": [],
   "source": []
  },
  {
   "cell_type": "code",
   "execution_count": null,
   "id": "c935b866",
   "metadata": {},
   "outputs": [],
   "source": [
    "?generateMatrix"
   ]
  },
  {
   "cell_type": "code",
   "execution_count": null,
   "id": "e5981842",
   "metadata": {
    "scrolled": true
   },
   "outputs": [],
   "source": [
    "Zm.subcluster <- generateMatrix(Zm.subcluster, \n",
    "                                              filtered=FALSE,\n",
    "                                              peaks = TRUE,\n",
    "                                            \n",
    "                                              verbose=TRUE)"
   ]
  },
  {
   "cell_type": "code",
   "execution_count": null,
   "id": "17d9804f",
   "metadata": {},
   "outputs": [],
   "source": [
    "updated_meta <- loaded_socrates_data$Clusters\n",
    "rownames(updated_meta) <- updated_meta$cellID\n",
    "Zm.subcluster$meta <- updated_meta\n"
   ]
  },
  {
   "cell_type": "code",
   "execution_count": null,
   "id": "68f88016",
   "metadata": {
    "scrolled": true
   },
   "outputs": [],
   "source": [
    "Zm.subcluster.sparse <- convertSparseData(Zm.subcluster, verbose = TRUE)"
   ]
  },
  {
   "cell_type": "code",
   "execution_count": null,
   "id": "84753c06",
   "metadata": {},
   "outputs": [],
   "source": [
    "# clean sparse counts matrix ---------------------------------------------\n",
    "Zm.subcluster.matrix_counts.clean <- cleanData(Zm.subcluster.sparse, \n",
    "                     min.t=0.005,  # minimum feature frequency across cells\n",
    "                     max.t=0.1, # maximum feature frequency across cells\n",
    "                     verbose=T)\n"
   ]
  },
  {
   "cell_type": "code",
   "execution_count": null,
   "id": "4197b665",
   "metadata": {
    "scrolled": true
   },
   "outputs": [],
   "source": [
    "# normalize with TFIDF ---------------------------------------------------\n",
    "Zm.subcluster.tfidf <- tfidf(Zm.subcluster.matrix_counts.clean)"
   ]
  },
  {
   "cell_type": "code",
   "execution_count": null,
   "id": "b0945dfc",
   "metadata": {},
   "outputs": [],
   "source": [
    "# project with NMF -------------------------------------------------------\n",
    "Zm.subcluster.reduce_dim <- reduceDims(Zm.subcluster.tfidf,\n",
    "                      method=\"SVD\", \n",
    "                      n.pcs=30, \n",
    "                      num.var=50000,\n",
    "                      svd_slotName=\"SVD\")"
   ]
  },
  {
   "cell_type": "code",
   "execution_count": null,
   "id": "a73863e5",
   "metadata": {},
   "outputs": [],
   "source": [
    "# reduce to 2-dimensions with UMAP ---------------------------------------\n",
    "Zm.subcluster.tfidf <- projectUMAP(Zm.subcluster.reduce_dim, \n",
    "                       verbose=T,\n",
    "                       k.near=15,\n",
    "                       m.dist=0.01,\n",
    "                       svd_slotName=\"SVD\")\n",
    "\n",
    "library(randomcoloR)\n",
    "other <- randomcoloR::distinctColorPalette(k = 55)\n",
    "other <- sample(other)\n",
    "\n",
    "ggplot(Zm.subcluster.tfidf$meta, aes(x=umap1, y = umap2, color = LouvainClusters)) +\n",
    "  scale_colour_manual(values=other)  + guides(colour = guide_legend(override.aes = list(size=5))) + \n",
    " geom_point(size = .25, alpha = .8)"
   ]
  },
  {
   "cell_type": "code",
   "execution_count": null,
   "id": "e641bdc2",
   "metadata": {},
   "outputs": [],
   "source": [
    "# identify clusters using neighborhood graph -----------------------------\n",
    "tfidf.obj.dob.filt.clusters <- callClusters(Zm.subcluster.tfidf, \n",
    "                        res=1.6,\n",
    "                        k.near = 30,\n",
    "                        #min.reads=1000,\n",
    "                        verbose=T,\n",
    "                        svd_slotName= \"SVD\",\n",
    "                        cluster_slotName=\"sub_cluster\",\n",
    "                        cleanCluster=FALSE)\n"
   ]
  },
  {
   "cell_type": "code",
   "execution_count": null,
   "id": "dd85f216",
   "metadata": {},
   "outputs": [],
   "source": [
    "colnames(Zm.subcluster$meta)"
   ]
  },
  {
   "cell_type": "code",
   "execution_count": null,
   "id": "e9197dd2",
   "metadata": {
    "scrolled": true
   },
   "outputs": [],
   "source": [
    "zea_annotation <- read_tsv(\"/home/jpm73279/Mendieta_et_al_comparative_single_cell/metrics/annotations/Zm_leaf.V3_final.txt\")"
   ]
  },
  {
   "cell_type": "code",
   "execution_count": null,
   "id": "dce255aa",
   "metadata": {},
   "outputs": [],
   "source": [
    "subset_zea <- zea_annotation  %>% \n",
    "    dplyr::select(cellID, V3_annotation_n)\n",
    "\n",
    "\n",
    "combined_new_peaks_clustering_annotation <- left_join(tfidf.obj.dob.filt.clusters$sub_cluster, subset_zea, by = c(\"cellID\"))"
   ]
  },
  {
   "cell_type": "code",
   "execution_count": null,
   "id": "2a385525",
   "metadata": {},
   "outputs": [],
   "source": [
    "options(repr.plot.width=20, repr.plot.height=5)\n",
    "\n",
    "old_clusters <- ggplot(zea_annotation, aes(x=umap1, y = umap2, color = V3_annotation_n)) +\n",
    "  scale_colour_manual(values=other)  + guides(colour = guide_legend(override.aes = list(size=5))) + \n",
    " geom_point(size = .25, alpha = .8)+ ggtitle(\"Original Clustering w/Annotation\")\n",
    "\n",
    "new_clusters <- ggplot(combined_new_peaks_clustering_annotation, aes(x=umap1, y = umap2, color = V3_annotation_n)) +\n",
    "  scale_colour_manual(values=other)  + guides(colour = guide_legend(override.aes = list(size=5))) + \n",
    " geom_point(size = .25, alpha = .8) + ggtitle(\"Peak Clustering w/Annotation\")\n",
    "\n",
    "\n",
    "old_clusters + new_clusters "
   ]
  },
  {
   "cell_type": "code",
   "execution_count": 25,
   "id": "2cba2999",
   "metadata": {},
   "outputs": [
    {
     "data": {
      "text/html": [
       "15793"
      ],
      "text/latex": [
       "15793"
      ],
      "text/markdown": [
       "15793"
      ],
      "text/plain": [
       "[1] 15793"
      ]
     },
     "metadata": {},
     "output_type": "display_data"
    },
    {
     "data": {
      "text/html": [
       "15202"
      ],
      "text/latex": [
       "15202"
      ],
      "text/markdown": [
       "15202"
      ],
      "text/plain": [
       "[1] 15202"
      ]
     },
     "metadata": {},
     "output_type": "display_data"
    }
   ],
   "source": [
    "nrow(zea_annotation)\n",
    "nrow(combined_new_peaks_clustering_annotation)"
   ]
  },
  {
   "cell_type": "code",
   "execution_count": 26,
   "id": "c9c6887d",
   "metadata": {},
   "outputs": [],
   "source": [
    "prefix <- \"Zm_leaf.merged_replicates.acr_bins\"\n",
    "output_location <- \"/scratch/jpm73279/comparative_single_cell/02.QC_clustering/zea_mays/clustering/\"\n",
    "\n",
    "nmf.rd <- tfidf.obj.dob.filt.clusters$SVD\n",
    "write.table(nmf.rd, file=paste0(output_location, prefix, \".SVD.full.reduced_dimensions.txt\"), quote=F, row.names=T, col.names=T, sep=\"\\t\")\n"
   ]
  },
  {
   "cell_type": "code",
   "execution_count": null,
   "id": "1c070168",
   "metadata": {},
   "outputs": [],
   "source": [
    "call_per_cluster_ACRs <- function(meta_obj, \n",
    "                                  slot_name, \n",
    "                                  cluster_name, \n",
    "                                  bed_integrations, \n",
    "                                  base_output_name=\"test_Rrun\", \n",
    "                                  output_dir=\"test\", \n",
    "                                  genome_file,\n",
    "                                  verbose=FALSE){\n",
    "    \n",
    "    clust_name <- c(cluster_name)\n",
    "    \n",
    "    cell_converted_trible <- as_tibble(meta_obj[[slot_name]])\n",
    "    \n",
    "    \n",
    "    generate_count_data <- cell_converted_trible  %>% \n",
    "        group_by(!!sym(clust_name))  %>% \n",
    "        summarise(counts_per_clust = n())\n",
    "    \n",
    "    print(generate_count_data)\n",
    "    \n",
    "    final_tribble <- left_join(cell_converted_trible, generate_count_data)  %>% \n",
    "        mutate(cluster_name_final = str_c(!!sym(clust_name), \"_ncell_\", counts_per_clust))\n",
    "\n",
    "    \n",
    "    write_delim(final_tribble, \"test_output_name.2.txt\", \n",
    "            col_names = TRUE, quote = \"none\", delim = \"\\t\")\n",
    "\n",
    "    if(verbose){message(\"Calling peaks for Clusters - This may take some time. Check output terminal for info.\")}\n",
    "    generate_run_command = paste0(\"python /home/jpm73279/Mendieta_et_al_comparative_single_cell/python_scripts/scATAC/call_scACRs.py -bed \", bed_integrations, \n",
    "                                  \" -meta \", \"test_output_name.2.txt\", \n",
    "                                  \" -col \", \"cluster_name_final\", \n",
    "                                  \" -base \", base_output_name, \n",
    "                                  \" -outdir \", output_dir, \n",
    "                                  \" -bw yes -fai \", genome_file)\n",
    "    \n",
    "    print(generate_run_command)\n",
    "    system(generate_run_command)\n",
    "\n",
    "    \n",
    "    if(verbose){message(\"Done!\")}\n",
    "    \n",
    "    output_peak_file_name <- paste0(output_dir, \"/\", base_output_name, \".500bp_peaks.bed\")\n",
    "    \n",
    "    meta_obj$acr_file_name <- output_peak_file_name\n",
    "    return(meta_obj)\n",
    "    \n",
    "}\n"
   ]
  }
 ],
 "metadata": {
  "kernelspec": {
   "display_name": "R",
   "language": "R",
   "name": "ir"
  },
  "language_info": {
   "codemirror_mode": "r",
   "file_extension": ".r",
   "mimetype": "text/x-r-source",
   "name": "R",
   "pygments_lexer": "r",
   "version": "4.1.3"
  }
 },
 "nbformat": 4,
 "nbformat_minor": 5
}
