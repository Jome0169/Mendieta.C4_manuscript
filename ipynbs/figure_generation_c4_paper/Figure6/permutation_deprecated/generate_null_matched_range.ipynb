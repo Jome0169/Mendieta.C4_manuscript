{
 "cells": [
  {
   "cell_type": "code",
   "execution_count": null,
   "id": "0aaa8750-84db-44ea-9229-4db4ff1baa67",
   "metadata": {},
   "outputs": [],
   "source": [
    "#!/usr/bin/env Rscript\n",
    "\n",
    "# Load necessary libraries\n",
    "library(argparse)\n",
    "library(Biostrings)\n",
    "library(GenomicRanges)\n",
    "library(dplyr)\n",
    "library(purrr)\n",
    "library(tidyr)\n",
    "library(readr)\n",
    "library(BSgenome)\n",
    "\n",
    "# Argument parsing\n",
    "parser <- ArgumentParser()\n",
    "parser$add_argument(\"-f\", \"--fasta\", type=\"character\", help=\"FASTA file\")\n",
    "parser$add_argument(\"-b\", \"--bed\", type=\"character\", help=\"BED file\")\n",
    "parser$add_argument(\"-o\", \"--output\", type=\"character\", help=\"Output file\")\n",
    "parser$add_argument(\"-g\", \"--genome\", type=\"character\", help=\"Genome BS\")\n",
    "args <- parser$parse_args()\n",
    "\n",
    "# Read input files\n",
    "fasta_file <- args$fasta\n",
    "bed_file <- args$bed\n",
    "output_file <- args$output\n",
    "\n",
    "# Load genome for BSgenome\n",
    "library(args$genome)\n",
    "genome_bs <- BSgenome.Os\n",
    "\n",
    "# Define your processing function here\n",
    "process_files <- function(fasta_file, bed_file) {\n",
    "\n",
    "    \n",
    "    os_acrs <- read_delim(\"/scratch/jpm73279/comparative_single_cell/07.call.ACRs/copy_over/zm_acr_classification.no_exons.all_ACRs.classified.sorted.bed\", \n",
    "                          col_names = c(\"chr\", \"start\", \"end\", \"acr_id\", \"score\"))\n",
    "    \n",
    "    \n",
    "    \n",
    "    \n",
    "    \n",
    "}\n",
    "\n",
    "# Call the processing function\n",
    "processed_data <- process_files(fasta_file, bed_file)\n",
    "\n",
    "# Write output to a file\n",
    "# You may need to adapt this part based on the format of your processed data\n",
    "write.fasta(sequences = processed_data$sequences, names = processed_data$names, file = output_file)\n"
   ]
  }
 ],
 "metadata": {
  "kernelspec": {
   "display_name": "R",
   "language": "R",
   "name": "ir"
  },
  "language_info": {
   "codemirror_mode": "r",
   "file_extension": ".r",
   "mimetype": "text/x-r-source",
   "name": "R",
   "pygments_lexer": "r",
   "version": "4.1.3"
  }
 },
 "nbformat": 4,
 "nbformat_minor": 5
}
