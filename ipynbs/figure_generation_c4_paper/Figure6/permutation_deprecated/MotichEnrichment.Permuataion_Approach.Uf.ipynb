{
 "cells": [
  {
   "cell_type": "code",
   "execution_count": 7,
   "id": "9edabf37-0e5c-40d6-b467-698655d3f169",
   "metadata": {},
   "outputs": [
    {
     "name": "stderr",
     "output_type": "stream",
     "text": [
      "\u001b[1m\u001b[22m\u001b[36mℹ\u001b[39m Loading \u001b[34mBSgenome.Uf\u001b[39m\n"
     ]
    }
   ],
   "source": [
    "###################################################################################################\n",
    "###                             Motif Enrichment                                ###\n",
    "###################################################################################################\n",
    "\n",
    "#load libraries\n",
    "library(tidyverse)\n",
    "library(devtools)\n",
    "library(motifmatchr)\n",
    "library(BiocParallel)\n",
    "load_all(\"/home/jpm73279/genome_downloads/BS_genomes/BSgenome.Uf\")\n",
    "\n",
    "\n",
    "\n",
    "library(Matrix)\n",
    "library(GenomicAlignments)\n",
    "library(dplyr)\n",
    "library(universalmotif)  # manipulating motif representations\n",
    "library(nullranges)\n",
    "genome_bs <- BSgenome.Uf\n"
   ]
  },
  {
   "cell_type": "code",
   "execution_count": 8,
   "id": "ffb2f7f3-7dc6-40e5-b556-9d3e06fc975e",
   "metadata": {},
   "outputs": [
    {
     "name": "stderr",
     "output_type": "stream",
     "text": [
      "\u001b[1mRows: \u001b[22m\u001b[34m31\u001b[39m \u001b[1mColumns: \u001b[22m\u001b[34m6\u001b[39m\n",
      "\u001b[36m──\u001b[39m \u001b[1mColumn specification\u001b[22m \u001b[36m────────────────────────────────────────────────────────\u001b[39m\n",
      "\u001b[1mDelimiter:\u001b[22m \"\\t\"\n",
      "\u001b[31mchr\u001b[39m (4): chrom, geneID, name, type\n",
      "\u001b[32mdbl\u001b[39m (2): start, end\n",
      "\n",
      "\u001b[36mℹ\u001b[39m Use `spec()` to retrieve the full column specification for this data.\n",
      "\u001b[36mℹ\u001b[39m Specify the column types or set `show_col_types = FALSE` to quiet this message.\n"
     ]
    }
   ],
   "source": [
    "\n",
    "## Load Markers for All Species\n",
    "marker_file_paths <- c(\"/home/jpm73279/genome_downloads/C4_markers/Uf.c4_markers.bed\")\n",
    "\n",
    "# Function to read and process the file\n",
    "process_file <- function(file_path) {\n",
    "  species <- substr(basename(file_path), 1, 2)\n",
    "  read_delim(file_path, delim = \"\\t\", col_names = c(\"chrom\", \"start\", \"end\", \"geneID\", \"name\", \"type\")) %>% \n",
    "    dplyr::select(\"chrom\",\"start\",\"end\",\"geneID\",\"name\",\"type\") %>%\n",
    "    dplyr::mutate(species = (species))\n",
    "}\n",
    "\n",
    "# Apply the function to each file and store results in a list\n",
    "list_of_dataframes <- lapply(marker_file_paths, process_file)\n",
    "\n",
    "# Optionally combine all dataframes into one if needed\n",
    "markers <- bind_rows(list_of_dataframes) %>% \n",
    "    dplyr::select(geneID,name,type,species) \n"
   ]
  },
  {
   "cell_type": "code",
   "execution_count": 9,
   "id": "1a637f36-0470-4330-93c7-12e527f8b86d",
   "metadata": {},
   "outputs": [],
   "source": [
    "### Load Motifs for Analysis\n",
    "core_motifs <- read_meme(\"/scratch/jpm73279/comparative_single_cell/07.call.ACRs/00.data/conserved_consensus_motifs_Fig2B.meme\")\n",
    "de_novo_motifs <- read_meme(\"/home/jpm73279/genome_downloads/C4_markers/found_motifs/combined_unique_motifs.meme\")\n",
    "ms_de_novo_motifs <- read_meme(\"/home/jpm73279/genome_downloads/C4_markers/found_motifs/Ms.specific_CGTCGT_motif.comparative.meme\")\n",
    "\n",
    "all_assy_motifs <- c(core_motifs, de_novo_motifs, ms_de_novo_motifs)\n",
    "all_assy_motifs_converted <- convert_motifs(all_assy_motifs, class = \"TFBSTools-PWMatrix\")\n",
    "\n",
    "update_name <- function(pwm) {\n",
    "    if (!is.null(pwm@name)) {\n",
    "        pwm@ID <- pwm@name\n",
    "    }\n",
    "    return(pwm)\n",
    "}\n",
    "\n",
    "\n",
    "### Update the Names to be the actual IDs, as well as convert to PWM matrix List (Nasty as fuck)\n",
    "library(TFBSTools)\n",
    "pw_matrix_list_converted <- lapply(all_assy_motifs_converted, update_name)\n",
    "pw_matrix_list_converted <- lapply(pw_matrix_list_converted, PWMatrixList)\n",
    "pw_matrix_list_converted <- do.call(c, pw_matrix_list_converted)\n",
    "\n",
    "\n",
    "#Generate an Index Annotation name for later usage. Will be used because we need to rip these to annotate the Granges objects\n",
    "#later\n",
    "extractIDDataFrame <- function(pwMatrixList) {\n",
    "  ids <- sapply(pwMatrixList@listData, function(item) item@ID)\n",
    "  ids <- gsub(\"chr\", \"\", ids, fixed = TRUE)\n",
    "  indices <- seq_along(ids)\n",
    "  \n",
    "  data.frame(group = indices, TF_ID = ids)\n",
    "}\n",
    "\n",
    "# Example usage:\n",
    "# Assuming your PWMatrixList object is named pwMatrixListObject\n",
    "motif_id_index <- extractIDDataFrame(pw_matrix_list_converted)"
   ]
  },
  {
   "cell_type": "code",
   "execution_count": 26,
   "id": "dd2cc3be-93e8-4aea-b63e-fa9bb505d935",
   "metadata": {},
   "outputs": [
    {
     "name": "stderr",
     "output_type": "stream",
     "text": [
      "\u001b[1mRows: \u001b[22m\u001b[34m29153\u001b[39m \u001b[1mColumns: \u001b[22m\u001b[34m5\u001b[39m\n",
      "\u001b[36m──\u001b[39m \u001b[1mColumn specification\u001b[22m \u001b[36m────────────────────────────────────────────────────────\u001b[39m\n",
      "\u001b[1mDelimiter:\u001b[22m \"\\t\"\n",
      "\u001b[31mchr\u001b[39m (3): chr, acr_id, score\n",
      "\u001b[32mdbl\u001b[39m (2): start, end\n",
      "\n",
      "\u001b[36mℹ\u001b[39m Use `spec()` to retrieve the full column specification for this data.\n",
      "\u001b[36mℹ\u001b[39m Specify the column types or set `show_col_types = FALSE` to quiet this message.\n"
     ]
    }
   ],
   "source": [
    "#sb_acrs <- read_delim(\"/scratch/jpm73279/comparative_single_cell/07.call.ACRs/copy_over/sb_acr_classification.no_exons.all_ACRs.classified.sorted.bed\", col_names = c(\"chr\", \"start\", \"end\", \"acr_id\", \"score\"))\n",
    "#pm_acrs <- read_delim(\"/scratch/jpm73279/comparative_single_cell/07.call.ACRs/copy_over/pm_acr_classification.no_exons.all_ACRs.classified.sorted.bed\", col_names = c(\"chr\", \"start\", \"end\", \"acr_id\", \"score\"))\n",
    "#zm_acrs <- read_delim(\"/scratch/jpm73279/comparative_single_cell/07.call.ACRs/copy_over/zm_acr_classification.no_exons.all_ACRs.classified.sorted.bed\", col_names = c(\"chr\", \"start\", \"end\", \"acr_id\", \"score\"))\n",
    "uf_acrs <- read_delim(\"/scratch/jpm73279/comparative_single_cell/07.call.ACRs/copy_over/uf_acr_classification.no_exons.all_ACRs.classified.sorted.bed\", col_names = c(\"chr\", \"start\", \"end\", \"acr_id\", \"score\")) %>% \n",
    "    dplyr::filter(!grepl(\"scaffold\", chr)) %>% \n",
    "    dplyr::filter(!grepl(\"NC\", chr))\n",
    "    \n",
    "#os_acrs <- read_delim(\"/scratch/jpm73279/comparative_single_cell/07.call.ACRs/copy_over/os_acr_classification.no_exons.all_ACRs.classified.sorted.bed\", col_names = c(\"chr\", \"start\", \"end\", \"acr_id\", \"score\"))\n",
    "\n"
   ]
  },
  {
   "cell_type": "code",
   "execution_count": 28,
   "id": "c25e4639-c5e8-490c-8230-d334dbcc04fe",
   "metadata": {},
   "outputs": [
    {
     "name": "stderr",
     "output_type": "stream",
     "text": [
      "\u001b[1mRows: \u001b[22m\u001b[34m103\u001b[39m \u001b[1mColumns: \u001b[22m\u001b[34m5\u001b[39m\n",
      "\u001b[36m──\u001b[39m \u001b[1mColumn specification\u001b[22m \u001b[36m────────────────────────────────────────────────────────\u001b[39m\n",
      "\u001b[1mDelimiter:\u001b[22m \"\\t\"\n",
      "\u001b[31mchr\u001b[39m (3): chr, id, score\n",
      "\u001b[32mdbl\u001b[39m (2): start, end\n",
      "\n",
      "\u001b[36mℹ\u001b[39m Use `spec()` to retrieve the full column specification for this data.\n",
      "\u001b[36mℹ\u001b[39m Specify the column types or set `show_col_types = FALSE` to quiet this message.\n"
     ]
    }
   ],
   "source": [
    "header_bed <- c('chr','start','end','id','score')\n",
    "zm_acr_intersections <- read_delim(\"/home/jpm73279/genome_downloads/C4_markers/conservation/uf.all_intersection_acr.intersection.bed\", \n",
    "            col_names = header_bed) %>% \n",
    "    separate(id, into = c(\"acr\", \"acr_cell_type_specific_class\", \"locus\"), sep = \";\") %>%\n",
    "    dplyr::mutate(acr_cell_type_specific_class = case_when(acr_cell_type_specific_class == \"bundle_sheath,procambial_meristem\" ~ \"bundle_sheath\",\n",
    "                                                          acr_cell_type_specific_class == \"bundle_sheath,procambium\" ~ \"bundle_sheath\", \n",
    "                                                          TRUE ~ acr_cell_type_specific_class)) %>% \n",
    "    tidyr::separate(locus, into = c(\"species_other\", \"loci\"), sep = \"__\",remove = FALSE) %>%\n",
    "    tidyr::separate(loci, into = c(\"gene_family\", \"number\"), sep = \"_\", remove = FALSE)\n",
    "\n",
    "combined_acrs_marker_info <- left_join(zm_acr_intersections, markers, by = c(\"locus\" = \"name\")) %>% \n",
    "    select(acr,acr_cell_type_specific_class, locus, gene_family, type)\n"
   ]
  },
  {
   "cell_type": "code",
   "execution_count": 27,
   "id": "1f128024-5b0c-4a66-8d9d-c9b3fd28cae3",
   "metadata": {},
   "outputs": [],
   "source": [
    "GetGC <- function(bsgenome, gr){\n",
    "\n",
    "  seqs <- BSgenome::getSeq(bsgenome, gr)\n",
    "  return(as.numeric(Biostrings::letterFrequency(x = seqs, letters = \"GC\", as.prob = TRUE)))\n",
    "\n",
    "\n",
    "}"
   ]
  },
  {
   "cell_type": "code",
   "execution_count": 30,
   "id": "c9828414-933d-4ab1-a332-128325b1047c",
   "metadata": {},
   "outputs": [
    {
     "data": {
      "text/html": [
       "<style>\n",
       ".list-inline {list-style: none; margin:0; padding: 0}\n",
       ".list-inline>li {display: inline-block}\n",
       ".list-inline>li:not(:last-child)::after {content: \"\\00b7\"; padding: 0 .5ex}\n",
       "</style>\n",
       "<ol class=list-inline><li>'Chr01'</li><li>'Chr02'</li><li>'Chr03'</li><li>'Chr04'</li><li>'Chr05'</li><li>'Chr06'</li><li>'Chr07'</li><li>'Chr08'</li><li>'Chr09'</li></ol>\n"
      ],
      "text/latex": [
       "\\begin{enumerate*}\n",
       "\\item 'Chr01'\n",
       "\\item 'Chr02'\n",
       "\\item 'Chr03'\n",
       "\\item 'Chr04'\n",
       "\\item 'Chr05'\n",
       "\\item 'Chr06'\n",
       "\\item 'Chr07'\n",
       "\\item 'Chr08'\n",
       "\\item 'Chr09'\n",
       "\\end{enumerate*}\n"
      ],
      "text/markdown": [
       "1. 'Chr01'\n",
       "2. 'Chr02'\n",
       "3. 'Chr03'\n",
       "4. 'Chr04'\n",
       "5. 'Chr05'\n",
       "6. 'Chr06'\n",
       "7. 'Chr07'\n",
       "8. 'Chr08'\n",
       "9. 'Chr09'\n",
       "\n",
       "\n"
      ],
      "text/plain": [
       "[1] \"Chr01\" \"Chr02\" \"Chr03\" \"Chr04\" \"Chr05\" \"Chr06\" \"Chr07\" \"Chr08\" \"Chr09\""
      ]
     },
     "metadata": {},
     "output_type": "display_data"
    }
   ],
   "source": [
    "unique(uf_acrs$chr)"
   ]
  },
  {
   "cell_type": "code",
   "execution_count": 29,
   "id": "d63f4e77-47f0-4381-8cf5-ea1d67b31416",
   "metadata": {},
   "outputs": [],
   "source": [
    "zm_peaks_gr <- GRanges(uf_acrs, seqinfo=seqinfo(genome_bs))\n"
   ]
  },
  {
   "cell_type": "code",
   "execution_count": 31,
   "id": "f3a0395e-a209-4c26-af90-136bf49b6b30",
   "metadata": {},
   "outputs": [
    {
     "data": {
      "text/plain": [
       "hasNs\n",
       "FALSE  TRUE   Sum \n",
       "29092     1 29093 "
      ]
     },
     "metadata": {},
     "output_type": "display_data"
    }
   ],
   "source": [
    "zm_peaks_gr <- GRanges(uf_acrs, seqinfo=seqinfo(genome_bs))\n",
    "zm_gc_content_acrs <- GetGC(genome_bs, zm_peaks_gr)\n",
    "zm_peaks_gr$GC <- zm_gc_content_acrs\n",
    "\n",
    "names(zm_peaks_gr) <- as.character(zm_peaks_gr)\n",
    "zm_peaks_gr <- unique(zm_peaks_gr)\n",
    "\n",
    "# get peak sequences, we'll need this later\n",
    "zm_peak_seqs <- getSeq(genome_bs, zm_peaks_gr) # <2s\n",
    "\n",
    "\n",
    "# exclude peaks with any N's, to avoid warnings further down\n",
    "hasNs    <- (alphabetFrequency(zm_peak_seqs)[,\"N\"]>0)\n",
    "addmargins(table(hasNs)) # => only drops 5 sequences\n",
    "\n",
    "zm_peak_seqs <- zm_peak_seqs[!hasNs]\n",
    "zm_peaks_gr  <- zm_peaks_gr[!hasNs]\n"
   ]
  },
  {
   "cell_type": "code",
   "execution_count": 32,
   "id": "6570f9a9-e927-423a-9c73-72467911ca1e",
   "metadata": {},
   "outputs": [],
   "source": [
    "zm_acrs_TFs <- as_tibble(as.data.frame(zm_peaks_gr)) %>% \n",
    "    tidyr::separate(acr_id, into = c(\"acr\", \"acr_cell_type_specific_class\"), sep = \";\") %>%\n",
    "    dplyr::mutate(acr_cell_type_specific_class = case_when(acr_cell_type_specific_class == \"bundle_sheath,procambial_meristem\" ~ \"bundle_sheath\",\n",
    "                                                          acr_cell_type_specific_class == \"bundle_sheath,procambium\" ~ \"bundle_sheath\", \n",
    "                                                          TRUE ~ acr_cell_type_specific_class)) %>% \n",
    "    left_join(., combined_acrs_marker_info, by = c(\"acr\", \"acr_cell_type_specific_class\")) %>% \n",
    "    mutate(locus = case_when(is.na(locus) == TRUE ~ \"None\",\n",
    "                            TRUE ~ locus),\n",
    "           gene_family = case_when(is.na(gene_family) == TRUE ~ \"None\",\n",
    "                            TRUE ~ gene_family),\n",
    "           type = case_when(is.na(type) == TRUE ~ \"None\",\n",
    "                            TRUE ~ type),\n",
    "          bool_type = case_when(type == \"None\" ~ FALSE,\n",
    "                                type != \"None\" ~ TRUE)) %>% \n",
    "    dplyr::filter((type == \"None\" &  acr_cell_type_specific_class == \"broadly_accessible\")| \n",
    "                  type != \"None\" &  acr_cell_type_specific_class %in% c(\"mesophyll\", \"bundle_sheath\", \"broadly_accessible\") ) \n",
    "                                "
   ]
  },
  {
   "cell_type": "code",
   "execution_count": 33,
   "id": "87550f2c-7685-477c-9e07-68ac77c5c8fc",
   "metadata": {},
   "outputs": [],
   "source": [
    "## Score Real ACRs Around our regions of interest values "
   ]
  },
  {
   "cell_type": "code",
   "execution_count": 34,
   "id": "21c798b1-c63e-4ae8-8486-fd857e9ce240",
   "metadata": {},
   "outputs": [
    {
     "data": {
      "text/plain": [
       "   user  system elapsed \n",
       "  0.516   0.005   0.523 "
      ]
     },
     "metadata": {},
     "output_type": "display_data"
    },
    {
     "name": "stderr",
     "output_type": "stream",
     "text": [
      "\u001b[1m\u001b[22m`summarise()` has grouped output by 'TF_ID', 'type'. You can override using the\n",
      "`.groups` argument.\n"
     ]
    }
   ],
   "source": [
    "motif_IDs <- motif_id_index$TF_ID\n",
    "zm_acrs_c4_regions <- zm_acrs_TFs %>% \n",
    "    dplyr::filter(type != \"None\")\n",
    "\n",
    "zm_c4_peaks_gr <- GRanges(zm_acrs_c4_regions, seqinfo=seqinfo(genome_bs))\n",
    "\n",
    "names(zm_c4_peaks_gr) <- as.character(zm_c4_peaks_gr)\n",
    "zm_c4_peaks_gr <- unique(zm_c4_peaks_gr)\n",
    "\n",
    "# Get peak sequences\n",
    "peak_seqs <- getSeq(genome_bs, zm_c4_peaks_gr)\n",
    "\n",
    "# Exclude peaks with any N's\n",
    "hasNs <- (alphabetFrequency(peak_seqs)[,\"N\"] > 0)\n",
    "peak_seqs <- peak_seqs[!hasNs]\n",
    "\n",
    "# Run matchMotifs\n",
    "system.time(\n",
    "    c4_motif_matches <- matchMotifs(\n",
    "    pw_matrix_list_converted, \n",
    "    zm_c4_peaks_gr, \n",
    "    genome = genome_bs,  \n",
    "    p.cutoff = .001, # using a stringent p-value\n",
    "    out=\"positions\"\n",
    "    ))\n",
    "\n",
    "assign_motif_ids_intersect_regions <- function(granges_list, zm_c4_peaks_gr, motif_IDs) {\n",
    "    for (i in seq_along(granges_list)) {\n",
    "        # Assign motif IDs to each GRanges element\n",
    "        granges_list[[i]]$TF_ID <- motif_IDs[i]\n",
    "        \n",
    "        # Find overlaps with the provided peaks GRanges\n",
    "        overlaps <- findOverlaps(granges_list[[i]], zm_c4_peaks_gr)\n",
    "        \n",
    "        # Extract and annotate acr values based on overlaps\n",
    "        ids <- zm_c4_peaks_gr$acr[subjectHits(overlaps)]\n",
    "        granges_list[[i]]$acr <- ids[queryHits(overlaps)]\n",
    "    }\n",
    "    \n",
    "    return(granges_list)\n",
    "}\n",
    "\n",
    "granges_list_c4 <- assign_motif_ids_intersect_regions(c4_motif_matches,\n",
    "                                                      zm_c4_peaks_gr, \n",
    "                                                      motif_IDs)\n",
    "\n",
    "# Convert to tibble and join with null_samples\n",
    "zm_acrs_TFs_c4_prescence <- as_tibble((granges_list_c4)) %>% \n",
    "    left_join(., as_tibble(zm_c4_peaks_gr), by = c(\"acr\"))\n",
    "\n",
    "    # Count numbers\n",
    "real_count_numer <- zm_acrs_TFs_c4_prescence %>% \n",
    "        dplyr::group_by(TF_ID, type, locus) %>% \n",
    "        summarise(counts = n()) %>% \n",
    "        dplyr::ungroup() %>% \n",
    "    mutate(sample = \"real\")"
   ]
  },
  {
   "cell_type": "code",
   "execution_count": 39,
   "id": "689acbf7-ab53-412b-8345-c0b0e556292f",
   "metadata": {},
   "outputs": [],
   "source": [
    "generate_bootstrap_analysis_per_gene_parallel <- function(acrs_all, \n",
    "                                        pw_matrix_list_converted, \n",
    "                                        motif_id_index, \n",
    "                                        BSgenome.B73, \n",
    "                                        filter_type, \n",
    "                                        filter_value, covariate = ~GC, \n",
    "                                        p_cutoff = .001, \n",
    "                                        num_bootstraps = 10) {\n",
    "    results_per_gene <- list()\n",
    "    \n",
    "    unique_loci <- unique(acrs_all$locus)\n",
    "    gene_models <- unique_loci[unique_loci != \"None\"]\n",
    "\n",
    "#    for(gene_model in gene_models) {\n",
    "#        null_indices_list <- vector(\"list\", num_bootstraps) \n",
    "    \n",
    "       results_per_gene <- future_map(gene_models, function(gene_model) {\n",
    "        null_indices_list <- vector(\"list\", num_bootstraps)\n",
    "\n",
    "        for(bootstrap_iter in 1:num_bootstraps) {\n",
    "            # Apply dynamic filtering based on passed arguments\n",
    "            focal_filter <- acrs_all$locus == gene_model\n",
    "\n",
    "\n",
    "        # Generate null_samples\n",
    "        null_samples <- matchRanges(focal = acrs_all[acrs_all$locus == gene_model, ], \n",
    "                                    pool = acrs_all[!acrs_all$bool_type, ],\n",
    "                                    covar = covariate)\n",
    "\n",
    "        # Process the null_samples\n",
    "        null_samples <- unique(null_samples)\n",
    "        peak_seqs <- getSeq(BSgenome.B73, null_samples)\n",
    "        hasNs <- (alphabetFrequency(peak_seqs)[,\"N\"] > 0)\n",
    "        peak_seqs <- peak_seqs[!hasNs]\n",
    "\n",
    "        # Run matchMotifs\n",
    "        system.time({\n",
    "            motif_matches <- matchMotifs(\n",
    "                pw_matrix_list_converted, \n",
    "                null_samples, \n",
    "                genome = BSgenome.B73, \n",
    "                p.cutoff = p_cutoff, \n",
    "                out = \"positions\"\n",
    "            )\n",
    "        })\n",
    "\n",
    "        # Annotate and process GRanges list\n",
    "        motif_IDs <- motif_id_index$TF_ID\n",
    "        granges_list <- motif_matches\n",
    "        for (i in seq_along(granges_list)) {\n",
    "            if(length(granges_list[[i]]) > 0) {\n",
    "            granges_list[[i]]$TF_ID <- motif_IDs[i]\n",
    "        \n",
    "            overlaps <- findOverlaps(granges_list[[i]], null_samples)\n",
    "            ids <- null_samples$acr[subjectHits(overlaps)]\n",
    "            granges_list[[i]]$acr <- ids[queryHits(overlaps)]\n",
    "            }\n",
    "        }\n",
    "\n",
    "\n",
    "        # Convert to tibble and perform join and count operations\n",
    "        acrs_TFs <- as_tibble(granges_list) %>% \n",
    "            left_join(., as_tibble(null_samples), by = c(\"acr\"))\n",
    "\n",
    "        count_numer <- acrs_TFs %>% \n",
    "            dplyr::group_by(TF_ID, type) %>% \n",
    "            summarise(counts = n()) %>% \n",
    "            dplyr::ungroup()\n",
    "        \n",
    "            null_indices_list[[bootstrap_iter]] <- count_numer\n",
    "        }\n",
    "        return(null_indices_list)\n",
    "    #results_per_gene[[gene_model]] <- null_indices_list\n",
    "    }, .progress = TRUE)\n",
    "    \n",
    "    names(results_per_gene) <- gene_models\n",
    "    return(results_per_gene)\n",
    "#return(results_per_gene)\n",
    "}"
   ]
  },
  {
   "cell_type": "code",
   "execution_count": 40,
   "id": "dbeb30fa-c63d-4881-80e4-b754ee0b71da",
   "metadata": {},
   "outputs": [],
   "source": [
    "library(furrr)\n",
    "plan(multisession, workers = 8)"
   ]
  },
  {
   "cell_type": "code",
   "execution_count": null,
   "id": "43061f2f-4f9c-4728-8ec8-05822d851344",
   "metadata": {},
   "outputs": [],
   "source": [
    "set.seed(1234)\n",
    "zm_acrs_all <- GRanges(zm_acrs_TFs, seqinfo=seqinfo(genome_bs))\n",
    "generate_null_values_gene_models <- generate_bootstrap_analysis_per_gene_parallel(zm_acrs_all, \n",
    "                                        pw_matrix_list_converted, \n",
    "                                        motif_id_index, \n",
    "                                        genome_bs, \n",
    "                                        \"mesophyll\", \n",
    "                                        filter_value, \n",
    "                                        covariate = ~GC, \n",
    "                                        p_cutoff = .001, \n",
    "                                       num_bootstraps = 2000)"
   ]
  },
  {
   "cell_type": "markdown",
   "id": "9d6726f8-b201-416d-a422-fafe52dbd149",
   "metadata": {},
   "source": [
    "# Per Gene Model Motif Analysis"
   ]
  },
  {
   "cell_type": "code",
   "execution_count": null,
   "id": "7fdfaac4-b7d8-43d5-9bcc-ce0e2e13c62a",
   "metadata": {},
   "outputs": [],
   "source": [
    "\n",
    "enzyme_family_class <- data.frame(gene_family=c(\"AlaAT\", \"AspAT\", \"CA\", \"DIC\", \"DIT\", \"NADMDH\", \"NADME\", \"NADPMDH\", \"NADPME\", \"NHD\", \"PEPCK\", \"PEPC\", \"PPDKRP\", \"PPDK\", \"PPT\", \"RBCS\", \"RCA\", \"BASS\"),\n",
    "                                  enzyme_class=c(\"variable\", \"variable\", \"core\", \"core\", \"variable\", \"variable\", \"variable\", \"variable\", \"variable\", \"variable\", \"core\", \"core\", \"core\", \"core\", \"core\", \"core\", \"core\", \"variable\"))\n"
   ]
  },
  {
   "cell_type": "code",
   "execution_count": null,
   "id": "5d89181e-61df-4465-a920-87330bf2e5a4",
   "metadata": {},
   "outputs": [],
   "source": [
    "per_loci_values <- generate_null_values_gene_models\n",
    "\n",
    "combined_df_models <- imap_dfr(per_loci_values, ~map_df(.x, ~.x %>% \n",
    "                                            mutate(inner_index = row_number()), \n",
    "                                            .id = \"nested_index\") %>% \n",
    "                        mutate(locus = .y))\n"
   ]
  },
  {
   "cell_type": "code",
   "execution_count": null,
   "id": "46ddcb56-0f4f-48d6-b0c7-45d9ecfd8bb3",
   "metadata": {},
   "outputs": [],
   "source": [
    "plot_real_counts <- real_count_numer\n"
   ]
  },
  {
   "cell_type": "code",
   "execution_count": null,
   "id": "4e3644ee-dd21-4977-a6a4-273d9e4b0f7d",
   "metadata": {},
   "outputs": [],
   "source": [
    "nested_null_values <- combined_df_models %>% \n",
    "    dplyr::select(-inner_index) %>% \n",
    "    group_by(locus, TF_ID) %>% \n",
    "    nest()\n",
    "\n",
    "combined_real_null <- left_join(real_count_numer, nested_null_values, by = c(\"locus\", \"TF_ID\"))"
   ]
  },
  {
   "cell_type": "code",
   "execution_count": null,
   "id": "bc26889c-0e21-4c6d-bdd6-a50fc1fc07bb",
   "metadata": {},
   "outputs": [],
   "source": [
    "pvals <- combined_real_null %>% \n",
    "    dplyr::rename(real_counts = counts) %>% \n",
    "    dplyr::rowwise() %>% \n",
    "    dplyr::mutate(passing_val = sum(data$counts > real_counts) + 1,\n",
    "                  length_null = length(data$counts) + 1,\n",
    "                 pval = passing_val/length_null )\n",
    "\n",
    "\n",
    "saveRDS(pvals, \n",
    "        file = \"/home/jpm73279/genome_downloads/C4_markers/shuffled_null_dist_storage/Uf.shuffled_null_dist.rds\")\n",
    "        "
   ]
  },
  {
   "cell_type": "code",
   "execution_count": null,
   "id": "119c3c71-db28-4a1e-bbb4-2378c23c272f",
   "metadata": {},
   "outputs": [],
   "source": [
    "pvals %>% \n",
    "    dplyr::filter(pval < .05) %>% \n",
    "    dplyr::select(-data)"
   ]
  },
  {
   "cell_type": "code",
   "execution_count": null,
   "id": "ba33ada3-23f0-453f-b40b-3163a8efcb76",
   "metadata": {},
   "outputs": [],
   "source": [
    "\n",
    "options(repr.plot.width=30, repr.plot.height=30)\n",
    "\n",
    "combined_df_models %>% \n",
    "    ggplot(., aes(x = counts, fill = type)) + \n",
    "    geom_density() + facet_grid(TF_ID~locus,   scales = \"free\") +\n",
    "    geom_vline(data = plot_real_counts, \n",
    "               aes(xintercept=(counts)),\n",
    "        linetype=\"dashed\", size=1)\n"
   ]
  },
  {
   "cell_type": "code",
   "execution_count": null,
   "id": "7d5a3bb1-1b70-414f-acc3-f23eb1cf86ca",
   "metadata": {},
   "outputs": [],
   "source": [
    "\n",
    "options(repr.plot.width=30, repr.plot.height=30)\n",
    "\n",
    "combined_df_models %>% \n",
    "    ggplot(., aes(x = counts, fill = type)) + \n",
    "    geom_density() + facet_grid(TF_ID~locus,   scales = \"free\") +\n",
    "    geom_vline(data = plot_real_counts, \n",
    "               aes(xintercept=(counts)),\n",
    "        linetype=\"dashed\", size=1)\n"
   ]
  },
  {
   "cell_type": "code",
   "execution_count": null,
   "id": "204d6574-e981-457a-8ce3-8568eb380aaf",
   "metadata": {},
   "outputs": [],
   "source": []
  }
 ],
 "metadata": {
  "kernelspec": {
   "display_name": "R",
   "language": "R",
   "name": "ir"
  },
  "language_info": {
   "codemirror_mode": "r",
   "file_extension": ".r",
   "mimetype": "text/x-r-source",
   "name": "R",
   "pygments_lexer": "r",
   "version": "4.1.3"
  }
 },
 "nbformat": 4,
 "nbformat_minor": 5
}
