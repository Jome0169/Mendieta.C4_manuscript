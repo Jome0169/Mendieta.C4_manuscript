{
 "cells": [
  {
   "cell_type": "code",
   "execution_count": 1,
   "id": "683a2dd6-d4bf-4092-807b-f964b35992f3",
   "metadata": {},
   "outputs": [
    {
     "name": "stderr",
     "output_type": "stream",
     "text": [
      "\n",
      "Attaching package: ‘dplyr’\n",
      "\n",
      "\n",
      "The following objects are masked from ‘package:stats’:\n",
      "\n",
      "    filter, lag\n",
      "\n",
      "\n",
      "The following objects are masked from ‘package:base’:\n",
      "\n",
      "    intersect, setdiff, setequal, union\n",
      "\n",
      "\n",
      "Loading required package: limma\n",
      "\n",
      "\n",
      "Attaching package: ‘gplots’\n",
      "\n",
      "\n",
      "The following object is masked from ‘package:stats’:\n",
      "\n",
      "    lowess\n",
      "\n",
      "\n",
      "\n",
      "Attaching package: ‘proxy’\n",
      "\n",
      "\n",
      "The following object is masked from ‘package:Matrix’:\n",
      "\n",
      "    as.matrix\n",
      "\n",
      "\n",
      "The following objects are masked from ‘package:stats’:\n",
      "\n",
      "    as.dist, dist\n",
      "\n",
      "\n",
      "The following object is masked from ‘package:base’:\n",
      "\n",
      "    as.matrix\n",
      "\n",
      "\n",
      "── \u001b[1mAttaching core tidyverse packages\u001b[22m ──────────────────────── tidyverse 2.0.0 ──\n",
      "\u001b[32m✔\u001b[39m \u001b[34mforcats  \u001b[39m 1.0.0.\u001b[31m9000\u001b[39m     \u001b[32m✔\u001b[39m \u001b[34mreadr    \u001b[39m 2.1.4     \n",
      "\u001b[32m✔\u001b[39m \u001b[34mggplot2  \u001b[39m 3.4.3          \u001b[32m✔\u001b[39m \u001b[34mstringr  \u001b[39m 1.5.0     \n",
      "\u001b[32m✔\u001b[39m \u001b[34mlubridate\u001b[39m 1.9.2          \u001b[32m✔\u001b[39m \u001b[34mtibble   \u001b[39m 3.2.1     \n",
      "\u001b[32m✔\u001b[39m \u001b[34mpurrr    \u001b[39m 1.0.2          \u001b[32m✔\u001b[39m \u001b[34mtidyr    \u001b[39m 1.3.0     \n",
      "── \u001b[1mConflicts\u001b[22m ────────────────────────────────────────── tidyverse_conflicts() ──\n",
      "\u001b[31m✖\u001b[39m \u001b[34mtidyr\u001b[39m::\u001b[32mexpand()\u001b[39m masks \u001b[34mMatrix\u001b[39m::expand()\n",
      "\u001b[31m✖\u001b[39m \u001b[34mdplyr\u001b[39m::\u001b[32mfilter()\u001b[39m masks \u001b[34mstats\u001b[39m::filter()\n",
      "\u001b[31m✖\u001b[39m \u001b[34mdplyr\u001b[39m::\u001b[32mlag()\u001b[39m    masks \u001b[34mstats\u001b[39m::lag()\n",
      "\u001b[31m✖\u001b[39m \u001b[34mtidyr\u001b[39m::\u001b[32mpack()\u001b[39m   masks \u001b[34mMatrix\u001b[39m::pack()\n",
      "\u001b[31m✖\u001b[39m \u001b[34mtidyr\u001b[39m::\u001b[32munpack()\u001b[39m masks \u001b[34mMatrix\u001b[39m::unpack()\n",
      "\u001b[36mℹ\u001b[39m Use the conflicted package (\u001b[3m\u001b[34m<http://conflicted.r-lib.org/>\u001b[39m\u001b[23m) to force all conflicts to become errors\n",
      "Loading required package: grid\n",
      "\n",
      "========================================\n",
      "ComplexHeatmap version 2.13.2\n",
      "Bioconductor page: http://bioconductor.org/packages/ComplexHeatmap/\n",
      "Github page: https://github.com/jokergoo/ComplexHeatmap\n",
      "Documentation: http://jokergoo.github.io/ComplexHeatmap-reference\n",
      "\n",
      "If you use it in published research, please cite either one:\n",
      "- Gu, Z. Complex heatmaps reveal patterns and correlations in multidimensional \n",
      "    genomic data. Bioinformatics 2016.\n",
      "- Gu, Z. Complex Heatmap Visualization. iMeta 2022.\n",
      "\n",
      "\n",
      "The new InteractiveComplexHeatmap package can directly export static \n",
      "complex heatmaps into an interactive Shiny app with zero effort. Have a try!\n",
      "\n",
      "This message can be suppressed by:\n",
      "  suppressPackageStartupMessages(library(ComplexHeatmap))\n",
      "========================================\n",
      "\n",
      "\n",
      "here() starts at /home/jpm73279/Mendieta_et_al_comparative_single_cell\n",
      "\n",
      "========================================\n",
      "circlize version 0.4.15\n",
      "CRAN page: https://cran.r-project.org/package=circlize\n",
      "Github page: https://github.com/jokergoo/circlize\n",
      "Documentation: https://jokergoo.github.io/circlize_book/book/\n",
      "\n",
      "If you use it in published research, please cite:\n",
      "Gu, Z. circlize implements and enhances circular visualization\n",
      "  in R. Bioinformatics 2014.\n",
      "\n",
      "This message can be suppressed by:\n",
      "  suppressPackageStartupMessages(library(circlize))\n",
      "========================================\n",
      "\n",
      "\n"
     ]
    }
   ],
   "source": [
    "# load libraries\n",
    "library(dplyr)\n",
    "library(\"edgeR\")\n",
    "library(Matrix)\n",
    "library(gplots)\n",
    "library(RColorBrewer)\n",
    "library(irlba)\n",
    "library(proxy)\n",
    "library(png)\n",
    "library(tidyverse)\n",
    "library(ComplexHeatmap)\n",
    "library(here)\n",
    "library(preprocessCore)\n",
    "library(circlize)\n",
    "`%ni%` <- Negate(`%in%`)"
   ]
  },
  {
   "cell_type": "code",
   "execution_count": 2,
   "id": "9c872498-ad31-4dbc-9d57-0d54ac7d39f8",
   "metadata": {},
   "outputs": [],
   "source": [
    "get_CPM_values <- function(input, meta, cell_annot_alot){\n",
    "  \n",
    "  meta_data <- read.delim(meta) %>% \n",
    "        rename(cell_type = !!sym(cell_annot_alot)) \n",
    "    \n",
    "    \n",
    "  raw_cpm_counts_all_genes <- read_delim(input, delim=\"\\t\", col_names = c(\"gene_name\", \"barcode\", \"accessability\")) %>%\n",
    "    dplyr::mutate(cellID = barcode)  %>%\n",
    "    dplyr::mutate(geneID = gene_name)\n",
    "    \n",
    "  merged_meta_cpm_information <- left_join(meta_data, raw_cpm_counts_all_genes, by = c(\"cellID\"))  %>%\n",
    "    group_by(cell_type, geneID)  %>%\n",
    "    summarise(counts = sum(accessability, na.rm = TRUE))\n",
    "\n",
    "  ### Alt CPM Calc\n",
    "  merged_meta_cpm_information_copied <- merged_meta_cpm_information\n",
    "  catch <- merged_meta_cpm_information_copied  %>%\n",
    "    group_by(cell_type) %>%\n",
    "    group_map(~(cpm(.x$counts, log = FALSE, group = .f)), .keep = TRUE)  %>%\n",
    "    unlist()\n",
    "\n",
    "  caught_values <- as_tibble(catch)\n",
    "  #see <- ungroup(merged_meta_cpm_information_copied)\n",
    "  merged_meta_cpm_information_copied <- bind_cols(merged_meta_cpm_information_copied, caught_values)  %>% \n",
    "    rename(grouped_CPM = value)\n",
    "    \n",
    "    \n",
    "  quantile_normalized_values <- merged_meta_cpm_information_copied %>% \n",
    "        group_by(cell_type) %>% \n",
    "        group_map(~(preprocessCore::normalize.quantiles(data.matrix(.x$grouped_CPM), copy = FALSE)), .keep = TRUE)  %>% \n",
    "        unlist()\n",
    "\n",
    "    \n",
    "    \n",
    "  quantile_normalized <- as_tibble(quantile_normalized_values)  %>% \n",
    "        dplyr::rename(\"quant_norm_cpm\" = value)\n",
    "\n",
    "\n",
    "  quantile_normalized_data <- bind_cols(merged_meta_cpm_information_copied, quantile_normalized) %>% \n",
    "        group_by(geneID)\n",
    "        #dplyr::mutate(Zscore = scale(quant_norm_cpm))\n",
    "\n",
    "\n",
    "\n",
    "  return(quantile_normalized_data)\n",
    "}\n",
    "\n"
   ]
  },
  {
   "cell_type": "code",
   "execution_count": null,
   "id": "0d46165e-f16b-4d6a-8dd3-ea59357b9cc5",
   "metadata": {},
   "outputs": [],
   "source": []
  },
  {
   "cell_type": "code",
   "execution_count": 3,
   "id": "1428a3ce-8df6-4cd5-928e-86f7018a71c5",
   "metadata": {},
   "outputs": [],
   "source": [
    "generate_matrix_for_heatmap <- function(cell_type_by_gene_by_quant_norm, markers) {\n",
    "    \n",
    "    \n",
    "    mat <- cell_type_by_gene_by_quant_norm %>%\n",
    "        dplyr::filter(cell_type %in% c(\"mesophyll\", \"bundle_sheath\")) %>% \n",
    "        dplyr::filter(geneID %in% markers$geneID) %>% \n",
    "        left_join(., markers, by = c(\"geneID\")) %>% \n",
    "        dplyr::ungroup() %>%   \n",
    "        dplyr::select(cell_type, name, quant_norm_cpm) %>% \n",
    "        pivot_wider(names_from = cell_type, values_from = quant_norm_cpm) %>% \n",
    "        dplyr::rowwise() %>% \n",
    "        dplyr::mutate(log2_val = log2(bundle_sheath/mesophyll)) %>% \n",
    "        dplyr::select(name, log2_val) \n",
    "}"
   ]
  },
  {
   "cell_type": "code",
   "execution_count": 4,
   "id": "375de66e-ff78-45f9-911f-f526dc88a37f",
   "metadata": {},
   "outputs": [],
   "source": [
    "output_location <- \"/home/jpm73279/data_copy_over/comparative_single_cell_imgs/figures/figure_2/heatmaps/\""
   ]
  },
  {
   "cell_type": "code",
   "execution_count": 5,
   "id": "c5ed77f5-af77-4b06-9927-0b3994b38ac4",
   "metadata": {},
   "outputs": [
    {
     "name": "stderr",
     "output_type": "stream",
     "text": [
      "\u001b[1mRows: \u001b[22m\u001b[34m31\u001b[39m \u001b[1mColumns: \u001b[22m\u001b[34m7\u001b[39m\n",
      "\u001b[36m──\u001b[39m \u001b[1mColumn specification\u001b[22m \u001b[36m────────────────────────────────────────────────────────\u001b[39m\n",
      "\u001b[1mDelimiter:\u001b[22m \"\\t\"\n",
      "\u001b[31mchr\u001b[39m (5): chrom, geneID, name, type, X7\n",
      "\u001b[32mdbl\u001b[39m (2): start, stop\n",
      "\n",
      "\u001b[36mℹ\u001b[39m Use `spec()` to retrieve the full column specification for this data.\n",
      "\u001b[36mℹ\u001b[39m Specify the column types or set `show_col_types = FALSE` to quiet this message.\n"
     ]
    }
   ],
   "source": [
    "uf_gene_activity <- \"/scratch/jpm73279/comparative_single_cell/04.marker_annotation/urochloa_fusca/acc_metrics_leaf_clustering/urochloa_fusca.gene_body_acc_leaf_clustering.counts.txt\"\n",
    "uf_meta <- \"/home/jpm73279/Mendieta_et_al_comparative_single_cell/metrics/annotations/uf_annot/uf.leaf_annotation.V1.meta.txt\"\n",
    "uf_marker_genes <- read_delim(\"/home/jpm73279/genome_downloads/C4_markers/Uf.c4_markers.bed\", delim = \"\\t\", col_names = c(\"chrom\", \"start\", \"stop\", \"geneID\", \"name\", \"type\"))\n"
   ]
  },
  {
   "cell_type": "code",
   "execution_count": 6,
   "id": "b72d4a91-a50e-48c0-a3f0-0b2e19067f46",
   "metadata": {},
   "outputs": [
    {
     "name": "stderr",
     "output_type": "stream",
     "text": [
      "\u001b[1mRows: \u001b[22m\u001b[34m73649352\u001b[39m \u001b[1mColumns: \u001b[22m\u001b[34m3\u001b[39m\n",
      "\u001b[36m──\u001b[39m \u001b[1mColumn specification\u001b[22m \u001b[36m────────────────────────────────────────────────────────\u001b[39m\n",
      "\u001b[1mDelimiter:\u001b[22m \"\\t\"\n",
      "\u001b[31mchr\u001b[39m (2): gene_name, barcode\n",
      "\u001b[32mdbl\u001b[39m (1): accessability\n",
      "\n",
      "\u001b[36mℹ\u001b[39m Use `spec()` to retrieve the full column specification for this data.\n",
      "\u001b[36mℹ\u001b[39m Specify the column types or set `show_col_types = FALSE` to quiet this message.\n",
      "\u001b[1m\u001b[22m`summarise()` has grouped output by 'cell_type'. You can override using the\n",
      "`.groups` argument.\n"
     ]
    }
   ],
   "source": [
    "uf_cpm_values <- get_CPM_values(uf_gene_activity, uf_meta, \"annotation_v1\")"
   ]
  },
  {
   "cell_type": "code",
   "execution_count": 7,
   "id": "a3848bf8-b5a2-4296-89ca-3e6a5f431690",
   "metadata": {},
   "outputs": [],
   "source": [
    "uf_C4_matrix <- generate_matrix_for_heatmap(uf_cpm_values, uf_marker_genes)"
   ]
  },
  {
   "cell_type": "code",
   "execution_count": 8,
   "id": "e67c393e-bac0-4f8f-b333-3d776aab896c",
   "metadata": {},
   "outputs": [],
   "source": [
    "uf_C4_matrix.df <- data.frame(uf_C4_matrix, row.names = 1)"
   ]
  },
  {
   "cell_type": "code",
   "execution_count": 9,
   "id": "53d36934-cfff-4763-84bb-843ba4bb378c",
   "metadata": {},
   "outputs": [],
   "source": [
    "# Function definition\n",
    "filter_tribble_by_name <- function(data, names) {\n",
    "  updated <- data %>%\n",
    "    filter(name %in% names)\n",
    "    \n",
    "    updated <- data.frame(updated, row.names = 1)\n",
    "    return(updated)\n",
    "}\n"
   ]
  },
  {
   "cell_type": "markdown",
   "id": "aafdecdf-9814-409a-bea3-d96eaf2ecd13",
   "metadata": {
    "tags": []
   },
   "source": [
    "# Generate Core C4 Gene Heatmaps"
   ]
  },
  {
   "cell_type": "code",
   "execution_count": 12,
   "id": "322c3469-5026-4ed4-a427-f5e79cb5b1c7",
   "metadata": {},
   "outputs": [],
   "source": [
    "col_fun <- colorRamp2(c(-2, 0, 2), c(\"red\", \"white\", \"blue\"))\n",
    "\n",
    "\n",
    "generate_split_heatmap <- function(log2matrix, df_marker_type) {\n",
    "    \n",
    "     updated <- log2matrix %>%\n",
    "        filter(name %in% df_marker_type$name) %>% \n",
    "        left_join(.,df_marker_type, by = c(\"name\")) %>% \n",
    "        dplyr::ungroup() %>% \n",
    "        dplyr::group_by(cell_type) %>% \n",
    "        dplyr::arrange(desc(log2_val), .by_group = TRUE) %>% \n",
    "        mutate(name = str_replace_all(name, \"_ortho_count_\", \"_\"))\n",
    "\n",
    "\n",
    "    return(updated)\n",
    "    \n",
    "}"
   ]
  },
  {
   "cell_type": "code",
   "execution_count": null,
   "id": "77316723-e41d-40b6-8600-4c5a16e0f584",
   "metadata": {},
   "outputs": [],
   "source": []
  },
  {
   "cell_type": "code",
   "execution_count": 13,
   "id": "9f836875-e3b3-487a-b950-f9898d19e98d",
   "metadata": {},
   "outputs": [
    {
     "data": {
      "image/png": "[encoded data removed]",
      "text/plain": [
       "plot without title"
      ]
     },
     "metadata": {
      "image/png": {
       "height": 420,
       "width": 420
      }
     },
     "output_type": "display_data"
    }
   ],
   "source": [
    "uf_marker_name_type <- data.frame(\n",
    "  name = c(\"Uf__CA_3\", \"Uf__CA_1\", \"Uf__CA_2\", \"Uf__DIC_1\", \"Uf__PEPC_1\", \"Uf__PEPC_2\", \n",
    "           \"Uf__PEPCK_1\", \"Uf__PPDK_1\", \"Uf__PPDKRP_1\", \"UF__PPT_1\", \"Uf__RBCS_1\", \n",
    "           \"Uf__RBCS_2\", \"Uf__RBCS_3\", \"Uf__RCA_1\"),\n",
    "  cell_type = c(\"Mesophyll\", \"Mesophyll\", \"Mesophyll\", \"Bundle Sheath\", \"Mesophyll\", \n",
    "                \"Mesophyll\", \"Bundle Sheath\", \"Mesophyll\", \"Mesophyll\", \"Mesophyll\", \n",
    "                \"Bundle Sheath\", \"Bundle Sheath\", \"Bundle Sheath\", \"Bundle Sheath\")\n",
    ")\n",
    "\n",
    "\n",
    "#uf_marker_name_type <- data.frame(name = names(uf_annot_markers), cell_type = unname(uf_annot_markers))\n",
    "\n",
    "uf_data_merged <- generate_split_heatmap(uf_C4_matrix, uf_marker_name_type)\n",
    "\n",
    "uf_generate_matrix <- as.matrix(uf_data_merged[,\"log2_val\"])\n",
    "rownames(uf_generate_matrix) <- uf_data_merged$name\n",
    "\n",
    "# create heatmap\n",
    "uf_heatmap <- Heatmap(uf_generate_matrix, name = \"log2_val\",\n",
    "                   col = col_fun,\n",
    "                   row_names_gp = gpar(fontsize = 10),\n",
    "                   split = uf_data_merged$cell_type,\n",
    "                    row_names_side = \"left\",\n",
    "                   show_row_names = TRUE,\n",
    "                   cluster_rows = FALSE,\n",
    "                   #row_title = \"Gene\",\n",
    "                   row_title = NULL,\n",
    "                   row_title_side = \"left\",\n",
    "                    left_annotation = rowAnnotation(foo = anno_block(gp = gpar(fill = c(\"#5894D4\", \"#E31A1C\")),\n",
    "                        labels = unique(uf_data_merged$cell_type), \n",
    "                        labels_gp = gpar(col = \"white\", fontsize = 10))),  \n",
    "                     column_title = \"Urochloa Fusca\",\n",
    "                   row_title_gp = gpar(fontsize = 14))\n",
    "\n",
    "uf_heatmap\n",
    "#draw(heatmap)"
   ]
  },
  {
   "cell_type": "markdown",
   "id": "140bf6be-1c0e-46b4-8462-758ad008afe7",
   "metadata": {
    "tags": []
   },
   "source": [
    "# Generate heatmap for Subtypes"
   ]
  },
  {
   "cell_type": "code",
   "execution_count": 16,
   "id": "a85d4028-b901-49a1-9297-9e4eb0a94486",
   "metadata": {},
   "outputs": [],
   "source": [
    "\n",
    "uf_annot_markers_subtype <- data.frame(\n",
    "  name = c(\"Uf__NADMDH_1\", \"Uf__AlaAT_1\", \"Uf__AlaAT_2\", \"Uf__AlaAT_3\", \"Uf__AlaAT_4\",\n",
    "           \"Uf__ASPAT_1\", \"Uf__ASPAT_2\", \"Uf__BASS_1\", \"Uf__DIT_1\", \"Uf__DIT_2\",\n",
    "           \"Uf__NADPMDH_1\", \"Uf__NADPME_1\", \"Uf__NHD_1\", \"Uf__PEPCK_1\",\n",
    "           \"Uf__NADME_1\", \"Uf__NADME_2\", \"Uf__BASS_2\"),\n",
    "  cell_type = c(\"Mesophyll\", \"Mesophyll, Bundle Sheath\", \"Mesophyll, Bundle Sheath\", \n",
    "                \"Mesophyll, Bundle Sheath\", \"Mesophyll, Bundle Sheath\",\n",
    "                \"Mesophyll, Bundle Sheath\", \"Mesophyll, Bundle Sheath\", \"Mesophyll\", \n",
    "                \"Mesophyll\", \"Bundle Sheath\", \"Mesophyll\",\n",
    "                \"Mesophyll, Bundle Sheath\", \"Mesophyll\", \"Bundle Sheath\",\n",
    "                \"Bundle Sheath\", \"Bundle Sheath\",\"Mesophyll\")\n",
    ")\n",
    "\n",
    "# Assuming your data frame is named df\n",
    "uf_annot_markers_subtype$cell_type <- as.factor(uf_annot_markers_subtype$cell_type)\n",
    "uf_annot_markers_subtype$cell_type <- factor(uf_annot_markers_subtype$cell_type, levels = c(\"Bundle Sheath\", \"Mesophyll, Bundle Sheath\", \"Mesophyll\"))    \n",
    "uf_annot_markers_subtype <-  uf_annot_markers_subtype %>% \n",
    "    arrange(cell_type)"
   ]
  },
  {
   "cell_type": "code",
   "execution_count": 17,
   "id": "144d9ba8-7fcd-4bde-9d87-1afc2b7aae76",
   "metadata": {},
   "outputs": [
    {
     "data": {
      "image/png": "[encoded data removed]",
      "text/plain": [
       "plot without title"
      ]
     },
     "metadata": {
      "image/png": {
       "height": 420,
       "width": 420
      }
     },
     "output_type": "display_data"
    }
   ],
   "source": [
    "uf_data_merged_subtype <- generate_split_heatmap(uf_C4_matrix, uf_annot_markers_subtype)\n",
    "uf_generate_matrix_subtype <- as.matrix(uf_data_merged_subtype[,\"log2_val\"])\n",
    "rownames(uf_generate_matrix_subtype) <- uf_data_merged_subtype$name\n",
    "\n",
    "# create heatmap\n",
    "uf_heatmap_subtype <- Heatmap(uf_generate_matrix_subtype, name = \"log2_val\",\n",
    "                   col = col_fun,\n",
    "                   row_names_gp = gpar(fontsize = 10),\n",
    "                   split = factor(uf_annot_markers_subtype$cell_type, levels = c(\"Bundle Sheath\", \"Mesophyll, Bundle Sheath\", \"Mesophyll\")),\n",
    "                    row_names_side = \"left\",\n",
    "                   show_row_names = TRUE,\n",
    "                   cluster_rows = FALSE,\n",
    "                   #row_title = \"Gene\",\n",
    "                   row_title = NULL,\n",
    "                   row_title_side = \"left\",\n",
    "                    left_annotation = rowAnnotation(foo = anno_block(gp = gpar(fill = c(\"#5894D4\",\"#CAB2D6\", \"#E31A1C\")),\n",
    "                        labels = unique((uf_annot_markers_subtype$cell_type)), \n",
    "                        labels_gp = gpar(col = \"white\", fontsize = 10))),  \n",
    "                     column_title = \"Urochloa Fusca\",\n",
    "                   row_title_gp = gpar(fontsize = 14))\n",
    "\n",
    "uf_heatmap_subtype\n",
    "#draw(heatmap)"
   ]
  },
  {
   "cell_type": "code",
   "execution_count": 18,
   "id": "9712c205-cd5f-4b2f-84c0-155abefcae80",
   "metadata": {},
   "outputs": [
    {
     "data": {
      "text/html": [
       "<table class=\"dataframe\">\n",
       "<caption>A grouped_df: 17 × 3</caption>\n",
       "<thead>\n",
       "\t<tr><th scope=col>name</th><th scope=col>log2_val</th><th scope=col>cell_type</th></tr>\n",
       "\t<tr><th scope=col>&lt;chr&gt;</th><th scope=col>&lt;dbl&gt;</th><th scope=col>&lt;fct&gt;</th></tr>\n",
       "</thead>\n",
       "<tbody>\n",
       "\t<tr><td>Uf__NADME_2  </td><td> 4.33433141</td><td>Bundle Sheath           </td></tr>\n",
       "\t<tr><td>Uf__NADME_1  </td><td> 3.32110751</td><td>Bundle Sheath           </td></tr>\n",
       "\t<tr><td>Uf__PEPCK_1  </td><td> 1.82619809</td><td>Bundle Sheath           </td></tr>\n",
       "\t<tr><td>Uf__DIT_2    </td><td> 0.19475463</td><td>Bundle Sheath           </td></tr>\n",
       "\t<tr><td>Uf__AlaAT_4  </td><td> 0.88286713</td><td>Mesophyll, Bundle Sheath</td></tr>\n",
       "\t<tr><td>Uf__NADPME_1 </td><td> 0.87182632</td><td>Mesophyll, Bundle Sheath</td></tr>\n",
       "\t<tr><td>Uf__AlaAT_3  </td><td> 0.65470185</td><td>Mesophyll, Bundle Sheath</td></tr>\n",
       "\t<tr><td>Uf__ASPAT_1  </td><td> 0.29620064</td><td>Mesophyll, Bundle Sheath</td></tr>\n",
       "\t<tr><td>Uf__ASPAT_2  </td><td> 0.05245264</td><td>Mesophyll, Bundle Sheath</td></tr>\n",
       "\t<tr><td>Uf__AlaAT_1  </td><td>-0.82281355</td><td>Mesophyll, Bundle Sheath</td></tr>\n",
       "\t<tr><td>Uf__AlaAT_2  </td><td>-0.90168689</td><td>Mesophyll, Bundle Sheath</td></tr>\n",
       "\t<tr><td>Uf__BASS_1   </td><td> 1.62169207</td><td>Mesophyll               </td></tr>\n",
       "\t<tr><td>Uf__DIT_1    </td><td> 0.03439328</td><td>Mesophyll               </td></tr>\n",
       "\t<tr><td>Uf__NADMDH_1 </td><td>-0.11283533</td><td>Mesophyll               </td></tr>\n",
       "\t<tr><td>Uf__BASS_2   </td><td>-1.67609091</td><td>Mesophyll               </td></tr>\n",
       "\t<tr><td>Uf__NADPMDH_1</td><td>-2.01613356</td><td>Mesophyll               </td></tr>\n",
       "\t<tr><td>Uf__NHD_1    </td><td>-2.26860128</td><td>Mesophyll               </td></tr>\n",
       "</tbody>\n",
       "</table>\n"
      ],
      "text/latex": [
       "A grouped\\_df: 17 × 3\n",
       "\\begin{tabular}{lll}\n",
       " name & log2\\_val & cell\\_type\\\\\n",
       " <chr> & <dbl> & <fct>\\\\\n",
       "\\hline\n",
       "\t Uf\\_\\_NADME\\_2   &  4.33433141 & Bundle Sheath           \\\\\n",
       "\t Uf\\_\\_NADME\\_1   &  3.32110751 & Bundle Sheath           \\\\\n",
       "\t Uf\\_\\_PEPCK\\_1   &  1.82619809 & Bundle Sheath           \\\\\n",
       "\t Uf\\_\\_DIT\\_2     &  0.19475463 & Bundle Sheath           \\\\\n",
       "\t Uf\\_\\_AlaAT\\_4   &  0.88286713 & Mesophyll, Bundle Sheath\\\\\n",
       "\t Uf\\_\\_NADPME\\_1  &  0.87182632 & Mesophyll, Bundle Sheath\\\\\n",
       "\t Uf\\_\\_AlaAT\\_3   &  0.65470185 & Mesophyll, Bundle Sheath\\\\\n",
       "\t Uf\\_\\_ASPAT\\_1   &  0.29620064 & Mesophyll, Bundle Sheath\\\\\n",
       "\t Uf\\_\\_ASPAT\\_2   &  0.05245264 & Mesophyll, Bundle Sheath\\\\\n",
       "\t Uf\\_\\_AlaAT\\_1   & -0.82281355 & Mesophyll, Bundle Sheath\\\\\n",
       "\t Uf\\_\\_AlaAT\\_2   & -0.90168689 & Mesophyll, Bundle Sheath\\\\\n",
       "\t Uf\\_\\_BASS\\_1    &  1.62169207 & Mesophyll               \\\\\n",
       "\t Uf\\_\\_DIT\\_1     &  0.03439328 & Mesophyll               \\\\\n",
       "\t Uf\\_\\_NADMDH\\_1  & -0.11283533 & Mesophyll               \\\\\n",
       "\t Uf\\_\\_BASS\\_2    & -1.67609091 & Mesophyll               \\\\\n",
       "\t Uf\\_\\_NADPMDH\\_1 & -2.01613356 & Mesophyll               \\\\\n",
       "\t Uf\\_\\_NHD\\_1     & -2.26860128 & Mesophyll               \\\\\n",
       "\\end{tabular}\n"
      ],
      "text/markdown": [
       "\n",
       "A grouped_df: 17 × 3\n",
       "\n",
       "| name &lt;chr&gt; | log2_val &lt;dbl&gt; | cell_type &lt;fct&gt; |\n",
       "|---|---|---|\n",
       "| Uf__NADME_2   |  4.33433141 | Bundle Sheath            |\n",
       "| Uf__NADME_1   |  3.32110751 | Bundle Sheath            |\n",
       "| Uf__PEPCK_1   |  1.82619809 | Bundle Sheath            |\n",
       "| Uf__DIT_2     |  0.19475463 | Bundle Sheath            |\n",
       "| Uf__AlaAT_4   |  0.88286713 | Mesophyll, Bundle Sheath |\n",
       "| Uf__NADPME_1  |  0.87182632 | Mesophyll, Bundle Sheath |\n",
       "| Uf__AlaAT_3   |  0.65470185 | Mesophyll, Bundle Sheath |\n",
       "| Uf__ASPAT_1   |  0.29620064 | Mesophyll, Bundle Sheath |\n",
       "| Uf__ASPAT_2   |  0.05245264 | Mesophyll, Bundle Sheath |\n",
       "| Uf__AlaAT_1   | -0.82281355 | Mesophyll, Bundle Sheath |\n",
       "| Uf__AlaAT_2   | -0.90168689 | Mesophyll, Bundle Sheath |\n",
       "| Uf__BASS_1    |  1.62169207 | Mesophyll                |\n",
       "| Uf__DIT_1     |  0.03439328 | Mesophyll                |\n",
       "| Uf__NADMDH_1  | -0.11283533 | Mesophyll                |\n",
       "| Uf__BASS_2    | -1.67609091 | Mesophyll                |\n",
       "| Uf__NADPMDH_1 | -2.01613356 | Mesophyll                |\n",
       "| Uf__NHD_1     | -2.26860128 | Mesophyll                |\n",
       "\n"
      ],
      "text/plain": [
       "   name          log2_val    cell_type               \n",
       "1  Uf__NADME_2    4.33433141 Bundle Sheath           \n",
       "2  Uf__NADME_1    3.32110751 Bundle Sheath           \n",
       "3  Uf__PEPCK_1    1.82619809 Bundle Sheath           \n",
       "4  Uf__DIT_2      0.19475463 Bundle Sheath           \n",
       "5  Uf__AlaAT_4    0.88286713 Mesophyll, Bundle Sheath\n",
       "6  Uf__NADPME_1   0.87182632 Mesophyll, Bundle Sheath\n",
       "7  Uf__AlaAT_3    0.65470185 Mesophyll, Bundle Sheath\n",
       "8  Uf__ASPAT_1    0.29620064 Mesophyll, Bundle Sheath\n",
       "9  Uf__ASPAT_2    0.05245264 Mesophyll, Bundle Sheath\n",
       "10 Uf__AlaAT_1   -0.82281355 Mesophyll, Bundle Sheath\n",
       "11 Uf__AlaAT_2   -0.90168689 Mesophyll, Bundle Sheath\n",
       "12 Uf__BASS_1     1.62169207 Mesophyll               \n",
       "13 Uf__DIT_1      0.03439328 Mesophyll               \n",
       "14 Uf__NADMDH_1  -0.11283533 Mesophyll               \n",
       "15 Uf__BASS_2    -1.67609091 Mesophyll               \n",
       "16 Uf__NADPMDH_1 -2.01613356 Mesophyll               \n",
       "17 Uf__NHD_1     -2.26860128 Mesophyll               "
      ]
     },
     "metadata": {},
     "output_type": "display_data"
    }
   ],
   "source": [
    "uf_data_merged_subtype"
   ]
  },
  {
   "cell_type": "code",
   "execution_count": 19,
   "id": "c244ac3b-f29f-489c-8613-b6b084e7af31",
   "metadata": {},
   "outputs": [],
   "source": [
    "output_function <- function(output_place, heatmap, name) {\n",
    "    file_name <- paste0(output_place, name)\n",
    "    pdf(file = file_name, height = 6, width = 4)\n",
    "    draw(heatmap)\n",
    "    dev.off()\n",
    "}"
   ]
  },
  {
   "cell_type": "code",
   "execution_count": 20,
   "id": "37fa698c-f737-4d83-81a2-8f59a48e60ce",
   "metadata": {},
   "outputs": [
    {
     "data": {
      "text/html": [
       "<strong>png:</strong> 2"
      ],
      "text/latex": [
       "\\textbf{png:} 2"
      ],
      "text/markdown": [
       "**png:** 2"
      ],
      "text/plain": [
       "png \n",
       "  2 "
      ]
     },
     "metadata": {},
     "output_type": "display_data"
    },
    {
     "data": {
      "text/html": [
       "<strong>png:</strong> 2"
      ],
      "text/latex": [
       "\\textbf{png:} 2"
      ],
      "text/markdown": [
       "**png:** 2"
      ],
      "text/plain": [
       "png \n",
       "  2 "
      ]
     },
     "metadata": {},
     "output_type": "display_data"
    }
   ],
   "source": [
    "output_function(output_location, uf_heatmap, \"uf_core_c4_genes.pdf\")\n",
    "output_function(output_location, uf_heatmap_subtype, \"uf_variable_c4_genes.pdf\")"
   ]
  },
  {
   "cell_type": "code",
   "execution_count": null,
   "id": "fd6a7159-14c0-4e3b-905f-e20282fc4ccb",
   "metadata": {},
   "outputs": [],
   "source": []
  }
 ],
 "metadata": {
  "kernelspec": {
   "display_name": "R",
   "language": "R",
   "name": "ir"
  },
  "language_info": {
   "codemirror_mode": "r",
   "file_extension": ".r",
   "mimetype": "text/x-r-source",
   "name": "R",
   "pygments_lexer": "r",
   "version": "4.1.3"
  }
 },
 "nbformat": 4,
 "nbformat_minor": 5
}
