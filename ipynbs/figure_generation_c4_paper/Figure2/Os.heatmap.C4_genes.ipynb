{
 "cells": [
  {
   "cell_type": "code",
   "execution_count": 1,
   "id": "683a2dd6-d4bf-4092-807b-f964b35992f3",
   "metadata": {},
   "outputs": [
    {
     "name": "stderr",
     "output_type": "stream",
     "text": [
      "\n",
      "Attaching package: ‘dplyr’\n",
      "\n",
      "\n",
      "The following objects are masked from ‘package:stats’:\n",
      "\n",
      "    filter, lag\n",
      "\n",
      "\n",
      "The following objects are masked from ‘package:base’:\n",
      "\n",
      "    intersect, setdiff, setequal, union\n",
      "\n",
      "\n",
      "Loading required package: limma\n",
      "\n",
      "\n",
      "Attaching package: ‘gplots’\n",
      "\n",
      "\n",
      "The following object is masked from ‘package:stats’:\n",
      "\n",
      "    lowess\n",
      "\n",
      "\n",
      "\n",
      "Attaching package: ‘proxy’\n",
      "\n",
      "\n",
      "The following object is masked from ‘package:Matrix’:\n",
      "\n",
      "    as.matrix\n",
      "\n",
      "\n",
      "The following objects are masked from ‘package:stats’:\n",
      "\n",
      "    as.dist, dist\n",
      "\n",
      "\n",
      "The following object is masked from ‘package:base’:\n",
      "\n",
      "    as.matrix\n",
      "\n",
      "\n",
      "── \u001b[1mAttaching core tidyverse packages\u001b[22m ──────────────────────── tidyverse 2.0.0 ──\n",
      "\u001b[32m✔\u001b[39m \u001b[34mforcats  \u001b[39m 1.0.0.\u001b[31m9000\u001b[39m     \u001b[32m✔\u001b[39m \u001b[34mreadr    \u001b[39m 2.1.4     \n",
      "\u001b[32m✔\u001b[39m \u001b[34mggplot2  \u001b[39m 3.4.3          \u001b[32m✔\u001b[39m \u001b[34mstringr  \u001b[39m 1.5.0     \n",
      "\u001b[32m✔\u001b[39m \u001b[34mlubridate\u001b[39m 1.9.2          \u001b[32m✔\u001b[39m \u001b[34mtibble   \u001b[39m 3.2.1     \n",
      "\u001b[32m✔\u001b[39m \u001b[34mpurrr    \u001b[39m 1.0.2          \u001b[32m✔\u001b[39m \u001b[34mtidyr    \u001b[39m 1.3.0     \n",
      "── \u001b[1mConflicts\u001b[22m ────────────────────────────────────────── tidyverse_conflicts() ──\n",
      "\u001b[31m✖\u001b[39m \u001b[34mtidyr\u001b[39m::\u001b[32mexpand()\u001b[39m masks \u001b[34mMatrix\u001b[39m::expand()\n",
      "\u001b[31m✖\u001b[39m \u001b[34mdplyr\u001b[39m::\u001b[32mfilter()\u001b[39m masks \u001b[34mstats\u001b[39m::filter()\n",
      "\u001b[31m✖\u001b[39m \u001b[34mdplyr\u001b[39m::\u001b[32mlag()\u001b[39m    masks \u001b[34mstats\u001b[39m::lag()\n",
      "\u001b[31m✖\u001b[39m \u001b[34mtidyr\u001b[39m::\u001b[32mpack()\u001b[39m   masks \u001b[34mMatrix\u001b[39m::pack()\n",
      "\u001b[31m✖\u001b[39m \u001b[34mtidyr\u001b[39m::\u001b[32munpack()\u001b[39m masks \u001b[34mMatrix\u001b[39m::unpack()\n",
      "\u001b[36mℹ\u001b[39m Use the conflicted package (\u001b[3m\u001b[34m<http://conflicted.r-lib.org/>\u001b[39m\u001b[23m) to force all conflicts to become errors\n",
      "Loading required package: grid\n",
      "\n",
      "========================================\n",
      "ComplexHeatmap version 2.13.2\n",
      "Bioconductor page: http://bioconductor.org/packages/ComplexHeatmap/\n",
      "Github page: https://github.com/jokergoo/ComplexHeatmap\n",
      "Documentation: http://jokergoo.github.io/ComplexHeatmap-reference\n",
      "\n",
      "If you use it in published research, please cite either one:\n",
      "- Gu, Z. Complex heatmaps reveal patterns and correlations in multidimensional \n",
      "    genomic data. Bioinformatics 2016.\n",
      "- Gu, Z. Complex Heatmap Visualization. iMeta 2022.\n",
      "\n",
      "\n",
      "The new InteractiveComplexHeatmap package can directly export static \n",
      "complex heatmaps into an interactive Shiny app with zero effort. Have a try!\n",
      "\n",
      "This message can be suppressed by:\n",
      "  suppressPackageStartupMessages(library(ComplexHeatmap))\n",
      "========================================\n",
      "\n",
      "\n",
      "here() starts at /home/jpm73279/Mendieta_et_al_comparative_single_cell\n",
      "\n",
      "========================================\n",
      "circlize version 0.4.15\n",
      "CRAN page: https://cran.r-project.org/package=circlize\n",
      "Github page: https://github.com/jokergoo/circlize\n",
      "Documentation: https://jokergoo.github.io/circlize_book/book/\n",
      "\n",
      "If you use it in published research, please cite:\n",
      "Gu, Z. circlize implements and enhances circular visualization\n",
      "  in R. Bioinformatics 2014.\n",
      "\n",
      "This message can be suppressed by:\n",
      "  suppressPackageStartupMessages(library(circlize))\n",
      "========================================\n",
      "\n",
      "\n"
     ]
    }
   ],
   "source": [
    "# load libraries\n",
    "library(dplyr)\n",
    "library(\"edgeR\")\n",
    "library(Matrix)\n",
    "library(gplots)\n",
    "library(RColorBrewer)\n",
    "library(irlba)\n",
    "library(proxy)\n",
    "library(png)\n",
    "library(tidyverse)\n",
    "library(ComplexHeatmap)\n",
    "library(here)\n",
    "library(preprocessCore)\n",
    "library(circlize)\n",
    "`%ni%` <- Negate(`%in%`)"
   ]
  },
  {
   "cell_type": "code",
   "execution_count": 2,
   "id": "9c872498-ad31-4dbc-9d57-0d54ac7d39f8",
   "metadata": {},
   "outputs": [],
   "source": [
    "get_CPM_values <- function(input, meta, cell_annot_alot){\n",
    "  \n",
    "  meta_data <- read.delim(meta) %>% \n",
    "        rename(cell_type = !!sym(cell_annot_alot)) \n",
    "    \n",
    "    \n",
    "  raw_cpm_counts_all_genes <- read_delim(input, delim=\"\\t\", col_names = c(\"gene_name\", \"barcode\", \"accessability\")) %>%\n",
    "    dplyr::mutate(cellID = barcode)  %>%\n",
    "    dplyr::mutate(geneID = gene_name)\n",
    "    \n",
    "  merged_meta_cpm_information <- left_join(meta_data, raw_cpm_counts_all_genes, by = c(\"cellID\"))  %>%\n",
    "    group_by(cell_type, geneID)  %>%\n",
    "    summarise(counts = sum(accessability, na.rm = TRUE))\n",
    "\n",
    "  ### Alt CPM Calc\n",
    "  merged_meta_cpm_information_copied <- merged_meta_cpm_information\n",
    "  catch <- merged_meta_cpm_information_copied  %>%\n",
    "    group_by(cell_type) %>%\n",
    "    group_map(~(cpm(.x$counts, log = FALSE, group = .f)), .keep = TRUE)  %>%\n",
    "    unlist()\n",
    "\n",
    "  caught_values <- as_tibble(catch)\n",
    "  #see <- ungroup(merged_meta_cpm_information_copied)\n",
    "  merged_meta_cpm_information_copied <- bind_cols(merged_meta_cpm_information_copied, caught_values)  %>% \n",
    "    rename(grouped_CPM = value)\n",
    "    \n",
    "    \n",
    "  quantile_normalized_values <- merged_meta_cpm_information_copied %>% \n",
    "        group_by(cell_type) %>% \n",
    "        group_map(~(preprocessCore::normalize.quantiles(data.matrix(.x$grouped_CPM), copy = FALSE)), .keep = TRUE)  %>% \n",
    "        unlist()\n",
    "\n",
    "    \n",
    "    \n",
    "  quantile_normalized <- as_tibble(quantile_normalized_values)  %>% \n",
    "        dplyr::rename(\"quant_norm_cpm\" = value)\n",
    "\n",
    "\n",
    "  quantile_normalized_data <- bind_cols(merged_meta_cpm_information_copied, quantile_normalized) %>% \n",
    "        group_by(geneID)\n",
    "        #dplyr::mutate(Zscore = scale(quant_norm_cpm))\n",
    "\n",
    "\n",
    "\n",
    "  return(quantile_normalized_data)\n",
    "}\n",
    "\n"
   ]
  },
  {
   "cell_type": "code",
   "execution_count": null,
   "id": "0d46165e-f16b-4d6a-8dd3-ea59357b9cc5",
   "metadata": {},
   "outputs": [],
   "source": []
  },
  {
   "cell_type": "code",
   "execution_count": 4,
   "id": "1428a3ce-8df6-4cd5-928e-86f7018a71c5",
   "metadata": {},
   "outputs": [],
   "source": [
    "generate_matrix_for_heatmap <- function(cell_type_by_gene_by_quant_norm, markers) {\n",
    "    \n",
    "    \n",
    "    mat <- cell_type_by_gene_by_quant_norm %>%\n",
    "        dplyr::filter(cell_type %in% c(\"mesophyll\", \"bundle_sheath\")) %>% \n",
    "        dplyr::filter(geneID %in% markers$geneID) %>% \n",
    "        left_join(., markers, by = c(\"geneID\")) %>% \n",
    "        dplyr::ungroup() %>%   \n",
    "        dplyr::select(cell_type, name, quant_norm_cpm) %>% \n",
    "        pivot_wider(names_from = cell_type, values_from = quant_norm_cpm) %>% \n",
    "        dplyr::rowwise() %>% \n",
    "        dplyr::mutate(log2_val = log2(bundle_sheath/mesophyll)) %>% \n",
    "        dplyr::select(name, log2_val) \n",
    "}"
   ]
  },
  {
   "cell_type": "code",
   "execution_count": 5,
   "id": "375de66e-ff78-45f9-911f-f526dc88a37f",
   "metadata": {},
   "outputs": [],
   "source": [
    "output_location <- \"/home/jpm73279/data_copy_over/comparative_single_cell_imgs/figures/figure_2/heatmaps/\""
   ]
  },
  {
   "cell_type": "code",
   "execution_count": null,
   "id": "4ba3f574-2141-499d-888a-e3e0b4bd965e",
   "metadata": {},
   "outputs": [],
   "source": []
  },
  {
   "cell_type": "code",
   "execution_count": 6,
   "id": "22bb24a6-f23a-40a8-b3e6-d33623868e89",
   "metadata": {},
   "outputs": [],
   "source": [
    "os_gene_activity <- \"/scratch/jpm73279/comparative_single_cell/04.marker_annotation/oryza_sativa/acc_metrics_leaf_clusering/oryza_sativa.gene_body_acc_leaf_clusering.counts.txt\"\n",
    "os_meta <- \"/home/jpm73279/Mendieta_et_al_comparative_single_cell/metrics/annotations/os_annot/os.leaf_annotation.V1.meta.txt\""
   ]
  },
  {
   "cell_type": "code",
   "execution_count": 12,
   "id": "825a8c46-564b-4869-a4ae-0738479f7c0c",
   "metadata": {},
   "outputs": [
    {
     "name": "stderr",
     "output_type": "stream",
     "text": [
      "\u001b[1mRows: \u001b[22m\u001b[34m29\u001b[39m \u001b[1mColumns: \u001b[22m\u001b[34m6\u001b[39m\n",
      "\u001b[36m──\u001b[39m \u001b[1mColumn specification\u001b[22m \u001b[36m────────────────────────────────────────────────────────\u001b[39m\n",
      "\u001b[1mDelimiter:\u001b[22m \"\\t\"\n",
      "\u001b[31mchr\u001b[39m (4): chrom, geneID, name, type\n",
      "\u001b[32mdbl\u001b[39m (2): start, stop\n",
      "\n",
      "\u001b[36mℹ\u001b[39m Use `spec()` to retrieve the full column specification for this data.\n",
      "\u001b[36mℹ\u001b[39m Specify the column types or set `show_col_types = FALSE` to quiet this message.\n"
     ]
    }
   ],
   "source": [
    "os_marker_genes <- read_delim(\"/home/jpm73279/genome_downloads/C4_markers/Os.c4_markers.bed\",, col_names = c(\"chrom\", \"start\", \"stop\", \"geneID\", \"name\", \"type\"))"
   ]
  },
  {
   "cell_type": "code",
   "execution_count": 13,
   "id": "0fb011d2-46f4-4314-9aa2-7048b7239856",
   "metadata": {},
   "outputs": [
    {
     "name": "stderr",
     "output_type": "stream",
     "text": [
      "\u001b[1mRows: \u001b[22m\u001b[34m102767261\u001b[39m \u001b[1mColumns: \u001b[22m\u001b[34m3\u001b[39m\n",
      "\u001b[36m──\u001b[39m \u001b[1mColumn specification\u001b[22m \u001b[36m────────────────────────────────────────────────────────\u001b[39m\n",
      "\u001b[1mDelimiter:\u001b[22m \"\\t\"\n",
      "\u001b[31mchr\u001b[39m (2): gene_name, barcode\n",
      "\u001b[32mdbl\u001b[39m (1): accessability\n",
      "\n",
      "\u001b[36mℹ\u001b[39m Use `spec()` to retrieve the full column specification for this data.\n",
      "\u001b[36mℹ\u001b[39m Specify the column types or set `show_col_types = FALSE` to quiet this message.\n",
      "\u001b[1m\u001b[22m`summarise()` has grouped output by 'cell_type'. You can override using the\n",
      "`.groups` argument.\n"
     ]
    }
   ],
   "source": [
    "os_cpm_values <- get_CPM_values(os_gene_activity, os_meta, \"annotation_v1\")"
   ]
  },
  {
   "cell_type": "code",
   "execution_count": 11,
   "id": "a368bcb2-65a5-44bd-81a2-36e60eb4a338",
   "metadata": {},
   "outputs": [
    {
     "data": {
      "text/html": [
       "<table class=\"dataframe\">\n",
       "<caption>A tibble: 6 × 6</caption>\n",
       "<thead>\n",
       "\t<tr><th scope=col>Chr1</th><th scope=col>25692716</th><th scope=col>25705090</th><th scope=col>LOC_Os01g45274</th><th scope=col>Os__CA_1</th><th scope=col>mesophyll</th></tr>\n",
       "\t<tr><th scope=col>&lt;chr&gt;</th><th scope=col>&lt;dbl&gt;</th><th scope=col>&lt;dbl&gt;</th><th scope=col>&lt;chr&gt;</th><th scope=col>&lt;chr&gt;</th><th scope=col>&lt;chr&gt;</th></tr>\n",
       "</thead>\n",
       "<tbody>\n",
       "\t<tr><td>Chr9 </td><td>17567631</td><td>17572392</td><td>LOC_Os09g28910</td><td>Os__CA_2    </td><td>mesophyll              </td></tr>\n",
       "\t<tr><td>Chr5 </td><td>28617594</td><td>28621585</td><td>LOC_Os05g49880</td><td>Os__NADMDH_2</td><td>mesophyll,bundle_sheath</td></tr>\n",
       "\t<tr><td>Chr10</td><td>12977396</td><td>12982478</td><td>LOC_Os10g25140</td><td>Os__AlaAT_1 </td><td>bundle_sheath          </td></tr>\n",
       "\t<tr><td>Chr10</td><td>12967816</td><td>12974250</td><td>LOC_Os10g25130</td><td>Os__AlaAT_2 </td><td>mesophyll              </td></tr>\n",
       "\t<tr><td>Chr7 </td><td>25492716</td><td>25497544</td><td>LOC_Os07g42600</td><td>Os__AlaAT_3 </td><td>mesophyll              </td></tr>\n",
       "\t<tr><td>Chr7 </td><td>  446618</td><td>  451162</td><td>LOC_Os07g01760</td><td>Os__AlaAT_4 </td><td>mesophyll              </td></tr>\n",
       "</tbody>\n",
       "</table>\n"
      ],
      "text/latex": [
       "A tibble: 6 × 6\n",
       "\\begin{tabular}{llllll}\n",
       " Chr1 & 25692716 & 25705090 & LOC\\_Os01g45274 & Os\\_\\_CA\\_1 & mesophyll\\\\\n",
       " <chr> & <dbl> & <dbl> & <chr> & <chr> & <chr>\\\\\n",
       "\\hline\n",
       "\t Chr9  & 17567631 & 17572392 & LOC\\_Os09g28910 & Os\\_\\_CA\\_2     & mesophyll              \\\\\n",
       "\t Chr5  & 28617594 & 28621585 & LOC\\_Os05g49880 & Os\\_\\_NADMDH\\_2 & mesophyll,bundle\\_sheath\\\\\n",
       "\t Chr10 & 12977396 & 12982478 & LOC\\_Os10g25140 & Os\\_\\_AlaAT\\_1  & bundle\\_sheath          \\\\\n",
       "\t Chr10 & 12967816 & 12974250 & LOC\\_Os10g25130 & Os\\_\\_AlaAT\\_2  & mesophyll              \\\\\n",
       "\t Chr7  & 25492716 & 25497544 & LOC\\_Os07g42600 & Os\\_\\_AlaAT\\_3  & mesophyll              \\\\\n",
       "\t Chr7  &   446618 &   451162 & LOC\\_Os07g01760 & Os\\_\\_AlaAT\\_4  & mesophyll              \\\\\n",
       "\\end{tabular}\n"
      ],
      "text/markdown": [
       "\n",
       "A tibble: 6 × 6\n",
       "\n",
       "| Chr1 &lt;chr&gt; | 25692716 &lt;dbl&gt; | 25705090 &lt;dbl&gt; | LOC_Os01g45274 &lt;chr&gt; | Os__CA_1 &lt;chr&gt; | mesophyll &lt;chr&gt; |\n",
       "|---|---|---|---|---|---|\n",
       "| Chr9  | 17567631 | 17572392 | LOC_Os09g28910 | Os__CA_2     | mesophyll               |\n",
       "| Chr5  | 28617594 | 28621585 | LOC_Os05g49880 | Os__NADMDH_2 | mesophyll,bundle_sheath |\n",
       "| Chr10 | 12977396 | 12982478 | LOC_Os10g25140 | Os__AlaAT_1  | bundle_sheath           |\n",
       "| Chr10 | 12967816 | 12974250 | LOC_Os10g25130 | Os__AlaAT_2  | mesophyll               |\n",
       "| Chr7  | 25492716 | 25497544 | LOC_Os07g42600 | Os__AlaAT_3  | mesophyll               |\n",
       "| Chr7  |   446618 |   451162 | LOC_Os07g01760 | Os__AlaAT_4  | mesophyll               |\n",
       "\n"
      ],
      "text/plain": [
       "  Chr1  25692716 25705090 LOC_Os01g45274 Os__CA_1     mesophyll              \n",
       "1 Chr9  17567631 17572392 LOC_Os09g28910 Os__CA_2     mesophyll              \n",
       "2 Chr5  28617594 28621585 LOC_Os05g49880 Os__NADMDH_2 mesophyll,bundle_sheath\n",
       "3 Chr10 12977396 12982478 LOC_Os10g25140 Os__AlaAT_1  bundle_sheath          \n",
       "4 Chr10 12967816 12974250 LOC_Os10g25130 Os__AlaAT_2  mesophyll              \n",
       "5 Chr7  25492716 25497544 LOC_Os07g42600 Os__AlaAT_3  mesophyll              \n",
       "6 Chr7    446618   451162 LOC_Os07g01760 Os__AlaAT_4  mesophyll              "
      ]
     },
     "metadata": {},
     "output_type": "display_data"
    }
   ],
   "source": [
    "head(os_marker_genes)"
   ]
  },
  {
   "cell_type": "code",
   "execution_count": 14,
   "id": "695a436f-dbd8-48c5-b9d3-14d4b463c39b",
   "metadata": {},
   "outputs": [],
   "source": [
    "os_C4_matrix <- generate_matrix_for_heatmap(os_cpm_values, os_marker_genes)\n",
    "os_C4_matrix.df <- data.frame(os_C4_matrix, row.names = 1)"
   ]
  },
  {
   "cell_type": "code",
   "execution_count": 15,
   "id": "53d36934-cfff-4763-84bb-843ba4bb378c",
   "metadata": {},
   "outputs": [],
   "source": [
    "# Function definition\n",
    "filter_tribble_by_name <- function(data, names) {\n",
    "  updated <- data %>%\n",
    "    filter(name %in% names)\n",
    "    \n",
    "    updated <- data.frame(updated, row.names = 1)\n",
    "    return(updated)\n",
    "}\n"
   ]
  },
  {
   "cell_type": "markdown",
   "id": "aafdecdf-9814-409a-bea3-d96eaf2ecd13",
   "metadata": {
    "tags": []
   },
   "source": [
    "# Generate Core C4 Gene Heatmaps"
   ]
  },
  {
   "cell_type": "code",
   "execution_count": 16,
   "id": "322c3469-5026-4ed4-a427-f5e79cb5b1c7",
   "metadata": {},
   "outputs": [],
   "source": [
    "col_fun <- colorRamp2(c(-2, 0, 2), c(\"red\", \"white\", \"blue\"))\n",
    "\n",
    "\n",
    "generate_split_heatmap <- function(log2matrix, df_marker_type) {\n",
    "    \n",
    "     updated <- log2matrix %>%\n",
    "        filter(name %in% df_marker_type$name) %>% \n",
    "        left_join(.,df_marker_type, by = c(\"name\")) %>% \n",
    "        dplyr::group_by(cell_type) %>% \n",
    "        dplyr::arrange(desc(log2_val), .by_group = TRUE) %>% \n",
    "        mutate(name = str_replace_all(name, \"_ortho_count_\", \"_\"))\n",
    "\n",
    "\n",
    "    return(updated)\n",
    "    \n",
    "}"
   ]
  },
  {
   "cell_type": "code",
   "execution_count": null,
   "id": "3bd4264e-094e-4801-b784-250a5be36a11",
   "metadata": {},
   "outputs": [],
   "source": []
  },
  {
   "cell_type": "code",
   "execution_count": 20,
   "id": "5e82d64a-018e-43e9-afda-77b868fffaf5",
   "metadata": {},
   "outputs": [
    {
     "data": {
      "image/png": "[encoded data removed]",
      "text/plain": [
       "plot without title"
      ]
     },
     "metadata": {
      "image/png": {
       "height": 420,
       "width": 420
      }
     },
     "output_type": "display_data"
    }
   ],
   "source": [
    "os_genes <- data.frame(\n",
    "  name = c(\"Os__CA_1\", \"Os__CA_2\", \"Os__DIC_1\", \"Os__DIC_2\", \"Os__DIC_3\",\n",
    "           \"Os__DIT_1\", \"Os__DIT_2\", \"Os__PEPC_1\", \"Os__PEPCK_1\", \"Os__PPDK_1\",\n",
    "           \"Os__PPDKRP_1\", \"Os__PPT_1\", \"Os__RBCS_1\", \"Os__RBCS_2\", \"Os__RBCS_3\", \n",
    "           \"Os__RCA_1\"),\n",
    "  cell_type = rep(\"Mesophyll\", 16)\n",
    ")\n",
    "\n",
    "os_data_merged <- generate_split_heatmap(os_C4_matrix ,os_genes)\n",
    "os_data_merged <- os_data_merged %>%  \n",
    "    dplyr::mutate(name = case_when(name == \"Osppc4\" ~ \"PEPC\",\n",
    "                                   TRUE ~ name))\n",
    "\n",
    "\n",
    "os_data_generate_matrix <- as.matrix(os_data_merged[,\"log2_val\"])\n",
    "rownames(os_data_generate_matrix) <- os_data_merged$name\n",
    "\n",
    "# create heatmap\n",
    "os_heatmap <- Heatmap(os_data_generate_matrix, name = \"log2_val\",\n",
    "                   col = col_fun,\n",
    "                   row_names_gp = gpar(fontsize = 10),\n",
    "                   split = os_data_merged$cell_type,\n",
    "                    row_names_side = \"left\",\n",
    "                   show_row_names = TRUE,\n",
    "                   cluster_rows = FALSE,\n",
    "                    row_title = NULL,\n",
    "\n",
    "                   #row_title = \"Gene\",\n",
    "                   row_title_side = \"left\",\n",
    "                    left_annotation = rowAnnotation(foo = anno_block(gp = gpar(fill = c(\"#E31A1C\")),\n",
    "                        labels = unique(os_data_merged$cell_type), \n",
    "                        labels_gp = gpar(col = \"white\", fontsize = 10))),  \n",
    "                     column_title = \"Oryza sativa\",\n",
    "                   row_title_gp = gpar(fontsize = 14))\n",
    "\n",
    "\n",
    "os_heatmap"
   ]
  },
  {
   "cell_type": "markdown",
   "id": "140bf6be-1c0e-46b4-8462-758ad008afe7",
   "metadata": {},
   "source": [
    "# Generate heatmap for Subtypes"
   ]
  },
  {
   "cell_type": "code",
   "execution_count": 25,
   "id": "345a1764-657c-456c-b59e-f99b0287b8f0",
   "metadata": {},
   "outputs": [
    {
     "data": {
      "text/html": [
       "<table class=\"dataframe\">\n",
       "<caption>A data.frame: 12 × 2</caption>\n",
       "<thead>\n",
       "\t<tr><th scope=col>name</th><th scope=col>cell_type</th></tr>\n",
       "\t<tr><th scope=col>&lt;chr&gt;</th><th scope=col>&lt;fct&gt;</th></tr>\n",
       "</thead>\n",
       "<tbody>\n",
       "\t<tr><td>NHD1__NHD2            </td><td>Mesophyll, Bundle Sheath</td></tr>\n",
       "\t<tr><td>BASS                  </td><td>Mesophyll, Bundle Sheath</td></tr>\n",
       "\t<tr><td>DIT1                  </td><td>Mesophyll, Bundle Sheath</td></tr>\n",
       "\t<tr><td>DIT2                  </td><td>Mesophyll, Bundle Sheath</td></tr>\n",
       "\t<tr><td>NAD-MDH12             </td><td>Mesophyll, Bundle Sheath</td></tr>\n",
       "\t<tr><td>NAD-ME_1__NAD-ME_2    </td><td>Mesophyll               </td></tr>\n",
       "\t<tr><td>NADP-MDH_1__NADP-MDH_2</td><td>Mesophyll               </td></tr>\n",
       "\t<tr><td>NADP_MDH              </td><td>Mesophyll               </td></tr>\n",
       "\t<tr><td>AlaAT1                </td><td>Mesophyll               </td></tr>\n",
       "\t<tr><td>AlaAT2                </td><td>Mesophyll               </td></tr>\n",
       "\t<tr><td>AspAT_1__AspAT_2      </td><td>Mesophyll               </td></tr>\n",
       "\t<tr><td>AspAT_3__AspAT_4      </td><td>Mesophyll               </td></tr>\n",
       "</tbody>\n",
       "</table>\n"
      ],
      "text/latex": [
       "A data.frame: 12 × 2\n",
       "\\begin{tabular}{ll}\n",
       " name & cell\\_type\\\\\n",
       " <chr> & <fct>\\\\\n",
       "\\hline\n",
       "\t NHD1\\_\\_NHD2             & Mesophyll, Bundle Sheath\\\\\n",
       "\t BASS                   & Mesophyll, Bundle Sheath\\\\\n",
       "\t DIT1                   & Mesophyll, Bundle Sheath\\\\\n",
       "\t DIT2                   & Mesophyll, Bundle Sheath\\\\\n",
       "\t NAD-MDH12              & Mesophyll, Bundle Sheath\\\\\n",
       "\t NAD-ME\\_1\\_\\_NAD-ME\\_2     & Mesophyll               \\\\\n",
       "\t NADP-MDH\\_1\\_\\_NADP-MDH\\_2 & Mesophyll               \\\\\n",
       "\t NADP\\_MDH               & Mesophyll               \\\\\n",
       "\t AlaAT1                 & Mesophyll               \\\\\n",
       "\t AlaAT2                 & Mesophyll               \\\\\n",
       "\t AspAT\\_1\\_\\_AspAT\\_2       & Mesophyll               \\\\\n",
       "\t AspAT\\_3\\_\\_AspAT\\_4       & Mesophyll               \\\\\n",
       "\\end{tabular}\n"
      ],
      "text/markdown": [
       "\n",
       "A data.frame: 12 × 2\n",
       "\n",
       "| name &lt;chr&gt; | cell_type &lt;fct&gt; |\n",
       "|---|---|\n",
       "| NHD1__NHD2             | Mesophyll, Bundle Sheath |\n",
       "| BASS                   | Mesophyll, Bundle Sheath |\n",
       "| DIT1                   | Mesophyll, Bundle Sheath |\n",
       "| DIT2                   | Mesophyll, Bundle Sheath |\n",
       "| NAD-MDH12              | Mesophyll, Bundle Sheath |\n",
       "| NAD-ME_1__NAD-ME_2     | Mesophyll                |\n",
       "| NADP-MDH_1__NADP-MDH_2 | Mesophyll                |\n",
       "| NADP_MDH               | Mesophyll                |\n",
       "| AlaAT1                 | Mesophyll                |\n",
       "| AlaAT2                 | Mesophyll                |\n",
       "| AspAT_1__AspAT_2       | Mesophyll                |\n",
       "| AspAT_3__AspAT_4       | Mesophyll                |\n",
       "\n"
      ],
      "text/plain": [
       "   name                   cell_type               \n",
       "1  NHD1__NHD2             Mesophyll, Bundle Sheath\n",
       "2  BASS                   Mesophyll, Bundle Sheath\n",
       "3  DIT1                   Mesophyll, Bundle Sheath\n",
       "4  DIT2                   Mesophyll, Bundle Sheath\n",
       "5  NAD-MDH12              Mesophyll, Bundle Sheath\n",
       "6  NAD-ME_1__NAD-ME_2     Mesophyll               \n",
       "7  NADP-MDH_1__NADP-MDH_2 Mesophyll               \n",
       "8  NADP_MDH               Mesophyll               \n",
       "9  AlaAT1                 Mesophyll               \n",
       "10 AlaAT2                 Mesophyll               \n",
       "11 AspAT_1__AspAT_2       Mesophyll               \n",
       "12 AspAT_3__AspAT_4       Mesophyll               "
      ]
     },
     "metadata": {},
     "output_type": "display_data"
    }
   ],
   "source": [
    "os_annot_markers_subtype"
   ]
  },
  {
   "cell_type": "code",
   "execution_count": 19,
   "id": "cf843250-fba6-44b7-9d81-913659f6b886",
   "metadata": {},
   "outputs": [
    {
     "data": {
      "image/png": "[encoded data removed]",
      "text/plain": [
       "plot without title"
      ]
     },
     "metadata": {
      "image/png": {
       "height": 420,
       "width": 420
      }
     },
     "output_type": "display_data"
    }
   ],
   "source": [
    "\n",
    "os_annot_markers_subtype <- data.frame(\n",
    "  name = c(\"Os__NADMDH_2\", \"Os__AlaAT_1\", \"Os__AlaAT_2\", \"Os__AlaAT_3\", \"Os__AlaAT_4\",\n",
    "           \"Os__AspAT_1\", \"Os__AspAT_2\", \"Os__BASS_1\", \"Os__DIT_1\", \"Os__DIT_2\",\n",
    "           \"Os__NADPMDH_1\", \"Os__NADPME_1\", \"Os__NHD_1\", \"Os__NADMDH_1\"),\n",
    "  cell_type = rep(\"Mesophyll, Bundle Sheath\", 14)\n",
    ")\n",
    "\n",
    "# Assuming your data frame is named df\n",
    "os_annot_markers_subtype$cell_type <- as.factor(os_annot_markers_subtype$cell_type)\n",
    "os_annot_markers_subtype$cell_type <- factor(os_annot_markers_subtype$cell_type, levels = c(\"Mesophyll, Bundle Sheath\", \"Mesophyll\"))    \n",
    "os_annot_markers_subtype <-  os_annot_markers_subtype %>% \n",
    "    arrange(cell_type)\n",
    "\n",
    "\n",
    "os_data_merged_subtype <- generate_split_heatmap(os_C4_matrix, os_annot_markers_subtype)\n",
    "os_generate_matrix_subtype <- as.matrix(os_data_merged_subtype[,\"log2_val\"])\n",
    "rownames(os_generate_matrix_subtype) <- os_data_merged_subtype$name\n",
    "\n",
    "# create heatmap\n",
    "os_heatmap_subtype <- Heatmap(os_generate_matrix_subtype, name = \"log2_val\",\n",
    "                   col = col_fun,\n",
    "                   row_names_gp = gpar(fontsize = 10),\n",
    "                   split = factor(os_annot_markers_subtype$cell_type, levels = c(\"Mesophyll, Bundle Sheath\", \"Mesophyll\")),\n",
    "                    row_names_side = \"left\",\n",
    "                   show_row_names = TRUE,\n",
    "                   cluster_rows = FALSE,\n",
    "                   #row_title = \"Gene\",\n",
    "                   row_title = NULL,\n",
    "                   row_title_side = \"left\",\n",
    "                    left_annotation = rowAnnotation(foo = anno_block(gp = gpar(fill = c(\"#5894D4\", \"#E31A1C\")),\n",
    "                        labels = unique((os_annot_markers_subtype$cell_type)), \n",
    "                        labels_gp = gpar(col = \"white\", fontsize = 10))),  \n",
    "                     column_title = \"Oryza sativa\",\n",
    "                   row_title_gp = gpar(fontsize = 14))\n",
    "\n",
    "os_heatmap_subtype\n",
    "#draw(heatmap)"
   ]
  },
  {
   "cell_type": "code",
   "execution_count": 21,
   "id": "c244ac3b-f29f-489c-8613-b6b084e7af31",
   "metadata": {},
   "outputs": [],
   "source": [
    "output_function <- function(output_place, heatmap, name) {\n",
    "    file_name <- paste0(output_place, name)\n",
    "    pdf(file = file_name, height = 6, width = 4)\n",
    "    draw(heatmap)\n",
    "    dev.off()\n",
    "}"
   ]
  },
  {
   "cell_type": "code",
   "execution_count": 22,
   "id": "95c18a89-9247-42fb-9793-2c1d7f659f3c",
   "metadata": {},
   "outputs": [
    {
     "data": {
      "text/html": [
       "<strong>png:</strong> 2"
      ],
      "text/latex": [
       "\\textbf{png:} 2"
      ],
      "text/markdown": [
       "**png:** 2"
      ],
      "text/plain": [
       "png \n",
       "  2 "
      ]
     },
     "metadata": {},
     "output_type": "display_data"
    },
    {
     "data": {
      "text/html": [
       "<strong>png:</strong> 2"
      ],
      "text/latex": [
       "\\textbf{png:} 2"
      ],
      "text/markdown": [
       "**png:** 2"
      ],
      "text/plain": [
       "png \n",
       "  2 "
      ]
     },
     "metadata": {},
     "output_type": "display_data"
    }
   ],
   "source": [
    "output_function(output_location, os_heatmap, \"os_core_c4_genes.pdf\")\n",
    "output_function(output_location, os_heatmap_subtype, \"os_variable_c4_genes.pdf\")"
   ]
  },
  {
   "cell_type": "code",
   "execution_count": null,
   "id": "d8d5380d-c510-494d-8a8e-44f9d92b9f46",
   "metadata": {},
   "outputs": [],
   "source": []
  }
 ],
 "metadata": {
  "kernelspec": {
   "display_name": "R",
   "language": "R",
   "name": "ir"
  },
  "language_info": {
   "codemirror_mode": "r",
   "file_extension": ".r",
   "mimetype": "text/x-r-source",
   "name": "R",
   "pygments_lexer": "r",
   "version": "4.1.3"
  }
 },
 "nbformat": 4,
 "nbformat_minor": 5
}
